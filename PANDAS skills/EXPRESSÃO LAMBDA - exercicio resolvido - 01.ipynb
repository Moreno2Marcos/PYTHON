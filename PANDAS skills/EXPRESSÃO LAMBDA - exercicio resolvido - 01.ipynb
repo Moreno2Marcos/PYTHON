{
 "cells": [
  {
   "cell_type": "markdown",
   "id": "bd2eca38",
   "metadata": {},
   "source": [
    "# Problema de Negócio"
   ]
  },
  {
   "cell_type": "markdown",
   "id": "da92a122",
   "metadata": {},
   "source": [
    "Tem-se o cojunto de dados (Base_vendas.xlsx) de uma loja que vende produtos. Arrendondar a coluna \"Pr_Unit\" a duas casas decimais."
   ]
  },
  {
   "cell_type": "markdown",
   "id": "353342a0",
   "metadata": {},
   "source": [
    "# Análise Exploratória de Dados"
   ]
  },
  {
   "cell_type": "code",
   "execution_count": 1,
   "id": "c78780d8",
   "metadata": {},
   "outputs": [],
   "source": [
    "# importa as dependecias\n",
    "import pandas as pd"
   ]
  },
  {
   "cell_type": "code",
   "execution_count": 10,
   "id": "51da4840",
   "metadata": {},
   "outputs": [
    {
     "data": {
      "text/html": [
       "<div>\n",
       "<style scoped>\n",
       "    .dataframe tbody tr th:only-of-type {\n",
       "        vertical-align: middle;\n",
       "    }\n",
       "\n",
       "    .dataframe tbody tr th {\n",
       "        vertical-align: top;\n",
       "    }\n",
       "\n",
       "    .dataframe thead th {\n",
       "        text-align: right;\n",
       "    }\n",
       "</style>\n",
       "<table border=\"1\" class=\"dataframe\">\n",
       "  <thead>\n",
       "    <tr style=\"text-align: right;\">\n",
       "      <th></th>\n",
       "      <th>Dt_Venda</th>\n",
       "      <th>Cod_prod</th>\n",
       "      <th>Cod_Cliente</th>\n",
       "      <th>Pr_custo</th>\n",
       "      <th>Pr_Unit</th>\n",
       "      <th>Qtde</th>\n",
       "      <th>Situacao</th>\n",
       "      <th>Cod_Canal_vendas</th>\n",
       "      <th>Cod_Vend</th>\n",
       "    </tr>\n",
       "  </thead>\n",
       "  <tbody>\n",
       "    <tr>\n",
       "      <th>0</th>\n",
       "      <td>2017-01-06</td>\n",
       "      <td>2</td>\n",
       "      <td>8</td>\n",
       "      <td>1.09858</td>\n",
       "      <td>1.1564</td>\n",
       "      <td>63</td>\n",
       "      <td>N</td>\n",
       "      <td>2</td>\n",
       "      <td>8.0</td>\n",
       "    </tr>\n",
       "    <tr>\n",
       "      <th>1</th>\n",
       "      <td>2017-01-06</td>\n",
       "      <td>5</td>\n",
       "      <td>7</td>\n",
       "      <td>3.02596</td>\n",
       "      <td>4.3228</td>\n",
       "      <td>21</td>\n",
       "      <td>N</td>\n",
       "      <td>1</td>\n",
       "      <td>7.0</td>\n",
       "    </tr>\n",
       "    <tr>\n",
       "      <th>2</th>\n",
       "      <td>2017-01-06</td>\n",
       "      <td>6</td>\n",
       "      <td>2</td>\n",
       "      <td>2.79300</td>\n",
       "      <td>2.9400</td>\n",
       "      <td>93</td>\n",
       "      <td>N</td>\n",
       "      <td>2</td>\n",
       "      <td>2.0</td>\n",
       "    </tr>\n",
       "  </tbody>\n",
       "</table>\n",
       "</div>"
      ],
      "text/plain": [
       "    Dt_Venda  Cod_prod  Cod_Cliente  Pr_custo  Pr_Unit  Qtde Situacao  \\\n",
       "0 2017-01-06         2            8   1.09858   1.1564    63        N   \n",
       "1 2017-01-06         5            7   3.02596   4.3228    21        N   \n",
       "2 2017-01-06         6            2   2.79300   2.9400    93        N   \n",
       "\n",
       "   Cod_Canal_vendas  Cod_Vend  \n",
       "0                 2       8.0  \n",
       "1                 1       7.0  \n",
       "2                 2       2.0  "
      ]
     },
     "execution_count": 10,
     "metadata": {},
     "output_type": "execute_result"
    }
   ],
   "source": [
    "# carrega os dados\n",
    "fVendas = pd.read_excel('Base_vendas.xlsx', sheet_name=0)\n",
    "fVendas.head(3)"
   ]
  },
  {
   "cell_type": "code",
   "execution_count": 3,
   "id": "5dfcab60",
   "metadata": {},
   "outputs": [
    {
     "name": "stdout",
     "output_type": "stream",
     "text": [
      "<class 'pandas.core.frame.DataFrame'>\n",
      "RangeIndex: 14416 entries, 0 to 14415\n",
      "Data columns (total 9 columns):\n",
      " #   Column            Non-Null Count  Dtype         \n",
      "---  ------            --------------  -----         \n",
      " 0   Dt_Venda          14416 non-null  datetime64[ns]\n",
      " 1   Cod_prod          14416 non-null  int64         \n",
      " 2   Cod_Cliente       14416 non-null  int64         \n",
      " 3   Pr_custo          14416 non-null  float64       \n",
      " 4   Pr_Unit           14416 non-null  float64       \n",
      " 5   Qtde              14416 non-null  int64         \n",
      " 6   Situacao          14416 non-null  object        \n",
      " 7   Cod_Canal_vendas  14416 non-null  int64         \n",
      " 8   Cod_Vend          12954 non-null  float64       \n",
      "dtypes: datetime64[ns](1), float64(3), int64(4), object(1)\n",
      "memory usage: 1013.8+ KB\n"
     ]
    }
   ],
   "source": [
    "# verifica a consistência dos dados\n",
    "fVendas.info()"
   ]
  },
  {
   "cell_type": "markdown",
   "id": "62d6099d",
   "metadata": {},
   "source": [
    "# Limpeza de Dados"
   ]
  },
  {
   "cell_type": "code",
   "execution_count": 11,
   "id": "193d7f9c",
   "metadata": {},
   "outputs": [],
   "source": [
    "# apaga o registro com pelo menos um valor em branco\n",
    "fVendas.dropna(how='any', axis=0, inplace=True)"
   ]
  },
  {
   "cell_type": "code",
   "execution_count": 12,
   "id": "5291a530",
   "metadata": {
    "scrolled": false
   },
   "outputs": [],
   "source": [
    "# transforma o tipo de dado para inteiro\n",
    "fVendas['Cod_Vend'] = fVendas['Cod_Vend'].astype('int64')"
   ]
  },
  {
   "cell_type": "code",
   "execution_count": 8,
   "id": "cceeb424",
   "metadata": {},
   "outputs": [
    {
     "data": {
      "text/html": [
       "<div>\n",
       "<style scoped>\n",
       "    .dataframe tbody tr th:only-of-type {\n",
       "        vertical-align: middle;\n",
       "    }\n",
       "\n",
       "    .dataframe tbody tr th {\n",
       "        vertical-align: top;\n",
       "    }\n",
       "\n",
       "    .dataframe thead th {\n",
       "        text-align: right;\n",
       "    }\n",
       "</style>\n",
       "<table border=\"1\" class=\"dataframe\">\n",
       "  <thead>\n",
       "    <tr style=\"text-align: right;\">\n",
       "      <th></th>\n",
       "      <th>Dt_Venda</th>\n",
       "      <th>Cod_prod</th>\n",
       "      <th>Cod_Cliente</th>\n",
       "      <th>Pr_custo</th>\n",
       "      <th>Pr_Unit</th>\n",
       "      <th>Qtde</th>\n",
       "      <th>Situacao</th>\n",
       "      <th>Cod_Canal_vendas</th>\n",
       "      <th>Cod_Vend</th>\n",
       "    </tr>\n",
       "  </thead>\n",
       "  <tbody>\n",
       "    <tr>\n",
       "      <th>0</th>\n",
       "      <td>2017-01-06</td>\n",
       "      <td>2</td>\n",
       "      <td>8</td>\n",
       "      <td>1.10</td>\n",
       "      <td>1.16</td>\n",
       "      <td>63</td>\n",
       "      <td>N</td>\n",
       "      <td>2</td>\n",
       "      <td>8</td>\n",
       "    </tr>\n",
       "    <tr>\n",
       "      <th>1</th>\n",
       "      <td>2017-01-06</td>\n",
       "      <td>5</td>\n",
       "      <td>7</td>\n",
       "      <td>3.03</td>\n",
       "      <td>4.32</td>\n",
       "      <td>21</td>\n",
       "      <td>N</td>\n",
       "      <td>1</td>\n",
       "      <td>7</td>\n",
       "    </tr>\n",
       "    <tr>\n",
       "      <th>2</th>\n",
       "      <td>2017-01-06</td>\n",
       "      <td>6</td>\n",
       "      <td>2</td>\n",
       "      <td>2.79</td>\n",
       "      <td>2.94</td>\n",
       "      <td>93</td>\n",
       "      <td>N</td>\n",
       "      <td>2</td>\n",
       "      <td>2</td>\n",
       "    </tr>\n",
       "  </tbody>\n",
       "</table>\n",
       "</div>"
      ],
      "text/plain": [
       "    Dt_Venda  Cod_prod  Cod_Cliente  Pr_custo  Pr_Unit  Qtde Situacao  \\\n",
       "0 2017-01-06         2            8      1.10     1.16    63        N   \n",
       "1 2017-01-06         5            7      3.03     4.32    21        N   \n",
       "2 2017-01-06         6            2      2.79     2.94    93        N   \n",
       "\n",
       "   Cod_Canal_vendas  Cod_Vend  \n",
       "0                 2         8  \n",
       "1                 1         7  \n",
       "2                 2         2  "
      ]
     },
     "execution_count": 8,
     "metadata": {},
     "output_type": "execute_result"
    }
   ],
   "source": [
    "# arendonda a duas casas decimais\n",
    "fVendas[['Pr_custo', 'Pr_Unit']] = fVendas[['Pr_custo', 'Pr_Unit']].apply(func=lambda x: round(x, 2), axis=0)\n",
    "fVendas.head(3)"
   ]
  }
 ],
 "metadata": {
  "kernelspec": {
   "display_name": "Python 3 (ipykernel)",
   "language": "python",
   "name": "python3"
  },
  "language_info": {
   "codemirror_mode": {
    "name": "ipython",
    "version": 3
   },
   "file_extension": ".py",
   "mimetype": "text/x-python",
   "name": "python",
   "nbconvert_exporter": "python",
   "pygments_lexer": "ipython3",
   "version": "3.10.4"
  }
 },
 "nbformat": 4,
 "nbformat_minor": 5
}

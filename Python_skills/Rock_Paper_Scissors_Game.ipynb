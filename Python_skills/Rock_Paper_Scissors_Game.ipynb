{
 "cells": [
  {
   "cell_type": "markdown",
   "id": "7cccecf2-e001-40a2-b6c2-f0f0ba18bac8",
   "metadata": {
    "jp-MarkdownHeadingCollapsed": true
   },
   "source": [
    "### Narrative logic solution (v1)\n",
    "\n",
    "1. Input player 1 (Rock, Paper or Scissors)\n",
    "2. Input player 2 (Rock, Paper or Scissors)\n",
    "\n",
    "3. If player 1 chosen Rock and player 2 chosen Paper then: player 2 wins\n",
    "4. If player 1 chosen Rock and player 2 chosen Rock then: tie\n",
    "5. If player 1 chosen Rock and player 2 chosen Scissors then: player 1 wins\n",
    "6. If player 1 chosen Paper and player 2 chosen Rock then: player 1 wins\n",
    "7. If player 1 chosen Paper and player 2 chosen Paper then: tie\n",
    "8. If player 1 chosen Paper and player 2 chosen Scissors then: player 2 wins\n",
    "9. If player 1 chosen Scissors and player 2 chosen Rock then: player 2 wins\n",
    "10. If player 1 chosen Scissors and player 2 chosen Paper then: player 1 wins\n",
    "11. If player 1 chosen Scissors and player 2 chosen Scissors then: tie"
   ]
  },
  {
   "cell_type": "markdown",
   "id": "fd3510c5-8a74-435f-89de-ea1d617f0cad",
   "metadata": {},
   "source": [
    "### Version 1"
   ]
  },
  {
   "cell_type": "code",
   "execution_count": 1,
   "id": "fb5f2803-cede-4533-8966-c27ad00bee2c",
   "metadata": {},
   "outputs": [
    {
     "name": "stdin",
     "output_type": "stream",
     "text": [
      "(Player 1) Digit one of the three hand's shapes (Rock, Paper or Scissors):  Rock\n",
      "(Player 2) Digit one of the three hand's shapes (Rock, Paper or Scissors):  Paper\n"
     ]
    },
    {
     "name": "stdout",
     "output_type": "stream",
     "text": [
      "Player 2 wins\n"
     ]
    }
   ],
   "source": [
    "# 1. Input player 1 (Rock, Paper or Scissors)\n",
    "player1 = input( \"(Player 1) Digit one of the three hand's shapes (Rock, Paper or Scissors): \" )\n",
    "\n",
    "# 2. Input player 2 (Rock, Paper or Scissors)\n",
    "player2 = input( \"(Player 2) Digit one of the three hand's shapes (Rock, Paper or Scissors): \" )\n",
    "\n",
    "# 3. If player 1 chosen Rock and player 2 chosen Paper then: player 2 wins\n",
    "if player1 == \"Rock\" and player2 == \"Paper\":\n",
    "    print(\"Player 2 wins\")\n",
    "    \n",
    "# 4. If player 1 chosen Rock and player 2 chosen Rock then: tie\n",
    "if player1 == \"Rock\" and player2 == \"Rock\":\n",
    "    print(\"Tie\")  \n",
    "    \n",
    "# 5. If player 1 chosen Rock and player 2 chosen Scissors then: player 1 wins\n",
    "if player1 == \"Rock\" and player2 == \"Scissors\":\n",
    "    print(\"Player 1 wins\")\n",
    "    \n",
    "# 6. If player 1 chosen Paper and player 2 chosen Rock then: player 1 wins\n",
    "if player1 == \"Paper\" and player2 == \"Rock\":\n",
    "    print(\"Player 1 wins\")\n",
    "    \n",
    "# 7. If player 1 chosen Paper and player 2 chosen Paper then: tie\n",
    "if player1 == \"Paper\" and player2 == \"Paper\":\n",
    "    print(\"Tie\")\n",
    "    \n",
    "# 8. If player 1 chosen Paper and player 2 chosen Scissors then: player 2 wins\n",
    "if player1 == \"Paper\" and player2 == \"Scissors\":\n",
    "    print(\"Player 2 wins\")\n",
    "    \n",
    "# 9. If player 1 chosen Scissors and player 2 chosen Rock then: player 2 wins\n",
    "if player1 == \"Scissors\" and player2 == \"Rock\":\n",
    "    print(\"Player 2 wins\")\n",
    "    \n",
    "# 10. If player 1 chosen Scissors and player 2 chosen Paper then: player 1 wins\n",
    "if player1 == \"Scissors\" and player2 == \"Paper\":\n",
    "    print(\"Player 1 wins\")\n",
    "    \n",
    "# 11. If player 1 chosen Scissors and player 2 chosen Scissors then: tie\n",
    "if player1 == \"Scissors\" and player2 == \"Scissors\":\n",
    "    print(\"Tie\")"
   ]
  },
  {
   "cell_type": "markdown",
   "id": "8480a36c-a69f-4b8d-8745-50fa9e6a906b",
   "metadata": {},
   "source": [
    "### Version 2"
   ]
  },
  {
   "cell_type": "code",
   "execution_count": 24,
   "id": "f28f1f79-4288-4ae4-906a-0e60ce24fda7",
   "metadata": {},
   "outputs": [
    {
     "name": "stdout",
     "output_type": "stream",
     "text": [
      "This is a very simple simulation in Pyhton about the Rock, Paper and Scissors Game. Each palyer must choose one of the following options:\n",
      "\n",
      "         - Rock\n",
      "         - Paper\n",
      "         - Scissors\n",
      "\n"
     ]
    },
    {
     "name": "stdin",
     "output_type": "stream",
     "text": [
      "(Player 1) Digit one of the three hand's shapes options above:  banana\n",
      "(Player 2) Digit one of the three hand's shapes options above:  rock\n"
     ]
    }
   ],
   "source": [
    "# 0. Present the game\n",
    "print(\"\"\"This is a very simple simulation in Pyhton about the Rock, Paper and Scissors Game. Each palyer must choose one of the following options:\\n\n",
    "         - Rock\n",
    "         - Paper\n",
    "         - Scissors\\n\"\"\")\n",
    "\n",
    "# 1. Input player 1 (Rock, Paper or Scissors)\n",
    "player1 = input( \"(Player 1) Digit one of the three hand's shapes options above: \" ).strip().lower()\n",
    "\n",
    "# 2. Input player 2 (Rock, Paper or Scissors)\n",
    "player2 = input( \"(Player 2) Digit one of the three hand's shapes options above: \" ).strip().lower()\n",
    "\n",
    "# 3. If player 1 chosen Rock and player 2 chosen Paper then: player 2 wins\n",
    "if player1 == \"rock\" and player2 == \"paper\":\n",
    "    print(\"\\nPlayer 2 wins\")\n",
    "elif player1 == \"rock\" and player2 == \"rock\":  # 3.1. If player 1 chosen Rock and player 2 chosen Rock then: tie\n",
    "    print(\"\\nTie\")  \n",
    "elif player1 == \"rock\" and player2 == \"scissors\":  # 3.2. If player 1 chosen Rock and player 2 chosen Scissors then: player 1 wins\n",
    "    print(\"\\nPlayer 1 wins\")\n",
    "elif player1 == \"paper\" and player2 == \"rock\":  # 3.3. If player 1 chosen Paper and player 2 chosen Rock then: player 1 wins\n",
    "    print(\"\\nPlayer 1 wins\")\n",
    "elif player1 == \"paper\" and player2 == \"paper\":  # 3.4. If player 1 chosen Paper and player 2 chosen Paper then: tie\n",
    "    print(\"\\nTie\")\n",
    "elif player1 == \"paper\" and player2 == \"scissors\":  # 3.5. If player 1 chosen Paper and player 2 chosen Scissors then: player 2 wins\n",
    "    print(\"\\nPlayer 2 wins\")\n",
    "elif player1 == \"scissors\" and player2 == \"rock\":  # 3.6. If player 1 chosen Scissors and player 2 chosen Rock then: player 2 wins\n",
    "    print(\"\\nPlayer 2 wins\")\n",
    "elif player1 == \"scissors\" and player2 == \"paper\":  # 3.7. If player 1 chosen Scissors and player 2 chosen Paper then: player 1 wins\n",
    "    print(\"\\nPlayer 1 wins\")\n",
    "elif player1 == \"scissors\" and player2 == \"scissors\":  # 3.8. If player 1 chosen Scissors and player 2 chosen Scissors then: tie\n",
    "    print(\"\\nTie\")"
   ]
  },
  {
   "cell_type": "markdown",
   "id": "068412b1-7c74-45c7-9c59-1ee86d36bd79",
   "metadata": {},
   "source": [
    "### Narrative logic solution (v2)\n",
    "\n",
    "1. Present the game and rules\n",
    "2. Input player 1 (Rock, Paper or Scissors)\n",
    "3. Input player 2 (Rock, Paper or Scissors)\n",
    "4. Verify if the inputs are correct\n",
    "- 4.1. IF the player 1 and 2 choose the same, it is a tie\n",
    "> 4.1.1. Player 1 wins If satisfy all possibilites to win (see the rules of the game)\n",
    "> \n",
    "> 4.1.2. Else the player 2 wins"
   ]
  },
  {
   "cell_type": "markdown",
   "id": "a10afb72-100f-4f0f-b38a-30ade61e8c7c",
   "metadata": {},
   "source": [
    "### Version 3"
   ]
  },
  {
   "cell_type": "code",
   "execution_count": 45,
   "id": "d00963c2-38ed-4c77-87e5-f2c311fd971a",
   "metadata": {},
   "outputs": [
    {
     "name": "stdout",
     "output_type": "stream",
     "text": [
      "**************************************************************************************************** \n",
      "\n",
      "This is a very simple simulation in Pyhton about the Rock, Paper and Scissors Game. \n",
      "     This game is normally played bewteen 2 players. Each player must choose one of the following options:\n",
      "\n",
      "         - Rock\n",
      "         - Paper\n",
      "         - Scissors\n",
      "\n",
      "         The rules are:\n",
      "         1. Rock beats scissors\n",
      "         2. Scissors beat paper\n",
      "         3. Paper beats rock \n",
      "         \n",
      "****************************************************************************************************\n",
      "\n"
     ]
    },
    {
     "name": "stdin",
     "output_type": "stream",
     "text": [
      "(Player 1) Digit one of the three hand's shapes options above:  rock\n",
      "(Player 2) Digit one of the three hand's shapes options above:  scissors\n"
     ]
    },
    {
     "name": "stdout",
     "output_type": "stream",
     "text": [
      "\n",
      "Player 1 wins!\n",
      "\n",
      "End of the game.\n"
     ]
    }
   ],
   "source": [
    "# 1. Present the game\n",
    "print(\"*\" * 100, '\\n') \n",
    "print(\"\"\"This is a very simple simulation in Pyhton about the Rock, Paper and Scissors Game. \n",
    "     This game is normally played bewteen 2 players. Each player must choose one of the following options:\\n\n",
    "         - Rock\n",
    "         - Paper\n",
    "         - Scissors\\n\n",
    "         The rules are:\n",
    "         1. Rock beats scissors\n",
    "         2. Scissors beat paper\n",
    "         3. Paper beats rock \n",
    "         \"\"\")\n",
    "print(\"*\" * 100 + '\\n')\n",
    "\n",
    "# 2. Input player 1 (Rock, Paper or Scissors)\n",
    "player1 = input( \"(Player 1) Digit one of the three hand's shapes options above: \" ).strip().lower()\n",
    "\n",
    "# 3. Input player 2 (Rock, Paper or Scissors)\n",
    "player2 = input( \"(Player 2) Digit one of the three hand's shapes options above: \" ).strip().lower()\n",
    "\n",
    "# 4. Verify if the inputs are correct\n",
    "options = { \"rock\", \"scissors\", \"paper\" }\n",
    "if ( player1 not in options ) or ( player2 not in options ):\n",
    "    print(\"\\nInvalid inputs. One of the players chosen a invalid input. See the available options above. \\n\")\n",
    "elif player1 == player2:  # 4.1. Tie between Player 1 and 2\n",
    "    print(\"\\nTie!\")  \n",
    "elif ( player1 == \"rock\" and player2 == \"scissors\" ) or ( player1 == \"scissors\" and player2 == \"paper\" ) or \\\n",
    "     ( player1 == \"paper\" and player2 == \"rock\" ):   # 4.1.1. Player 1 wins\n",
    "    print(\"\\nPlayer 1 wins!\")    \n",
    "else: \n",
    "    print(\"\\nPlayer 2 wins!\")   # 4.1.2. Player 2 wins\n",
    "print( \"\\nEnd of the game.\" )"
   ]
  }
 ],
 "metadata": {
  "kernelspec": {
   "display_name": "Python 3 (ipykernel)",
   "language": "python",
   "name": "python3"
  },
  "language_info": {
   "codemirror_mode": {
    "name": "ipython",
    "version": 3
   },
   "file_extension": ".py",
   "mimetype": "text/x-python",
   "name": "python",
   "nbconvert_exporter": "python",
   "pygments_lexer": "ipython3",
   "version": "3.13.5"
  }
 },
 "nbformat": 4,
 "nbformat_minor": 5
}

{
  "nbformat": 4,
  "nbformat_minor": 0,
  "metadata": {
    "colab": {
      "provenance": []
    },
    "kernelspec": {
      "name": "python3",
      "display_name": "Python 3"
    },
    "language_info": {
      "name": "python"
    }
  },
  "cells": [
    {
      "cell_type": "markdown",
      "metadata": {
        "id": "D7G99WXoH9Yk"
      },
      "source": [
        "**Exercise:**\n",
        "\n",
        "1.  Write a Python program that iterates through numbers from 1 to 20.\n",
        "2.  Use the `continue` keyword to skip printing the numbers that are divisible by 3.\n",
        "3.  Use the `break` keyword to stop the loop when the number 15 is reached."
      ]
    },
    {
      "cell_type": "code",
      "source": [
        "for num in range( 1, 21 ):  # (1)\n",
        "    if num == 15:  # (3)\n",
        "        print( num )\n",
        "        break\n",
        "    if num % 3 == 0:  # (2)\n",
        "        continue\n",
        "    print( num )"
      ],
      "metadata": {
        "colab": {
          "base_uri": "https://localhost:8080/"
        },
        "id": "dgjWxeGIH-9S",
        "outputId": "dd5b6298-d208-4031-ef68-06ae5a6c8f6d"
      },
      "execution_count": 11,
      "outputs": [
        {
          "output_type": "stream",
          "name": "stdout",
          "text": [
            "1\n",
            "2\n",
            "4\n",
            "5\n",
            "7\n",
            "8\n",
            "10\n",
            "11\n",
            "13\n",
            "14\n",
            "15\n"
          ]
        }
      ]
    },
    {
      "cell_type": "markdown",
      "metadata": {
        "id": "A83yoLrBLIkj"
      },
      "source": [
        "**Intermediate Exercise:**\n",
        "\n",
        "1.  Create a list of numbers from 1 to 30.\n",
        "2.  Iterate through the list.\n",
        "3.  Use `continue` to skip printing numbers that are both even and divisible by 5.\n",
        "4.  Use `break` to stop the loop when a number greater than 25 is encountered.\n",
        "5.  Print the remaining numbers."
      ]
    },
    {
      "cell_type": "code",
      "source": [
        "for num in range( 1, 31 ):\n",
        "    if num > 25:\n",
        "        break\n",
        "    if num % 2 == 0 and num % 5 == 0:\n",
        "        continue\n",
        "    print( num )"
      ],
      "metadata": {
        "colab": {
          "base_uri": "https://localhost:8080/"
        },
        "id": "JSLLDXTjLJVo",
        "outputId": "1b6151e4-6a4e-4e62-84ec-637d4502fb1e"
      },
      "execution_count": 12,
      "outputs": [
        {
          "output_type": "stream",
          "name": "stdout",
          "text": [
            "1\n",
            "2\n",
            "3\n",
            "4\n",
            "5\n",
            "6\n",
            "7\n",
            "8\n",
            "9\n",
            "11\n",
            "12\n",
            "13\n",
            "14\n",
            "15\n",
            "16\n",
            "17\n",
            "18\n",
            "19\n",
            "21\n",
            "22\n",
            "23\n",
            "24\n",
            "25\n"
          ]
        }
      ]
    },
    {
      "cell_type": "code",
      "source": [
        "print(\"=== Coleta de dados para regressão logística ===\")\n",
        "\n",
        "x, y = [], []\n",
        "while True:\n",
        "    entrada_x = input(\"Digite x (ou 'fim' para encerrar): \")\n",
        "    if entrada_x.lower() == 'fim':\n",
        "        break\n",
        "    entrada_y = input(\"Digite y (0 ou 1): \")\n",
        "    try:\n",
        "        x_val = float(entrada_x)\n",
        "        y_val = int(entrada_y)\n",
        "        if y_val not in [0, 1]:\n",
        "            print(\"❌ y deve ser 0 ou 1\")\n",
        "            continue\n",
        "        x.append(x_val)\n",
        "        y.append(y_val)\n",
        "    except ValueError:\n",
        "        print(\"❌ Entrada inválida!\")\n",
        "print( x, '\\n', y )"
      ],
      "metadata": {
        "colab": {
          "base_uri": "https://localhost:8080/"
        },
        "id": "deK6GliuNS1q",
        "outputId": "bbaf65cc-a257-4d19-df8c-899b94671834"
      },
      "execution_count": 17,
      "outputs": [
        {
          "output_type": "stream",
          "name": "stdout",
          "text": [
            "=== Coleta de dados para regressão logística ===\n",
            "Digite x (ou 'fim' para encerrar): ban\n",
            "Digite y (0 ou 1): 1\n",
            "❌ Entrada inválida!\n",
            "Digite x (ou 'fim' para encerrar): -9\n",
            "Digite y (0 ou 1): 1\n",
            "Digite x (ou 'fim' para encerrar): 45.4\n",
            "Digite y (0 ou 1): 0\n",
            "Digite x (ou 'fim' para encerrar): fim\n",
            "[-9.0, 45.4] \n",
            " [1, 0]\n"
          ]
        }
      ]
    },
    {
      "cell_type": "code",
      "source": [],
      "metadata": {
        "id": "YLlICTGhMTmo"
      },
      "execution_count": null,
      "outputs": []
    }
  ]
}
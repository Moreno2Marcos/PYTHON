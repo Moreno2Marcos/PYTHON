{
  "nbformat": 4,
  "nbformat_minor": 0,
  "metadata": {
    "colab": {
      "provenance": []
    },
    "kernelspec": {
      "name": "python3",
      "display_name": "Python 3"
    },
    "language_info": {
      "name": "python"
    }
  },
  "cells": [
    {
      "cell_type": "markdown",
      "metadata": {
        "id": "UcITYjO_Xb2R"
      },
      "source": [
        "**Exercise:** Write a Python program using a `for` loop to print the numbers from 1 to 10."
      ]
    },
    {
      "cell_type": "code",
      "source": [
        "for number in range( 1, 11 ):\n",
        "    print( number )"
      ],
      "metadata": {
        "colab": {
          "base_uri": "https://localhost:8080/"
        },
        "id": "YlRSlqNfXeiv",
        "outputId": "a1f00336-35ca-4e15-db9f-e1ecae152652"
      },
      "execution_count": 1,
      "outputs": [
        {
          "output_type": "stream",
          "name": "stdout",
          "text": [
            "1\n",
            "2\n",
            "3\n",
            "4\n",
            "5\n",
            "6\n",
            "7\n",
            "8\n",
            "9\n",
            "10\n"
          ]
        }
      ]
    },
    {
      "cell_type": "markdown",
      "metadata": {
        "id": "AlK_KWxyYyws"
      },
      "source": [
        "**Exercise:** Write a Python program that iterates through a list of numbers and prints only the even numbers using a `for` loop and an `if` statement.\n",
        "\n",
        "Here's the list: `numbers = [1, 2, 3, 4, 5, 6, 7, 8, 9, 10]`"
      ]
    },
    {
      "cell_type": "code",
      "source": [
        "# 1. create the list\n",
        "numbers = range( 1, 11 )\n",
        "\n",
        "# 2. print only the even numbers\n",
        "for number in numbers:\n",
        "    if number % 2 == 0:\n",
        "        print( number )"
      ],
      "metadata": {
        "colab": {
          "base_uri": "https://localhost:8080/"
        },
        "id": "wBMp2nG-Y0TK",
        "outputId": "b22c5d52-6e18-4ff3-fee5-8fe1895f9213"
      },
      "execution_count": 2,
      "outputs": [
        {
          "output_type": "stream",
          "name": "stdout",
          "text": [
            "2\n",
            "4\n",
            "6\n",
            "8\n",
            "10\n"
          ]
        }
      ]
    },
    {
      "cell_type": "code",
      "metadata": {
        "colab": {
          "base_uri": "https://localhost:8080/"
        },
        "id": "UQXnQTgxaBGC",
        "outputId": "cfc0fa06-cde8-4f28-ea57-5e41bbe095aa"
      },
      "source": [
        "# Another way to print only the even numbers using list comprehension\n",
        "numbers = range(1, 11)\n",
        "even_numbers = [number for number in numbers if number % 2 == 0]\n",
        "print(even_numbers)"
      ],
      "execution_count": 3,
      "outputs": [
        {
          "output_type": "stream",
          "name": "stdout",
          "text": [
            "[2, 4, 6, 8, 10]\n"
          ]
        }
      ]
    },
    {
      "cell_type": "markdown",
      "metadata": {
        "id": "U47jMij1aqkJ"
      },
      "source": [
        "**Exercise:** Write a Python program that takes a string as input and counts the number of vowels (a, e, i, o, u) in the string using a `for` loop."
      ]
    },
    {
      "cell_type": "code",
      "source": [
        "# 1. ask user enter a string\n",
        "string = input( \"Enter a string: \" )\n",
        "\n",
        "# 2. count and print the number of vowels\n",
        "count = 0\n",
        "vowels = ( \"a\", \"e\", \"i\", \"o\", \"u\" )\n",
        "\n",
        "for c in string.strip():\n",
        "    if c.lower() in vowels:\n",
        "        count += 1\n",
        "\n",
        "print( count )"
      ],
      "metadata": {
        "colab": {
          "base_uri": "https://localhost:8080/"
        },
        "id": "qPoDcPEqarZa",
        "outputId": "8efbf942-5171-4286-ffe9-eb2f773faba5"
      },
      "execution_count": 7,
      "outputs": [
        {
          "output_type": "stream",
          "name": "stdout",
          "text": [
            "Enter a string:      noThing   \n",
            "2\n"
          ]
        }
      ]
    },
    {
      "cell_type": "code",
      "metadata": {
        "id": "2KRudJYdeCs9"
      },
      "source": [
        "# Another way to count the number of vowels\n",
        "string = input( \"Enter a string: \" )\n",
        "vowels = ( \"a\", \"e\", \"i\", \"o\", \"u\" )\n",
        "count = sum(1 for char in string.strip().lower() if char in vowels)\n",
        "print(count)"
      ],
      "execution_count": null,
      "outputs": []
    },
    {
      "cell_type": "markdown",
      "metadata": {
        "id": "EDSin6ewecgP"
      },
      "source": [
        "**Exercise:** Write a Python program that takes a list of dictionaries as input. Each dictionary represents a person with keys like 'name' and 'age'. Iterate through the list and create a new dictionary where the keys are the names of the people and the values are their ages.\n",
        "\n",
        "Here's the list of dictionaries:\n",
        "\n",
        "people = [\n",
        "    { 'name': 'Alice', 'age': 30 },\n",
        "    { 'name': 'Bob', 'age': 25 },\n",
        "    { 'name': 'Charlie', 'age': 35 },\n",
        "    { 'name': 'David', 'age': 28 }\n",
        "]"
      ]
    },
    {
      "cell_type": "markdown",
      "source": [
        "### Basic solution"
      ],
      "metadata": {
        "id": "WCZspU2YrvUV"
      }
    },
    {
      "cell_type": "code",
      "source": [
        "# 1. create the input data\n",
        "people = [\n",
        "    { 'name': 'Alice', 'age': 30 },\n",
        "    { 'name': 'Bob', 'age': 25 },\n",
        "    { 'name': 'Charlie', 'age': 35 },\n",
        "    { 'name': 'David', 'age': 28 }\n",
        "]\n",
        "\n",
        "# 2. create a new dictionary as especifified and visualize result\n",
        "\n",
        "# 2.1. create the data strtuctures as needed\n",
        "names = []\n",
        "ages = []\n",
        "new_dictionary = {}\n",
        "\n",
        "# 2.2. extract names and ages\n",
        "for person in people:\n",
        "    for k, v in person.items():\n",
        "        if k == 'name':\n",
        "            names.append( v )\n",
        "        else:\n",
        "            ages.append( v )\n",
        "\n",
        "# 2.3. build the new dictionary and print result (wrong)\n",
        "# for name in names:\n",
        "#     for age in ages:\n",
        "#         new_dictionary[ name ] = age  ## (explanation) each name iterates over all ages. That’s why every name ends up with the last age.\n",
        "\n",
        "# 2.3. build the new dictionary and print result (correct)\n",
        "for i in range( len( names ) ):\n",
        "    new_dictionary[ names[ i ] ] = ages[ i ]\n",
        "\n",
        "print( new_dictionary )"
      ],
      "metadata": {
        "colab": {
          "base_uri": "https://localhost:8080/"
        },
        "id": "v9eQzD3ledRV",
        "outputId": "5ad36544-324b-4054-da41-fa8a67ea20e7"
      },
      "execution_count": 20,
      "outputs": [
        {
          "output_type": "stream",
          "name": "stdout",
          "text": [
            "{'Alice': 30, 'Bob': 25, 'Charlie': 35, 'David': 28}\n"
          ]
        }
      ]
    },
    {
      "cell_type": "markdown",
      "source": [
        "### Advanced solution"
      ],
      "metadata": {
        "id": "cHcnBCINrywu"
      }
    },
    {
      "cell_type": "code",
      "source": [
        "# Input data\n",
        "people = [\n",
        "    { 'name': 'Alice', 'age': 30 },\n",
        "    { 'name': 'Bob', 'age': 25 },\n",
        "    { 'name': 'Charlie', 'age': 35 },\n",
        "    { 'name': 'David', 'age': 28 }\n",
        "]\n",
        "\n",
        "# Optimized solution\n",
        "new_dictionary = { person['name']: person['age'] for person in people }  # dictionary comprehension concept!\n",
        "\n",
        "# Output result\n",
        "print(new_dictionary)"
      ],
      "metadata": {
        "colab": {
          "base_uri": "https://localhost:8080/"
        },
        "id": "ENQT2g32q_tr",
        "outputId": "a889936b-a893-4f57-aa6f-7476b780abba"
      },
      "execution_count": 21,
      "outputs": [
        {
          "output_type": "stream",
          "name": "stdout",
          "text": [
            "{'Alice': 30, 'Bob': 25, 'Charlie': 35, 'David': 28}\n"
          ]
        }
      ]
    }
  ]
}
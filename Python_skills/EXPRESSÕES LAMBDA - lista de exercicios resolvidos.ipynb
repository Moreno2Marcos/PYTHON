{
 "cells": [
  {
   "cell_type": "markdown",
   "id": "d60d26d1",
   "metadata": {},
   "source": [
    "# EXERCÍCIO - 01 \n",
    "Defina uma lista de 4 preços inteiros. Calcular o imposto (3%) de cada uma delas. Dar como resultado uma lista de impostos.\n",
    "\n",
    "**RESOLUÇÃO - V1**"
   ]
  },
  {
   "cell_type": "code",
   "execution_count": 6,
   "id": "f7136df8",
   "metadata": {},
   "outputs": [
    {
     "data": {
      "text/plain": [
       "[30.0, 150.0, 3.0, 7.5]"
      ]
     },
     "execution_count": 6,
     "metadata": {},
     "output_type": "execute_result"
    }
   ],
   "source": [
    "# define preços\n",
    "precos = [100, 500, 10, 25]\n",
    "impostos = []  # para armazenar impostos\n",
    "# itera cada preço\n",
    "for preco in precos:\n",
    "    # calcula imposto\n",
    "    impostos.append((lambda x: x * .3)(preco))\n",
    "# visualiza lista de impostos\n",
    "impostos"
   ]
  },
  {
   "cell_type": "markdown",
   "id": "8360c204",
   "metadata": {},
   "source": [
    "**RESOLUÇÃO - V2**"
   ]
  },
  {
   "cell_type": "code",
   "execution_count": 1,
   "id": "ac5cd59b",
   "metadata": {},
   "outputs": [
    {
     "data": {
      "text/plain": [
       "[30.0, 150.0, 3.0, 7.5]"
      ]
     },
     "execution_count": 1,
     "metadata": {},
     "output_type": "execute_result"
    }
   ],
   "source": [
    "# define preços\n",
    "precos = [100, 500, 10, 25]\n",
    "# itera, calcula e armazena os impostos\n",
    "impostos = list(map(lambda x: x * .3, precos))\n",
    "# visualiza lista de impostos\n",
    "impostos"
   ]
  },
  {
   "cell_type": "markdown",
   "id": "8cac9ce4",
   "metadata": {},
   "source": [
    "Referência:\n",
    "https://www.youtube.com/watch?v=xmMXULd0dxc"
   ]
  },
  {
   "cell_type": "markdown",
   "id": "dd0ee47c",
   "metadata": {},
   "source": [
    "# EXERCÍCIO - 02 \n",
    "Têm-se a seguinte lista de nomes de produtos e seus preços unitários:"
   ]
  },
  {
   "cell_type": "code",
   "execution_count": 3,
   "id": "7d5213e4",
   "metadata": {},
   "outputs": [
    {
     "data": {
      "text/plain": [
       "[['P1', 13], ['P2', 6], ['P3', 7], ['P4', 50], ['P5', 8]]"
      ]
     },
     "execution_count": 3,
     "metadata": {},
     "output_type": "execute_result"
    }
   ],
   "source": [
    "produtoPreco = [\n",
    "    ['P1', 13],\n",
    "    ['P2', 6],\n",
    "    ['P3', 7],\n",
    "    ['P4', 50],\n",
    "    ['P5', 8]\n",
    "]\n",
    "produtoPreco"
   ]
  },
  {
   "cell_type": "markdown",
   "id": "ad49e132",
   "metadata": {},
   "source": [
    "(1) Ordenar a lista de forma descendente pelo preço.\n",
    "(2) Ordenar a lista de forma ascendente pelo preço.\n",
    "(3) Ordenar a lista de forma ascendente pelo nome.\n",
    "\n",
    "**RESOLUÇÃO**"
   ]
  },
  {
   "cell_type": "markdown",
   "id": "3e3590fe",
   "metadata": {},
   "source": [
    "(1)"
   ]
  },
  {
   "cell_type": "code",
   "execution_count": 4,
   "id": "ce4ed791",
   "metadata": {},
   "outputs": [
    {
     "data": {
      "text/plain": [
       "[['P4', 50], ['P1', 13], ['P5', 8], ['P3', 7], ['P2', 6]]"
      ]
     },
     "execution_count": 4,
     "metadata": {},
     "output_type": "execute_result"
    }
   ],
   "source": [
    "sorted(produtoPreco, key=lambda i: i[1], reverse=True)  # não modifica produtoPreco"
   ]
  },
  {
   "cell_type": "markdown",
   "id": "7ea636ef",
   "metadata": {},
   "source": [
    "(2)"
   ]
  },
  {
   "cell_type": "code",
   "execution_count": 5,
   "id": "ec096436",
   "metadata": {},
   "outputs": [
    {
     "data": {
      "text/plain": [
       "[['P2', 6], ['P3', 7], ['P5', 8], ['P1', 13], ['P4', 50]]"
      ]
     },
     "execution_count": 5,
     "metadata": {},
     "output_type": "execute_result"
    }
   ],
   "source": [
    "produtoPreco.sort(key=lambda x: x[1])  # modifica produtoPreco\n",
    "produtoPreco"
   ]
  },
  {
   "cell_type": "markdown",
   "id": "65c05bc8",
   "metadata": {},
   "source": [
    "(3)"
   ]
  },
  {
   "cell_type": "code",
   "execution_count": 6,
   "id": "aec69e11",
   "metadata": {},
   "outputs": [
    {
     "data": {
      "text/plain": [
       "[['P5', 8], ['P4', 50], ['P3', 7], ['P2', 6], ['P1', 13]]"
      ]
     },
     "execution_count": 6,
     "metadata": {},
     "output_type": "execute_result"
    }
   ],
   "source": [
    "sorted(produtoPreco, key=lambda i: i[0], reverse=True)"
   ]
  },
  {
   "cell_type": "markdown",
   "id": "63f69dbb",
   "metadata": {},
   "source": [
    "Referência:\n",
    "https://www.youtube.com/watch?v=EQRsJ2bKvUU"
   ]
  },
  {
   "cell_type": "markdown",
   "id": "dbc489d6",
   "metadata": {},
   "source": [
    "# EXERCÍCIO - 03\n",
    "Têm-se a seguinte lista de preços de produtos:"
   ]
  },
  {
   "cell_type": "code",
   "execution_count": 7,
   "id": "6239267f",
   "metadata": {},
   "outputs": [
    {
     "data": {
      "text/plain": [
       "[10, 20, 30, 40, 50]"
      ]
     },
     "execution_count": 7,
     "metadata": {},
     "output_type": "execute_result"
    }
   ],
   "source": [
    "lista = [10, 20, 30, 40, 50]\n",
    "lista"
   ]
  },
  {
   "cell_type": "markdown",
   "id": "0eaecc00",
   "metadata": {},
   "source": [
    "Retornar uma lista de produtos cujos preços são superiores a 30.\n",
    "\n",
    "**RESOLUÇÃO**"
   ]
  },
  {
   "cell_type": "code",
   "execution_count": 9,
   "id": "b54b6926",
   "metadata": {},
   "outputs": [
    {
     "data": {
      "text/plain": [
       "[40, 50]"
      ]
     },
     "execution_count": 9,
     "metadata": {},
     "output_type": "execute_result"
    }
   ],
   "source": [
    "list(filter(lambda p: p > 30, lista))"
   ]
  },
  {
   "cell_type": "markdown",
   "id": "5bd28975",
   "metadata": {},
   "source": [
    "# EXERCÍCIO - 04\n",
    "Temos a seguinte tabela de alturas de diferentes especies:"
   ]
  },
  {
   "cell_type": "code",
   "execution_count": 10,
   "id": "39bcb03d",
   "metadata": {},
   "outputs": [
    {
     "data": {
      "text/html": [
       "<div>\n",
       "<style scoped>\n",
       "    .dataframe tbody tr th:only-of-type {\n",
       "        vertical-align: middle;\n",
       "    }\n",
       "\n",
       "    .dataframe tbody tr th {\n",
       "        vertical-align: top;\n",
       "    }\n",
       "\n",
       "    .dataframe thead th {\n",
       "        text-align: right;\n",
       "    }\n",
       "</style>\n",
       "<table border=\"1\" class=\"dataframe\">\n",
       "  <thead>\n",
       "    <tr style=\"text-align: right;\">\n",
       "      <th></th>\n",
       "      <th>heights</th>\n",
       "      <th>species</th>\n",
       "    </tr>\n",
       "  </thead>\n",
       "  <tbody>\n",
       "    <tr>\n",
       "      <th>0</th>\n",
       "      <td>11.5200</td>\n",
       "      <td>A</td>\n",
       "    </tr>\n",
       "    <tr>\n",
       "      <th>1</th>\n",
       "      <td>12.4800</td>\n",
       "      <td>B</td>\n",
       "    </tr>\n",
       "    <tr>\n",
       "      <th>2</th>\n",
       "      <td>12.3778</td>\n",
       "      <td>C</td>\n",
       "    </tr>\n",
       "    <tr>\n",
       "      <th>3</th>\n",
       "      <td>12.7300</td>\n",
       "      <td>D</td>\n",
       "    </tr>\n",
       "  </tbody>\n",
       "</table>\n",
       "</div>"
      ],
      "text/plain": [
       "   heights species\n",
       "0  11.5200       A\n",
       "1  12.4800       B\n",
       "2  12.3778       C\n",
       "3  12.7300       D"
      ]
     },
     "execution_count": 10,
     "metadata": {},
     "output_type": "execute_result"
    }
   ],
   "source": [
    "import pandas as pd\n",
    "df = pd.DataFrame()\n",
    "df['heights'] = [11.52, 12.48, 12.3778, 12.730]\n",
    "df['species'] = ['A', 'B', 'C', 'D']\n",
    "df"
   ]
  },
  {
   "cell_type": "markdown",
   "id": "646672fd",
   "metadata": {},
   "source": [
    "Arrendodar cada valor da coluna alturas (heights) a uma casa decimal\n",
    "\n",
    "**RESOLUÇÃO**"
   ]
  },
  {
   "cell_type": "code",
   "execution_count": 11,
   "id": "72b8d086",
   "metadata": {},
   "outputs": [
    {
     "data": {
      "text/html": [
       "<div>\n",
       "<style scoped>\n",
       "    .dataframe tbody tr th:only-of-type {\n",
       "        vertical-align: middle;\n",
       "    }\n",
       "\n",
       "    .dataframe tbody tr th {\n",
       "        vertical-align: top;\n",
       "    }\n",
       "\n",
       "    .dataframe thead th {\n",
       "        text-align: right;\n",
       "    }\n",
       "</style>\n",
       "<table border=\"1\" class=\"dataframe\">\n",
       "  <thead>\n",
       "    <tr style=\"text-align: right;\">\n",
       "      <th></th>\n",
       "      <th>heights</th>\n",
       "      <th>species</th>\n",
       "    </tr>\n",
       "  </thead>\n",
       "  <tbody>\n",
       "    <tr>\n",
       "      <th>0</th>\n",
       "      <td>11.5</td>\n",
       "      <td>A</td>\n",
       "    </tr>\n",
       "    <tr>\n",
       "      <th>1</th>\n",
       "      <td>12.5</td>\n",
       "      <td>B</td>\n",
       "    </tr>\n",
       "    <tr>\n",
       "      <th>2</th>\n",
       "      <td>12.4</td>\n",
       "      <td>C</td>\n",
       "    </tr>\n",
       "    <tr>\n",
       "      <th>3</th>\n",
       "      <td>12.7</td>\n",
       "      <td>D</td>\n",
       "    </tr>\n",
       "  </tbody>\n",
       "</table>\n",
       "</div>"
      ],
      "text/plain": [
       "   heights species\n",
       "0     11.5       A\n",
       "1     12.5       B\n",
       "2     12.4       C\n",
       "3     12.7       D"
      ]
     },
     "execution_count": 11,
     "metadata": {},
     "output_type": "execute_result"
    }
   ],
   "source": [
    "df['heights'] = df['heights'].apply(lambda x: round(x, 1))\n",
    "df"
   ]
  },
  {
   "cell_type": "markdown",
   "id": "662c6e84",
   "metadata": {},
   "source": [
    "Referência:\n",
    "https://www.youtube.com/watch?v=hZqg9RH5GWk"
   ]
  },
  {
   "cell_type": "markdown",
   "id": "7454adb7",
   "metadata": {},
   "source": [
    "# EXERCÍCIO - 05\n",
    "Temos a seguinte lista:"
   ]
  },
  {
   "cell_type": "code",
   "execution_count": 13,
   "id": "fa78f9fd",
   "metadata": {},
   "outputs": [
    {
     "data": {
      "text/plain": [
       "['ALUNO_30', 'ALUNO_01', 'ALUNO_101', 'ALUNO_20', 'ALUNO_10', 'ALUNO_100']"
      ]
     },
     "execution_count": 13,
     "metadata": {},
     "output_type": "execute_result"
    }
   ],
   "source": [
    "lista = [\n",
    "    \"ALUNO_30\",\n",
    "    \"ALUNO_01\",\n",
    "    \"ALUNO_101\",\n",
    "    \"ALUNO_20\",\n",
    "    \"ALUNO_10\",\n",
    "    \"ALUNO_100\"\n",
    "]\n",
    "lista"
   ]
  },
  {
   "cell_type": "markdown",
   "id": "a3bbbaf4",
   "metadata": {},
   "source": [
    "Ordenar a lista baseado no número de forma ascendente\n",
    "\n",
    "**RESOLUÇÃO**"
   ]
  },
  {
   "cell_type": "code",
   "execution_count": 24,
   "id": "9a6402a7",
   "metadata": {},
   "outputs": [
    {
     "data": {
      "text/plain": [
       "['ALUNO_01', 'ALUNO_10', 'ALUNO_20', 'ALUNO_30', 'ALUNO_100', 'ALUNO_101']"
      ]
     },
     "execution_count": 24,
     "metadata": {},
     "output_type": "execute_result"
    }
   ],
   "source": [
    "alunos.sort(key=lambda x: int(x[6:]))\n",
    "alunos"
   ]
  },
  {
   "cell_type": "markdown",
   "id": "c4afefbd",
   "metadata": {},
   "source": [
    "# EXERCÍCIO - 06\n",
    "Converter os nomes da seguinte lista a minusculo"
   ]
  },
  {
   "cell_type": "code",
   "execution_count": 25,
   "id": "3c9ae68c",
   "metadata": {},
   "outputs": [
    {
     "data": {
      "text/plain": [
       "['fabio', 'Josi']"
      ]
     },
     "execution_count": 25,
     "metadata": {},
     "output_type": "execute_result"
    }
   ],
   "source": [
    "names = ['fabio', 'Josi']\n",
    "names"
   ]
  },
  {
   "cell_type": "markdown",
   "id": "fa1741ec",
   "metadata": {},
   "source": [
    "**RESOLUÇÃO**"
   ]
  },
  {
   "cell_type": "code",
   "execution_count": 26,
   "id": "0f575ae6",
   "metadata": {},
   "outputs": [
    {
     "data": {
      "text/plain": [
       "['FABIO', 'JOSI']"
      ]
     },
     "execution_count": 26,
     "metadata": {},
     "output_type": "execute_result"
    }
   ],
   "source": [
    "namesUpper = list(map(lambda x: x.upper(), names))\n",
    "namesUpper"
   ]
  },
  {
   "cell_type": "markdown",
   "id": "9f67c557",
   "metadata": {},
   "source": [
    "# EXERCÍCIO - 07\n",
    "Na seguinte lista, converter os nomes que contém a letra 'a' a minusculo"
   ]
  },
  {
   "cell_type": "code",
   "execution_count": 27,
   "id": "b6bc7d39",
   "metadata": {},
   "outputs": [
    {
     "data": {
      "text/plain": [
       "['fabio', 'Josi']"
      ]
     },
     "execution_count": 27,
     "metadata": {},
     "output_type": "execute_result"
    }
   ],
   "source": [
    "names = ['fabio', 'Josi']\n",
    "names"
   ]
  },
  {
   "cell_type": "markdown",
   "id": "bc33454b",
   "metadata": {},
   "source": [
    "**RESOLUÇÃO**"
   ]
  },
  {
   "cell_type": "code",
   "execution_count": 28,
   "id": "6dbfea01",
   "metadata": {},
   "outputs": [
    {
     "data": {
      "text/plain": [
       "['fabio']"
      ]
     },
     "execution_count": 28,
     "metadata": {},
     "output_type": "execute_result"
    }
   ],
   "source": [
    "list(filter(lambda x: 'a' in x, names))"
   ]
  },
  {
   "cell_type": "markdown",
   "id": "4520638f",
   "metadata": {},
   "source": [
    "Referência\n",
    "https://www.youtube.com/watch?v=zH_0jUmgpyc&t=146s"
   ]
  }
 ],
 "metadata": {
  "kernelspec": {
   "display_name": "Python 3 (ipykernel)",
   "language": "python",
   "name": "python3"
  },
  "language_info": {
   "codemirror_mode": {
    "name": "ipython",
    "version": 3
   },
   "file_extension": ".py",
   "mimetype": "text/x-python",
   "name": "python",
   "nbconvert_exporter": "python",
   "pygments_lexer": "ipython3",
   "version": "3.10.4"
  }
 },
 "nbformat": 4,
 "nbformat_minor": 5
}

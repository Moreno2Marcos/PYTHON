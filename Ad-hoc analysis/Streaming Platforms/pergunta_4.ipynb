{
 "cells": [
  {
   "cell_type": "markdown",
   "id": "b1284f6e",
   "metadata": {},
   "source": [
    "## 4- Quantidade de filmes listados como comédia."
   ]
  },
  {
   "cell_type": "code",
   "execution_count": 1,
   "id": "f7de0718",
   "metadata": {},
   "outputs": [],
   "source": [
    "# importamos a biblioteca pandas\n",
    "import pandas as pd"
   ]
  },
  {
   "cell_type": "code",
   "execution_count": 3,
   "id": "95882469",
   "metadata": {
    "scrolled": true
   },
   "outputs": [
    {
     "data": {
      "text/html": [
       "<div>\n",
       "<style scoped>\n",
       "    .dataframe tbody tr th:only-of-type {\n",
       "        vertical-align: middle;\n",
       "    }\n",
       "\n",
       "    .dataframe tbody tr th {\n",
       "        vertical-align: top;\n",
       "    }\n",
       "\n",
       "    .dataframe thead th {\n",
       "        text-align: right;\n",
       "    }\n",
       "</style>\n",
       "<table border=\"1\" class=\"dataframe\">\n",
       "  <thead>\n",
       "    <tr style=\"text-align: right;\">\n",
       "      <th></th>\n",
       "      <th>show_id</th>\n",
       "      <th>type</th>\n",
       "      <th>title</th>\n",
       "      <th>director</th>\n",
       "      <th>cast</th>\n",
       "      <th>country</th>\n",
       "      <th>date_added</th>\n",
       "      <th>release_year</th>\n",
       "      <th>rating</th>\n",
       "      <th>duration</th>\n",
       "      <th>listed_in</th>\n",
       "      <th>description</th>\n",
       "    </tr>\n",
       "  </thead>\n",
       "  <tbody>\n",
       "    <tr>\n",
       "      <th>0</th>\n",
       "      <td>s1</td>\n",
       "      <td>Movie</td>\n",
       "      <td>Dick Johnson Is Dead</td>\n",
       "      <td>Kirsten Johnson</td>\n",
       "      <td>NaN</td>\n",
       "      <td>United States</td>\n",
       "      <td>September 25, 2021</td>\n",
       "      <td>2020</td>\n",
       "      <td>PG-13</td>\n",
       "      <td>90 min</td>\n",
       "      <td>Documentaries</td>\n",
       "      <td>As her father nears the end of his life, filmm...</td>\n",
       "    </tr>\n",
       "    <tr>\n",
       "      <th>1</th>\n",
       "      <td>s7</td>\n",
       "      <td>Movie</td>\n",
       "      <td>My Little Pony: A New Generation</td>\n",
       "      <td>Robert Cullen, José Luis Ucha</td>\n",
       "      <td>Vanessa Hudgens, Kimiko Glenn, James Marsden, ...</td>\n",
       "      <td>NaN</td>\n",
       "      <td>September 24, 2021</td>\n",
       "      <td>2021</td>\n",
       "      <td>PG</td>\n",
       "      <td>91 min</td>\n",
       "      <td>Children &amp; Family Movies</td>\n",
       "      <td>Equestria's divided. But a bright-eyed hero be...</td>\n",
       "    </tr>\n",
       "  </tbody>\n",
       "</table>\n",
       "</div>"
      ],
      "text/plain": [
       "  show_id   type                             title  \\\n",
       "0      s1  Movie              Dick Johnson Is Dead   \n",
       "1      s7  Movie  My Little Pony: A New Generation   \n",
       "\n",
       "                        director  \\\n",
       "0                Kirsten Johnson   \n",
       "1  Robert Cullen, José Luis Ucha   \n",
       "\n",
       "                                                cast        country  \\\n",
       "0                                                NaN  United States   \n",
       "1  Vanessa Hudgens, Kimiko Glenn, James Marsden, ...            NaN   \n",
       "\n",
       "           date_added  release_year rating duration                 listed_in  \\\n",
       "0  September 25, 2021          2020  PG-13   90 min             Documentaries   \n",
       "1  September 24, 2021          2021     PG   91 min  Children & Family Movies   \n",
       "\n",
       "                                         description  \n",
       "0  As her father nears the end of his life, filmm...  \n",
       "1  Equestria's divided. But a bright-eyed hero be...  "
      ]
     },
     "execution_count": 3,
     "metadata": {},
     "output_type": "execute_result"
    }
   ],
   "source": [
    "# carregamos dados do Netflix e Amazon\n",
    "netflix = pd.read_csv('netflix_titles.csv')\n",
    "amazon_prime = pd.read_csv('amazon_prime_titles.csv')\n",
    "# concatenamos os dados\n",
    "all_data = pd.concat([netflix, amazon_prime], ignore_index=True)\n",
    "# filtramos apenas por filmes\n",
    "all_data = all_data[all_data['type']=='Movie']\n",
    "# resetamos os indices\n",
    "all_data.reset_index(inplace=True, drop=True)\n",
    "all_data.head(2)"
   ]
  },
  {
   "cell_type": "code",
   "execution_count": 6,
   "id": "64252644",
   "metadata": {},
   "outputs": [
    {
     "data": {
      "text/plain": [
       "0                                          [Documentaries]\n",
       "1                               [Children & Family Movies]\n",
       "2        [Dramas,  Independent Movies,  International M...\n",
       "3                                      [Comedies,  Dramas]\n",
       "4                          [Dramas,  International Movies]\n",
       "                               ...                        \n",
       "13940                                             [Comedy]\n",
       "13941                 [Drama,  Science Fiction,  Suspense]\n",
       "13942                                             [Comedy]\n",
       "13943                                             [Action]\n",
       "13944                          [Action,  Drama,  Suspense]\n",
       "Name: listed_in, Length: 13945, dtype: object"
      ]
     },
     "execution_count": 6,
     "metadata": {},
     "output_type": "execute_result"
    }
   ],
   "source": [
    "# convertemos cada valor (String) da coluna LISTED_IN a serem do tipo Listas\n",
    "liested_in = all_data['listed_in'].str.split(',')\n",
    "liested_in"
   ]
  },
  {
   "cell_type": "code",
   "execution_count": 8,
   "id": "6efeb0d1",
   "metadata": {},
   "outputs": [],
   "source": [
    "# criamos uma lista vazia como o objetivo de armazenar valores booleanos para depois ser usada como filtro\n",
    "booleans = list()\n",
    "# criamos um contador para contar os filmes do tipo comedia\n",
    "cont = 0\n",
    "# percorremos cada elemento da series da coluna LISTED_IN\n",
    "for val in range(13945):\n",
    "    # acessamos a cada elemento\n",
    "    for ele in liested_in.iloc[val]:\n",
    "        # verificamos se cada elemento - string (tipo de filme) é comedia ou não\n",
    "        if ele.lower().strip().startswith('comed'):\n",
    "            cont += 1\n",
    "    # caso seja o filme do tipo comédia, adiciona-se um TRUE à lista booleans senão um FALSE\n",
    "    if cont >= 1:\n",
    "        booleans.append(True)\n",
    "    else:\n",
    "        booleans.append(False)\n",
    "    # Para um novo bucle\n",
    "    cont = 0"
   ]
  },
  {
   "cell_type": "code",
   "execution_count": 9,
   "id": "c3a15890",
   "metadata": {},
   "outputs": [
    {
     "data": {
      "text/plain": [
       "3495"
      ]
     },
     "execution_count": 9,
     "metadata": {},
     "output_type": "execute_result"
    }
   ],
   "source": [
    "# convertemos a lista booleans para o tipo Series e fazer a filtragem\n",
    "condition = pd.Series(booleans)\n",
    "# filtramos e contamos quantos filmes são do tipo COMEDIA\n",
    "len(liested_in[condition])"
   ]
  }
 ],
 "metadata": {
  "kernelspec": {
   "display_name": "Python 3 (ipykernel)",
   "language": "python",
   "name": "python3"
  },
  "language_info": {
   "codemirror_mode": {
    "name": "ipython",
    "version": 3
   },
   "file_extension": ".py",
   "mimetype": "text/x-python",
   "name": "python",
   "nbconvert_exporter": "python",
   "pygments_lexer": "ipython3",
   "version": "3.9.7"
  }
 },
 "nbformat": 4,
 "nbformat_minor": 5
}

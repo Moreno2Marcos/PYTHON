{
 "cells": [
  {
   "cell_type": "markdown",
   "id": "4a5db143",
   "metadata": {},
   "source": [
    "## 5- Lista de todos os gêneros de filmes"
   ]
  },
  {
   "cell_type": "code",
   "execution_count": 1,
   "id": "6a4ba9b4",
   "metadata": {},
   "outputs": [],
   "source": [
    "# importamos a biblioteca pandas\n",
    "import pandas as pd"
   ]
  },
  {
   "cell_type": "code",
   "execution_count": 2,
   "id": "958dcd44",
   "metadata": {},
   "outputs": [
    {
     "data": {
      "text/html": [
       "<div>\n",
       "<style scoped>\n",
       "    .dataframe tbody tr th:only-of-type {\n",
       "        vertical-align: middle;\n",
       "    }\n",
       "\n",
       "    .dataframe tbody tr th {\n",
       "        vertical-align: top;\n",
       "    }\n",
       "\n",
       "    .dataframe thead th {\n",
       "        text-align: right;\n",
       "    }\n",
       "</style>\n",
       "<table border=\"1\" class=\"dataframe\">\n",
       "  <thead>\n",
       "    <tr style=\"text-align: right;\">\n",
       "      <th></th>\n",
       "      <th>show_id</th>\n",
       "      <th>type</th>\n",
       "      <th>title</th>\n",
       "      <th>director</th>\n",
       "      <th>cast</th>\n",
       "      <th>country</th>\n",
       "      <th>date_added</th>\n",
       "      <th>release_year</th>\n",
       "      <th>rating</th>\n",
       "      <th>duration</th>\n",
       "      <th>listed_in</th>\n",
       "      <th>description</th>\n",
       "    </tr>\n",
       "  </thead>\n",
       "  <tbody>\n",
       "    <tr>\n",
       "      <th>0</th>\n",
       "      <td>s1</td>\n",
       "      <td>Movie</td>\n",
       "      <td>Dick Johnson Is Dead</td>\n",
       "      <td>Kirsten Johnson</td>\n",
       "      <td>NaN</td>\n",
       "      <td>United States</td>\n",
       "      <td>September 25, 2021</td>\n",
       "      <td>2020</td>\n",
       "      <td>PG-13</td>\n",
       "      <td>90 min</td>\n",
       "      <td>Documentaries</td>\n",
       "      <td>As her father nears the end of his life, filmm...</td>\n",
       "    </tr>\n",
       "    <tr>\n",
       "      <th>1</th>\n",
       "      <td>s7</td>\n",
       "      <td>Movie</td>\n",
       "      <td>My Little Pony: A New Generation</td>\n",
       "      <td>Robert Cullen, José Luis Ucha</td>\n",
       "      <td>Vanessa Hudgens, Kimiko Glenn, James Marsden, ...</td>\n",
       "      <td>NaN</td>\n",
       "      <td>September 24, 2021</td>\n",
       "      <td>2021</td>\n",
       "      <td>PG</td>\n",
       "      <td>91 min</td>\n",
       "      <td>Children &amp; Family Movies</td>\n",
       "      <td>Equestria's divided. But a bright-eyed hero be...</td>\n",
       "    </tr>\n",
       "  </tbody>\n",
       "</table>\n",
       "</div>"
      ],
      "text/plain": [
       "  show_id   type                             title  \\\n",
       "0      s1  Movie              Dick Johnson Is Dead   \n",
       "1      s7  Movie  My Little Pony: A New Generation   \n",
       "\n",
       "                        director  \\\n",
       "0                Kirsten Johnson   \n",
       "1  Robert Cullen, José Luis Ucha   \n",
       "\n",
       "                                                cast        country  \\\n",
       "0                                                NaN  United States   \n",
       "1  Vanessa Hudgens, Kimiko Glenn, James Marsden, ...            NaN   \n",
       "\n",
       "           date_added  release_year rating duration                 listed_in  \\\n",
       "0  September 25, 2021          2020  PG-13   90 min             Documentaries   \n",
       "1  September 24, 2021          2021     PG   91 min  Children & Family Movies   \n",
       "\n",
       "                                         description  \n",
       "0  As her father nears the end of his life, filmm...  \n",
       "1  Equestria's divided. But a bright-eyed hero be...  "
      ]
     },
     "execution_count": 2,
     "metadata": {},
     "output_type": "execute_result"
    }
   ],
   "source": [
    "# carregamos dados do Netflix e Amazon\n",
    "netflix = pd.read_csv('netflix_titles.csv')\n",
    "amazon_prime = pd.read_csv('amazon_prime_titles.csv')\n",
    "# concatenamos os dados\n",
    "all_data = pd.concat([netflix, amazon_prime], ignore_index=True)\n",
    "# filtramos apenas por filmes\n",
    "all_data = all_data[all_data['type']=='Movie']\n",
    "# resetamos os indices\n",
    "all_data.reset_index(inplace=True, drop=True)\n",
    "all_data.head(2)"
   ]
  },
  {
   "cell_type": "code",
   "execution_count": 6,
   "id": "d05d13d9",
   "metadata": {},
   "outputs": [
    {
     "data": {
      "text/plain": [
       "0                                       Documentaries\n",
       "1                            Children & Family Movies\n",
       "2    Dramas, Independent Movies, International Movies\n",
       "3                                    Comedies, Dramas\n",
       "Name: listed_in, dtype: object"
      ]
     },
     "execution_count": 6,
     "metadata": {},
     "output_type": "execute_result"
    }
   ],
   "source": [
    "# acessamos à coluna LISTED_IN e filtramos os valores vazios (NAN)\n",
    "listed_in = all_data['listed_in'][all_data['listed_in'].notnull()]\n",
    "# resetamos os indices\n",
    "listed_in.reset_index(inplace=True, drop=True)\n",
    "listed_in.head(4)"
   ]
  },
  {
   "cell_type": "code",
   "execution_count": 8,
   "id": "778948d5",
   "metadata": {},
   "outputs": [
    {
     "data": {
      "text/html": [
       "<div>\n",
       "<style scoped>\n",
       "    .dataframe tbody tr th:only-of-type {\n",
       "        vertical-align: middle;\n",
       "    }\n",
       "\n",
       "    .dataframe tbody tr th {\n",
       "        vertical-align: top;\n",
       "    }\n",
       "\n",
       "    .dataframe thead th {\n",
       "        text-align: right;\n",
       "    }\n",
       "</style>\n",
       "<table border=\"1\" class=\"dataframe\">\n",
       "  <thead>\n",
       "    <tr style=\"text-align: right;\">\n",
       "      <th></th>\n",
       "      <th>0</th>\n",
       "      <th>1</th>\n",
       "      <th>2</th>\n",
       "      <th>3</th>\n",
       "      <th>4</th>\n",
       "    </tr>\n",
       "  </thead>\n",
       "  <tbody>\n",
       "    <tr>\n",
       "      <th>0</th>\n",
       "      <td>Documentaries</td>\n",
       "      <td>None</td>\n",
       "      <td>None</td>\n",
       "      <td>None</td>\n",
       "      <td>None</td>\n",
       "    </tr>\n",
       "    <tr>\n",
       "      <th>1</th>\n",
       "      <td>Children &amp; Family Movies</td>\n",
       "      <td>None</td>\n",
       "      <td>None</td>\n",
       "      <td>None</td>\n",
       "      <td>None</td>\n",
       "    </tr>\n",
       "  </tbody>\n",
       "</table>\n",
       "</div>"
      ],
      "text/plain": [
       "                          0     1     2     3     4\n",
       "0             Documentaries  None  None  None  None\n",
       "1  Children & Family Movies  None  None  None  None"
      ]
     },
     "execution_count": 8,
     "metadata": {},
     "output_type": "execute_result"
    }
   ],
   "source": [
    "# transformamos a coluna LISTED_IN numa matriz (DataFrame) cujos valores são os generos\n",
    "listed_in_df = listed_in.str.split(',', expand=True)\n",
    "listed_in_df.head(2)"
   ]
  },
  {
   "cell_type": "code",
   "execution_count": 12,
   "id": "2d5e8407",
   "metadata": {},
   "outputs": [
    {
     "data": {
      "text/plain": [
       "array(['Documentaries', 'Children & Family Movies', 'Dramas', 'Comedies',\n",
       "       'Thrillers', 'Horror Movies', 'Action & Adventure',\n",
       "       'International Movies', 'Sci-Fi & Fantasy', 'Classic Movies',\n",
       "       'Stand-Up Comedy', 'Movies', 'Anime Features', 'Cult Movies',\n",
       "       'Independent Movies', 'Music & Musicals', 'Romantic Movies',\n",
       "       'LGBTQ Movies', 'Sports Movies', 'Comedy', 'Drama', 'Action',\n",
       "       'Documentary', 'Fantasy', 'Adventure', 'Horror', 'Science Fiction',\n",
       "       'Arts', 'Music Videos and Concerts', 'Fitness',\n",
       "       'Faith and Spirituality', 'Special Interest', 'Suspense', 'Kids',\n",
       "       'Western', 'Animation', 'Arthouse', 'Military and War', 'Anime',\n",
       "       'International', 'Sports', 'Romance', 'Young Adult Audience',\n",
       "       'LGBTQ', 'Historical', 'Faith & Spirituality', 'Entertainment',\n",
       "       'Talk Show and Variety', 'Unscripted', 'and Culture'], dtype=object)"
      ]
     },
     "execution_count": 12,
     "metadata": {},
     "output_type": "execute_result"
    }
   ],
   "source": [
    "# OBJETIVO: criar uma única coluna contendo os nomes dos generos\n",
    "\n",
    "# capturamos a primiera coluna\n",
    "col = listed_in_df[0]\n",
    "\n",
    "# percorremos cada coluna da matriz\n",
    "for i in range(1, 5):\n",
    "    # concatenamos una vez só a primeira coluna com a segunda\n",
    "    if i == 1:\n",
    "        result = pd.concat([col, listed_in_df[i]], ignore_index=True)\n",
    "    # concatenamos a coluna resultante com as restantes e sobre-escrevemos nela mesma  \n",
    "    else:\n",
    "        result = pd.concat([result, listed_in_df[i]], ignore_index=True)\n",
    "\n",
    "# filtramos valores vazios (None)\n",
    "cond = result.notnull()\n",
    "result = result[cond]\n",
    "# removemos espaços em branco\n",
    "result = result.str.strip()\n",
    "# Obtemos os valores únicos\n",
    "result.unique()"
   ]
  }
 ],
 "metadata": {
  "kernelspec": {
   "display_name": "Python 3 (ipykernel)",
   "language": "python",
   "name": "python3"
  },
  "language_info": {
   "codemirror_mode": {
    "name": "ipython",
    "version": 3
   },
   "file_extension": ".py",
   "mimetype": "text/x-python",
   "name": "python",
   "nbconvert_exporter": "python",
   "pygments_lexer": "ipython3",
   "version": "3.9.7"
  }
 },
 "nbformat": 4,
 "nbformat_minor": 5
}

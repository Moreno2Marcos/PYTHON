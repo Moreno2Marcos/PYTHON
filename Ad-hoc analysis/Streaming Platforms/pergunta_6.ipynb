{
 "cells": [
  {
   "cell_type": "markdown",
   "id": "27f4b513",
   "metadata": {},
   "source": [
    "## 6- A frequência de \"TV Show\" de todos os dados e comparativamente em relação as duas plataformas"
   ]
  },
  {
   "cell_type": "code",
   "execution_count": 8,
   "id": "a9c04cca",
   "metadata": {},
   "outputs": [],
   "source": [
    "# importamos a biblioteca pandas\n",
    "import pandas as pd"
   ]
  },
  {
   "cell_type": "markdown",
   "id": "f82821a1",
   "metadata": {},
   "source": [
    "### Considerando TODOS os dados"
   ]
  },
  {
   "cell_type": "code",
   "execution_count": 9,
   "id": "daadb1bd",
   "metadata": {},
   "outputs": [
    {
     "data": {
      "text/plain": [
       "4530"
      ]
     },
     "execution_count": 9,
     "metadata": {},
     "output_type": "execute_result"
    }
   ],
   "source": [
    "# carregamos dados do Netflix e Amazon\n",
    "netflix = pd.read_csv('netflix_titles.csv')\n",
    "amazon_prime = pd.read_csv('amazon_prime_titles.csv')\n",
    "# concatenamos os dados\n",
    "all_data = pd.concat([netflix, amazon_prime], ignore_index=True)\n",
    "# filtramos apenas por filmes\n",
    "all_data = all_data[all_data['type']=='TV Show']\n",
    "# resetamos os indices\n",
    "all_data.reset_index(inplace=True, drop=True)\n",
    "# calculamos o numero de registros (frequencia) do tipo TV Show\n",
    "len(all_data)"
   ]
  },
  {
   "cell_type": "markdown",
   "id": "bcbf2f3e",
   "metadata": {},
   "source": [
    "### Dados do Netflix"
   ]
  },
  {
   "cell_type": "code",
   "execution_count": 10,
   "id": "63f431ab",
   "metadata": {},
   "outputs": [
    {
     "data": {
      "text/plain": [
       "2676"
      ]
     },
     "execution_count": 10,
     "metadata": {},
     "output_type": "execute_result"
    }
   ],
   "source": [
    "# carregamos dados do Netflix\n",
    "netflix = pd.read_csv('netflix_titles.csv')\n",
    "# filtramos apenas por TV Show\n",
    "netflix = netflix[netflix['type']=='TV Show']\n",
    "# resetamos os indices\n",
    "netflix.reset_index(inplace=True, drop=True)\n",
    "# calculamos o numero de registros (frequencia) do tipo TV Show\n",
    "len(netflix)"
   ]
  },
  {
   "cell_type": "markdown",
   "id": "ce4ddcfa",
   "metadata": {},
   "source": [
    "### Dados da Amazon"
   ]
  },
  {
   "cell_type": "code",
   "execution_count": 12,
   "id": "c294b3fb",
   "metadata": {},
   "outputs": [
    {
     "data": {
      "text/plain": [
       "1854"
      ]
     },
     "execution_count": 12,
     "metadata": {},
     "output_type": "execute_result"
    }
   ],
   "source": [
    "# carregamos dados do Netflix\n",
    "amazon = pd.read_csv('amazon_prime_titles.csv')\n",
    "# filtramos apenas por TV Show\n",
    "amazon = amazon[amazon['type']=='TV Show']\n",
    "# resetamos os indices\n",
    "amazon.reset_index(inplace=True, drop=True)\n",
    "# calculamos o numero de registros (frequencia) do tipo TV Show\n",
    "len(amazon)"
   ]
  },
  {
   "cell_type": "markdown",
   "id": "23f95118",
   "metadata": {},
   "source": [
    "## Análise Comparativa\n",
    "#### Na plataforma Netflix tem-se 2676 registros o que representa  2676/4530 % ou 59% do total de registros do tipo TV Show.\n",
    "#### Na plataforma Amazon 1854 registros, equivalente a 1854/4530 % ou  41% do total de registros do tipo TV Show.\n",
    "#### Existe uma diferença de 18% entre plataformas. A plataforma Netflix possui a maior porcentagem de registros do tipo TV Shows"
   ]
  }
 ],
 "metadata": {
  "kernelspec": {
   "display_name": "Python 3 (ipykernel)",
   "language": "python",
   "name": "python3"
  },
  "language_info": {
   "codemirror_mode": {
    "name": "ipython",
    "version": 3
   },
   "file_extension": ".py",
   "mimetype": "text/x-python",
   "name": "python",
   "nbconvert_exporter": "python",
   "pygments_lexer": "ipython3",
   "version": "3.9.7"
  }
 },
 "nbformat": 4,
 "nbformat_minor": 5
}

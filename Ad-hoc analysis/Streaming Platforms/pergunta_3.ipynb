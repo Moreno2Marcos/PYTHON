{
 "cells": [
  {
   "cell_type": "markdown",
   "id": "27fd9733",
   "metadata": {},
   "source": [
    "## 3- Mês no qual há mais adições de filmes na plataforma Netflix"
   ]
  },
  {
   "cell_type": "code",
   "execution_count": 1,
   "id": "da2f0873",
   "metadata": {},
   "outputs": [],
   "source": [
    "# importamos a biblioteca pandas\n",
    "import pandas as pd"
   ]
  },
  {
   "cell_type": "code",
   "execution_count": 8,
   "id": "352bcc94",
   "metadata": {
    "scrolled": true
   },
   "outputs": [
    {
     "data": {
      "text/html": [
       "<div>\n",
       "<style scoped>\n",
       "    .dataframe tbody tr th:only-of-type {\n",
       "        vertical-align: middle;\n",
       "    }\n",
       "\n",
       "    .dataframe tbody tr th {\n",
       "        vertical-align: top;\n",
       "    }\n",
       "\n",
       "    .dataframe thead th {\n",
       "        text-align: right;\n",
       "    }\n",
       "</style>\n",
       "<table border=\"1\" class=\"dataframe\">\n",
       "  <thead>\n",
       "    <tr style=\"text-align: right;\">\n",
       "      <th></th>\n",
       "      <th>show_id</th>\n",
       "      <th>type</th>\n",
       "      <th>title</th>\n",
       "      <th>director</th>\n",
       "      <th>cast</th>\n",
       "      <th>country</th>\n",
       "      <th>date_added</th>\n",
       "      <th>release_year</th>\n",
       "      <th>rating</th>\n",
       "      <th>duration</th>\n",
       "      <th>listed_in</th>\n",
       "      <th>description</th>\n",
       "    </tr>\n",
       "  </thead>\n",
       "  <tbody>\n",
       "    <tr>\n",
       "      <th>0</th>\n",
       "      <td>s1</td>\n",
       "      <td>Movie</td>\n",
       "      <td>Dick Johnson Is Dead</td>\n",
       "      <td>Kirsten Johnson</td>\n",
       "      <td>NaN</td>\n",
       "      <td>United States</td>\n",
       "      <td>2021-09-25</td>\n",
       "      <td>2020</td>\n",
       "      <td>PG-13</td>\n",
       "      <td>90 min</td>\n",
       "      <td>Documentaries</td>\n",
       "      <td>As her father nears the end of his life, filmm...</td>\n",
       "    </tr>\n",
       "    <tr>\n",
       "      <th>1</th>\n",
       "      <td>s7</td>\n",
       "      <td>Movie</td>\n",
       "      <td>My Little Pony: A New Generation</td>\n",
       "      <td>Robert Cullen, José Luis Ucha</td>\n",
       "      <td>Vanessa Hudgens, Kimiko Glenn, James Marsden, ...</td>\n",
       "      <td>NaN</td>\n",
       "      <td>2021-09-24</td>\n",
       "      <td>2021</td>\n",
       "      <td>PG</td>\n",
       "      <td>91 min</td>\n",
       "      <td>Children &amp; Family Movies</td>\n",
       "      <td>Equestria's divided. But a bright-eyed hero be...</td>\n",
       "    </tr>\n",
       "  </tbody>\n",
       "</table>\n",
       "</div>"
      ],
      "text/plain": [
       "  show_id   type                             title  \\\n",
       "0      s1  Movie              Dick Johnson Is Dead   \n",
       "1      s7  Movie  My Little Pony: A New Generation   \n",
       "\n",
       "                        director  \\\n",
       "0                Kirsten Johnson   \n",
       "1  Robert Cullen, José Luis Ucha   \n",
       "\n",
       "                                                cast        country  \\\n",
       "0                                                NaN  United States   \n",
       "1  Vanessa Hudgens, Kimiko Glenn, James Marsden, ...            NaN   \n",
       "\n",
       "  date_added  release_year rating duration                 listed_in  \\\n",
       "0 2021-09-25          2020  PG-13   90 min             Documentaries   \n",
       "1 2021-09-24          2021     PG   91 min  Children & Family Movies   \n",
       "\n",
       "                                         description  \n",
       "0  As her father nears the end of his life, filmm...  \n",
       "1  Equestria's divided. But a bright-eyed hero be...  "
      ]
     },
     "execution_count": 8,
     "metadata": {},
     "output_type": "execute_result"
    }
   ],
   "source": [
    "# carregamos dados do Netflix e forçamos a conversão da coluna 'date_added' a ser do tipo datetime\n",
    "netflix = pd.read_csv('netflix_titles.csv', parse_dates=['date_added'])\n",
    "# filtramos apenas por filmes\n",
    "netflix = netflix[netflix['type']=='Movie']\n",
    "# resetamos os indices\n",
    "netflix.reset_index(inplace=True, drop=True)\n",
    "netflix.head(2)"
   ]
  },
  {
   "cell_type": "code",
   "execution_count": 10,
   "id": "2b9396e0",
   "metadata": {},
   "outputs": [
    {
     "data": {
      "text/plain": [
       "7     565\n",
       "4     550\n",
       "12    547\n",
       "1     546\n",
       "10    545\n",
       "3     529\n",
       "9     519\n",
       "8     519\n",
       "11    498\n",
       "6     492\n",
       "5     439\n",
       "2     382\n",
       "Name: date_added, dtype: int64"
      ]
     },
     "execution_count": 10,
     "metadata": {},
     "output_type": "execute_result"
    }
   ],
   "source": [
    "# filtramos valores vazios (None)\n",
    "netflix['date_added'] = netflix['date_added'][netflix['date_added'].notnull()]\n",
    "# capturamos apenas o mês da coluna DATE_ADDED e fazemos uma contagem\n",
    "netflix['date_added'].dt.month.value_counts()"
   ]
  },
  {
   "cell_type": "markdown",
   "id": "0da7f12c",
   "metadata": {},
   "source": [
    "### Como pode-se observar na saída anterior, o número 7(julho) obteve a maior quantidade de filmes adicionados (565 ao todo) à plataforma Netflix."
   ]
  }
 ],
 "metadata": {
  "kernelspec": {
   "display_name": "Python 3 (ipykernel)",
   "language": "python",
   "name": "python3"
  },
  "language_info": {
   "codemirror_mode": {
    "name": "ipython",
    "version": 3
   },
   "file_extension": ".py",
   "mimetype": "text/x-python",
   "name": "python",
   "nbconvert_exporter": "python",
   "pygments_lexer": "ipython3",
   "version": "3.9.7"
  }
 },
 "nbformat": 4,
 "nbformat_minor": 5
}

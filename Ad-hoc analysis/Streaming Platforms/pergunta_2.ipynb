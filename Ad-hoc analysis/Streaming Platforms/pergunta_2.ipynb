{
 "cells": [
  {
   "cell_type": "markdown",
   "id": "1f2aa8af",
   "metadata": {},
   "source": [
    "## 2- Top 5 países produtores de conteúdos considerando todos os dados e comparando as duas plataformas"
   ]
  },
  {
   "cell_type": "code",
   "execution_count": 9,
   "id": "435de29b",
   "metadata": {},
   "outputs": [],
   "source": [
    "# importamos a biblioteca pandas\n",
    "import pandas as pd"
   ]
  },
  {
   "cell_type": "markdown",
   "id": "dc2111a9",
   "metadata": {},
   "source": [
    "## Todos os dados"
   ]
  },
  {
   "cell_type": "code",
   "execution_count": 10,
   "id": "22d2a556",
   "metadata": {},
   "outputs": [
    {
     "data": {
      "text/html": [
       "<div>\n",
       "<style scoped>\n",
       "    .dataframe tbody tr th:only-of-type {\n",
       "        vertical-align: middle;\n",
       "    }\n",
       "\n",
       "    .dataframe tbody tr th {\n",
       "        vertical-align: top;\n",
       "    }\n",
       "\n",
       "    .dataframe thead th {\n",
       "        text-align: right;\n",
       "    }\n",
       "</style>\n",
       "<table border=\"1\" class=\"dataframe\">\n",
       "  <thead>\n",
       "    <tr style=\"text-align: right;\">\n",
       "      <th></th>\n",
       "      <th>show_id</th>\n",
       "      <th>type</th>\n",
       "      <th>title</th>\n",
       "      <th>director</th>\n",
       "      <th>cast</th>\n",
       "      <th>country</th>\n",
       "      <th>date_added</th>\n",
       "      <th>release_year</th>\n",
       "      <th>rating</th>\n",
       "      <th>duration</th>\n",
       "      <th>listed_in</th>\n",
       "      <th>description</th>\n",
       "    </tr>\n",
       "  </thead>\n",
       "  <tbody>\n",
       "    <tr>\n",
       "      <th>0</th>\n",
       "      <td>s1</td>\n",
       "      <td>Movie</td>\n",
       "      <td>Dick Johnson Is Dead</td>\n",
       "      <td>Kirsten Johnson</td>\n",
       "      <td>NaN</td>\n",
       "      <td>United States</td>\n",
       "      <td>September 25, 2021</td>\n",
       "      <td>2020</td>\n",
       "      <td>PG-13</td>\n",
       "      <td>90 min</td>\n",
       "      <td>Documentaries</td>\n",
       "      <td>As her father nears the end of his life, filmm...</td>\n",
       "    </tr>\n",
       "    <tr>\n",
       "      <th>1</th>\n",
       "      <td>s2</td>\n",
       "      <td>TV Show</td>\n",
       "      <td>Blood &amp; Water</td>\n",
       "      <td>NaN</td>\n",
       "      <td>Ama Qamata, Khosi Ngema, Gail Mabalane, Thaban...</td>\n",
       "      <td>South Africa</td>\n",
       "      <td>September 24, 2021</td>\n",
       "      <td>2021</td>\n",
       "      <td>TV-MA</td>\n",
       "      <td>2 Seasons</td>\n",
       "      <td>International TV Shows, TV Dramas, TV Mysteries</td>\n",
       "      <td>After crossing paths at a party, a Cape Town t...</td>\n",
       "    </tr>\n",
       "  </tbody>\n",
       "</table>\n",
       "</div>"
      ],
      "text/plain": [
       "  show_id     type                 title         director  \\\n",
       "0      s1    Movie  Dick Johnson Is Dead  Kirsten Johnson   \n",
       "1      s2  TV Show         Blood & Water              NaN   \n",
       "\n",
       "                                                cast        country  \\\n",
       "0                                                NaN  United States   \n",
       "1  Ama Qamata, Khosi Ngema, Gail Mabalane, Thaban...   South Africa   \n",
       "\n",
       "           date_added  release_year rating   duration  \\\n",
       "0  September 25, 2021          2020  PG-13     90 min   \n",
       "1  September 24, 2021          2021  TV-MA  2 Seasons   \n",
       "\n",
       "                                         listed_in  \\\n",
       "0                                    Documentaries   \n",
       "1  International TV Shows, TV Dramas, TV Mysteries   \n",
       "\n",
       "                                         description  \n",
       "0  As her father nears the end of his life, filmm...  \n",
       "1  After crossing paths at a party, a Cape Town t...  "
      ]
     },
     "execution_count": 10,
     "metadata": {},
     "output_type": "execute_result"
    }
   ],
   "source": [
    "# carregamos dados do Netflix e Amazon\n",
    "netflix = pd.read_csv('netflix_titles.csv')\n",
    "amazon_prime = pd.read_csv('amazon_prime_titles.csv')\n",
    "# concatenamos os dados\n",
    "all_data = pd.concat([netflix, amazon_prime], ignore_index=True)\n",
    "all_data.head(2)"
   ]
  },
  {
   "cell_type": "code",
   "execution_count": 11,
   "id": "fee01102",
   "metadata": {},
   "outputs": [
    {
     "data": {
      "text/plain": [
       "0                                        United States\n",
       "1                                         South Africa\n",
       "2                                                India\n",
       "3    United States, Ghana, Burkina Faso, United Kin...\n",
       "Name: country, dtype: object"
      ]
     },
     "execution_count": 11,
     "metadata": {},
     "output_type": "execute_result"
    }
   ],
   "source": [
    "# acessamos à coluna COUNTRY e filtramos os valores vazios (NAN)\n",
    "cond = all_data['country'].notnull()\n",
    "country = all_data['country'][cond]\n",
    "# resetamos os indices\n",
    "country.reset_index(inplace=True, drop=True)\n",
    "country.head(4)"
   ]
  },
  {
   "cell_type": "code",
   "execution_count": 12,
   "id": "c3dad708",
   "metadata": {},
   "outputs": [
    {
     "data": {
      "text/html": [
       "<div>\n",
       "<style scoped>\n",
       "    .dataframe tbody tr th:only-of-type {\n",
       "        vertical-align: middle;\n",
       "    }\n",
       "\n",
       "    .dataframe tbody tr th {\n",
       "        vertical-align: top;\n",
       "    }\n",
       "\n",
       "    .dataframe thead th {\n",
       "        text-align: right;\n",
       "    }\n",
       "</style>\n",
       "<table border=\"1\" class=\"dataframe\">\n",
       "  <thead>\n",
       "    <tr style=\"text-align: right;\">\n",
       "      <th></th>\n",
       "      <th>0</th>\n",
       "      <th>1</th>\n",
       "      <th>2</th>\n",
       "      <th>3</th>\n",
       "      <th>4</th>\n",
       "      <th>5</th>\n",
       "      <th>6</th>\n",
       "      <th>7</th>\n",
       "      <th>8</th>\n",
       "      <th>9</th>\n",
       "      <th>10</th>\n",
       "      <th>11</th>\n",
       "    </tr>\n",
       "  </thead>\n",
       "  <tbody>\n",
       "    <tr>\n",
       "      <th>0</th>\n",
       "      <td>United States</td>\n",
       "      <td>None</td>\n",
       "      <td>None</td>\n",
       "      <td>None</td>\n",
       "      <td>None</td>\n",
       "      <td>None</td>\n",
       "      <td>None</td>\n",
       "      <td>None</td>\n",
       "      <td>None</td>\n",
       "      <td>None</td>\n",
       "      <td>None</td>\n",
       "      <td>None</td>\n",
       "    </tr>\n",
       "    <tr>\n",
       "      <th>1</th>\n",
       "      <td>South Africa</td>\n",
       "      <td>None</td>\n",
       "      <td>None</td>\n",
       "      <td>None</td>\n",
       "      <td>None</td>\n",
       "      <td>None</td>\n",
       "      <td>None</td>\n",
       "      <td>None</td>\n",
       "      <td>None</td>\n",
       "      <td>None</td>\n",
       "      <td>None</td>\n",
       "      <td>None</td>\n",
       "    </tr>\n",
       "  </tbody>\n",
       "</table>\n",
       "</div>"
      ],
      "text/plain": [
       "              0     1     2     3     4     5     6     7     8     9     10  \\\n",
       "0  United States  None  None  None  None  None  None  None  None  None  None   \n",
       "1   South Africa  None  None  None  None  None  None  None  None  None  None   \n",
       "\n",
       "     11  \n",
       "0  None  \n",
       "1  None  "
      ]
     },
     "execution_count": 12,
     "metadata": {},
     "output_type": "execute_result"
    }
   ],
   "source": [
    "# transformamos a coluna COUNTRY numa matriz (DataFrame) cujos valores são os paises\n",
    "country_df = country.str.split(',', expand=True)\n",
    "country_df.head(2)"
   ]
  },
  {
   "cell_type": "code",
   "execution_count": 48,
   "id": "041ab2d2",
   "metadata": {},
   "outputs": [
    {
     "data": {
      "text/plain": [
       "United States     4024\n",
       "India             1292\n",
       "United Kingdom     873\n",
       "Canada             480\n",
       "France             413\n",
       "dtype: int64"
      ]
     },
     "execution_count": 48,
     "metadata": {},
     "output_type": "execute_result"
    }
   ],
   "source": [
    "# OBJETIVO: criar uma única coluna contendo os nomes dos paises para fazer a contagem\n",
    "\n",
    "# capturamos a primiera coluna\n",
    "col = country_df[0]\n",
    "\n",
    "# percorremos cada coluna da matriz\n",
    "for i in range(1, 12):\n",
    "    # concatenamos una vez só a primeira coluna com a segunda\n",
    "    if i == 1:\n",
    "        result = pd.concat([col, country_df[i]], ignore_index=True)\n",
    "    # concatenamos a coluna resultante com as restantes e sobre-escrevemos nela mesma  \n",
    "    else:\n",
    "        result = pd.concat([result, country_df[i]], ignore_index=True)\n",
    "\n",
    "# filtramos valores vazios (None)\n",
    "cond = result.notnull()\n",
    "result = result[cond]\n",
    "# removemos espaços em branco\n",
    "result = result.str.strip()\n",
    "# listamos os 5 nomes de paises que mais se repetem\n",
    "result = result.value_counts().head(5)\n",
    "result"
   ]
  },
  {
   "cell_type": "markdown",
   "id": "abb3f691",
   "metadata": {},
   "source": [
    "## Dados do Netflix"
   ]
  },
  {
   "cell_type": "code",
   "execution_count": 24,
   "id": "19c7233b",
   "metadata": {},
   "outputs": [
    {
     "data": {
      "text/plain": [
       "0                                        United States\n",
       "1                                         South Africa\n",
       "2                                                India\n",
       "3    United States, Ghana, Burkina Faso, United Kin...\n",
       "Name: country, dtype: object"
      ]
     },
     "execution_count": 24,
     "metadata": {},
     "output_type": "execute_result"
    }
   ],
   "source": [
    "# carregamos dados do Netflix\n",
    "netflix = pd.read_csv('netflix_titles.csv')\n",
    "# acessamos à coluna COUNTRY e filtramos valores nulos\n",
    "netflix_country = netflix['country'][netflix['country'].notnull()]\n",
    "# resetamos os indices\n",
    "netflix_country.reset_index(inplace=True, drop=True)\n",
    "netflix_country.head(4)"
   ]
  },
  {
   "cell_type": "code",
   "execution_count": 22,
   "id": "c9dc5046",
   "metadata": {},
   "outputs": [
    {
     "data": {
      "text/html": [
       "<div>\n",
       "<style scoped>\n",
       "    .dataframe tbody tr th:only-of-type {\n",
       "        vertical-align: middle;\n",
       "    }\n",
       "\n",
       "    .dataframe tbody tr th {\n",
       "        vertical-align: top;\n",
       "    }\n",
       "\n",
       "    .dataframe thead th {\n",
       "        text-align: right;\n",
       "    }\n",
       "</style>\n",
       "<table border=\"1\" class=\"dataframe\">\n",
       "  <thead>\n",
       "    <tr style=\"text-align: right;\">\n",
       "      <th></th>\n",
       "      <th>0</th>\n",
       "      <th>1</th>\n",
       "      <th>2</th>\n",
       "      <th>3</th>\n",
       "      <th>4</th>\n",
       "      <th>5</th>\n",
       "      <th>6</th>\n",
       "      <th>7</th>\n",
       "      <th>8</th>\n",
       "      <th>9</th>\n",
       "      <th>10</th>\n",
       "      <th>11</th>\n",
       "    </tr>\n",
       "  </thead>\n",
       "  <tbody>\n",
       "    <tr>\n",
       "      <th>0</th>\n",
       "      <td>United States</td>\n",
       "      <td>None</td>\n",
       "      <td>None</td>\n",
       "      <td>None</td>\n",
       "      <td>None</td>\n",
       "      <td>None</td>\n",
       "      <td>None</td>\n",
       "      <td>None</td>\n",
       "      <td>None</td>\n",
       "      <td>None</td>\n",
       "      <td>None</td>\n",
       "      <td>None</td>\n",
       "    </tr>\n",
       "    <tr>\n",
       "      <th>1</th>\n",
       "      <td>South Africa</td>\n",
       "      <td>None</td>\n",
       "      <td>None</td>\n",
       "      <td>None</td>\n",
       "      <td>None</td>\n",
       "      <td>None</td>\n",
       "      <td>None</td>\n",
       "      <td>None</td>\n",
       "      <td>None</td>\n",
       "      <td>None</td>\n",
       "      <td>None</td>\n",
       "      <td>None</td>\n",
       "    </tr>\n",
       "  </tbody>\n",
       "</table>\n",
       "</div>"
      ],
      "text/plain": [
       "              0     1     2     3     4     5     6     7     8     9     10  \\\n",
       "0  United States  None  None  None  None  None  None  None  None  None  None   \n",
       "1   South Africa  None  None  None  None  None  None  None  None  None  None   \n",
       "\n",
       "     11  \n",
       "0  None  \n",
       "1  None  "
      ]
     },
     "execution_count": 22,
     "metadata": {},
     "output_type": "execute_result"
    }
   ],
   "source": [
    "# transformamos a coluna NETFLIX_COUNTRY numa matriz (DataFrame) cujos valores são os paises\n",
    "country_netflix_df = netflix_country.str.split(',', expand=True)\n",
    "country_netflix_df.head(2)"
   ]
  },
  {
   "cell_type": "code",
   "execution_count": 42,
   "id": "48df5a25",
   "metadata": {},
   "outputs": [
    {
     "data": {
      "text/plain": [
       "United States     3690\n",
       "India             1046\n",
       "United Kingdom     806\n",
       "Canada             445\n",
       "France             393\n",
       "dtype: int64"
      ]
     },
     "execution_count": 42,
     "metadata": {},
     "output_type": "execute_result"
    }
   ],
   "source": [
    "# OBJETIVO: criar uma única coluna contendo os nomes dos paises para fazer a contagem\n",
    "\n",
    "# capturamos a primiera coluna\n",
    "col_net = country_netflix_df[0]\n",
    "\n",
    "# percorremos cada coluna da matriz\n",
    "for i in range(1, 12):\n",
    "    # concatenamos una vez só a primeira coluna com a segunda\n",
    "    if i == 1:\n",
    "        result_net = pd.concat([col_net, country_netflix_df[i]], ignore_index=True)\n",
    "    # concatenamos a coluna resultante com as restantes e sobre-escrevemos nela mesma  \n",
    "    else:\n",
    "        result_net = pd.concat([result_net, country_netflix_df[i]], ignore_index=True)\n",
    "\n",
    "# filtramos valores vazios (None)\n",
    "result_net = result_net[result_net.notnull()]\n",
    "# removemos espaços em branco\n",
    "result_net = result_net.str.strip()\n",
    "# listamos os 5 nomes de paises que mais se repetem\n",
    "result_net = result_net.value_counts().head(5)\n",
    "result_net"
   ]
  },
  {
   "cell_type": "markdown",
   "id": "ae6e246d",
   "metadata": {},
   "source": [
    "## Dados da Amazon"
   ]
  },
  {
   "cell_type": "code",
   "execution_count": 36,
   "id": "60d4dc7d",
   "metadata": {},
   "outputs": [
    {
     "data": {
      "text/plain": [
       "0           Canada\n",
       "1            India\n",
       "2    United States\n",
       "Name: country, dtype: object"
      ]
     },
     "execution_count": 36,
     "metadata": {},
     "output_type": "execute_result"
    }
   ],
   "source": [
    "# carregamos dados do Amazon\n",
    "amazon = pd.read_csv('amazon_prime_titles.csv')\n",
    "# acessamos à coluna COUNTRY e filtramos valores nulos\n",
    "amazon_country = amazon['country'][amazon['country'].notnull()]\n",
    "# resetamos os indices\n",
    "amazon_country.reset_index(inplace=True, drop=True)\n",
    "amazon_country.head(3)"
   ]
  },
  {
   "cell_type": "code",
   "execution_count": 37,
   "id": "a557bdbc",
   "metadata": {},
   "outputs": [
    {
     "data": {
      "text/html": [
       "<div>\n",
       "<style scoped>\n",
       "    .dataframe tbody tr th:only-of-type {\n",
       "        vertical-align: middle;\n",
       "    }\n",
       "\n",
       "    .dataframe tbody tr th {\n",
       "        vertical-align: top;\n",
       "    }\n",
       "\n",
       "    .dataframe thead th {\n",
       "        text-align: right;\n",
       "    }\n",
       "</style>\n",
       "<table border=\"1\" class=\"dataframe\">\n",
       "  <thead>\n",
       "    <tr style=\"text-align: right;\">\n",
       "      <th></th>\n",
       "      <th>0</th>\n",
       "      <th>1</th>\n",
       "      <th>2</th>\n",
       "      <th>3</th>\n",
       "      <th>4</th>\n",
       "    </tr>\n",
       "  </thead>\n",
       "  <tbody>\n",
       "    <tr>\n",
       "      <th>0</th>\n",
       "      <td>Canada</td>\n",
       "      <td>None</td>\n",
       "      <td>None</td>\n",
       "      <td>None</td>\n",
       "      <td>None</td>\n",
       "    </tr>\n",
       "    <tr>\n",
       "      <th>1</th>\n",
       "      <td>India</td>\n",
       "      <td>None</td>\n",
       "      <td>None</td>\n",
       "      <td>None</td>\n",
       "      <td>None</td>\n",
       "    </tr>\n",
       "  </tbody>\n",
       "</table>\n",
       "</div>"
      ],
      "text/plain": [
       "        0     1     2     3     4\n",
       "0  Canada  None  None  None  None\n",
       "1   India  None  None  None  None"
      ]
     },
     "execution_count": 37,
     "metadata": {},
     "output_type": "execute_result"
    }
   ],
   "source": [
    "# transformamos a coluna AMAZON_COUNTRY numa matriz (DataFrame) cujos valores são os paises\n",
    "amazon_country_df = amazon_country.str.split(',', expand=True)\n",
    "amazon_country_df.head(2)"
   ]
  },
  {
   "cell_type": "code",
   "execution_count": 45,
   "id": "6a527cad",
   "metadata": {},
   "outputs": [
    {
     "data": {
      "text/plain": [
       "United States     334\n",
       "India             246\n",
       "United Kingdom     67\n",
       "Canada             35\n",
       "France             20\n",
       "dtype: int64"
      ]
     },
     "execution_count": 45,
     "metadata": {},
     "output_type": "execute_result"
    }
   ],
   "source": [
    "# OBJETIVO: criar uma única coluna contendo os nomes dos paises para fazer a contagem\n",
    "\n",
    "# capturamos a primiera coluna\n",
    "col_ama = amazon_country_df[0]\n",
    "\n",
    "# percorremos cada coluna da matriz\n",
    "for i in range(1, 5):\n",
    "    # concatenamos una vez só a primeira coluna com a segunda\n",
    "    if i == 1:\n",
    "        result_ama = pd.concat([col_ama, amazon_country_df[i]], ignore_index=True)\n",
    "    # concatenamos a coluna resultante com as restantes e sobre-escrevemos nela mesma  \n",
    "    else:\n",
    "        result_ama = pd.concat([result_ama, amazon_country_df[i]], ignore_index=True)\n",
    "\n",
    "# filtramos valores vazios (None)\n",
    "result_ama = result_ama[result_ama.notnull()]\n",
    "# removemos espaços em branco\n",
    "result_ama = result_ama.str.strip()\n",
    "# listamos os 5 nomes de paises que mais se repetem\n",
    "result_ama = result_ama.value_counts().head(5)\n",
    "result_ama"
   ]
  },
  {
   "cell_type": "markdown",
   "id": "16ea25b9",
   "metadata": {},
   "source": [
    "## Comparando resultados do Total, Netflix e Amazon"
   ]
  },
  {
   "cell_type": "code",
   "execution_count": 49,
   "id": "32eacc62",
   "metadata": {},
   "outputs": [
    {
     "data": {
      "text/plain": [
       "United States     4024\n",
       "India             1292\n",
       "United Kingdom     873\n",
       "Canada             480\n",
       "France             413\n",
       "dtype: int64"
      ]
     },
     "execution_count": 49,
     "metadata": {},
     "output_type": "execute_result"
    }
   ],
   "source": [
    "# resultado do total\n",
    "result"
   ]
  },
  {
   "cell_type": "code",
   "execution_count": 43,
   "id": "2a7332c4",
   "metadata": {},
   "outputs": [
    {
     "data": {
      "text/plain": [
       "United States     3690\n",
       "India             1046\n",
       "United Kingdom     806\n",
       "Canada             445\n",
       "France             393\n",
       "dtype: int64"
      ]
     },
     "execution_count": 43,
     "metadata": {},
     "output_type": "execute_result"
    }
   ],
   "source": [
    "# resultado do Netflix\n",
    "result_net"
   ]
  },
  {
   "cell_type": "code",
   "execution_count": 46,
   "id": "e6546c0d",
   "metadata": {},
   "outputs": [
    {
     "data": {
      "text/plain": [
       "United States     334\n",
       "India             246\n",
       "United Kingdom     67\n",
       "Canada             35\n",
       "France             20\n",
       "dtype: int64"
      ]
     },
     "execution_count": 46,
     "metadata": {},
     "output_type": "execute_result"
    }
   ],
   "source": [
    "# resultado da Amazon\n",
    "result_ama"
   ]
  },
  {
   "cell_type": "markdown",
   "id": "57961e49",
   "metadata": {},
   "source": [
    "## Análise"
   ]
  },
  {
   "cell_type": "markdown",
   "id": "d9d1c505",
   "metadata": {},
   "source": [
    "### Pode-se observar que se mantém a hierarquia de paises em ambas plataformas. Por exemplo, em primeiro lugar tem-se US, em segundo India e assim por diante. Além disso, existe uma maior proporção de registros associados à plataforma Netflix. Para US tem-se no Netflix: (3690 / 4024) = 92 % e na Amazon: (334 / 4024) = 8 %."
   ]
  }
 ],
 "metadata": {
  "kernelspec": {
   "display_name": "Python 3 (ipykernel)",
   "language": "python",
   "name": "python3"
  },
  "language_info": {
   "codemirror_mode": {
    "name": "ipython",
    "version": 3
   },
   "file_extension": ".py",
   "mimetype": "text/x-python",
   "name": "python",
   "nbconvert_exporter": "python",
   "pygments_lexer": "ipython3",
   "version": "3.9.7"
  }
 },
 "nbformat": 4,
 "nbformat_minor": 5
}

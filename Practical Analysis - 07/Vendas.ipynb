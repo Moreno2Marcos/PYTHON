{
 "cells": [
  {
   "cell_type": "markdown",
   "id": "5e5b53c1",
   "metadata": {},
   "source": [
    "# Contexto/Desafio\n",
    "\n",
    "- Empresa vende Bermudas;\n",
    "- 5 lojas;\n",
    "- dados: vedas.xlsx.\n",
    "\n",
    "A empresa deseja saber: Como posso aumentar as vendas? o que devo fazer?"
   ]
  },
  {
   "cell_type": "markdown",
   "id": "6d8e42c2",
   "metadata": {},
   "source": [
    "## O que posso fazer para aumentar as vendas?"
   ]
  },
  {
   "cell_type": "code",
   "execution_count": 1,
   "id": "f9f53a07",
   "metadata": {},
   "outputs": [],
   "source": [
    "# importa as dependencias\n",
    "import pandas as pd"
   ]
  },
  {
   "cell_type": "code",
   "execution_count": 2,
   "id": "ddafcb39",
   "metadata": {
    "scrolled": true
   },
   "outputs": [
    {
     "data": {
      "text/html": [
       "<div>\n",
       "<style scoped>\n",
       "    .dataframe tbody tr th:only-of-type {\n",
       "        vertical-align: middle;\n",
       "    }\n",
       "\n",
       "    .dataframe tbody tr th {\n",
       "        vertical-align: top;\n",
       "    }\n",
       "\n",
       "    .dataframe thead th {\n",
       "        text-align: right;\n",
       "    }\n",
       "</style>\n",
       "<table border=\"1\" class=\"dataframe\">\n",
       "  <thead>\n",
       "    <tr style=\"text-align: right;\">\n",
       "      <th></th>\n",
       "      <th>Data</th>\n",
       "      <th>ID Loja</th>\n",
       "      <th>Produto</th>\n",
       "      <th>Quantidade</th>\n",
       "      <th>Valor Unitário</th>\n",
       "      <th>Valor Final</th>\n",
       "    </tr>\n",
       "  </thead>\n",
       "  <tbody>\n",
       "    <tr>\n",
       "      <th>0</th>\n",
       "      <td>2019-12-01</td>\n",
       "      <td>Iguatemi Campinas</td>\n",
       "      <td>Bermuda Estampa</td>\n",
       "      <td>1</td>\n",
       "      <td>169</td>\n",
       "      <td>169</td>\n",
       "    </tr>\n",
       "    <tr>\n",
       "      <th>1</th>\n",
       "      <td>2019-12-01</td>\n",
       "      <td>Iguatemi Esplanada</td>\n",
       "      <td>Bermuda Xadrez</td>\n",
       "      <td>1</td>\n",
       "      <td>155</td>\n",
       "      <td>155</td>\n",
       "    </tr>\n",
       "    <tr>\n",
       "      <th>2</th>\n",
       "      <td>2019-12-01</td>\n",
       "      <td>Norte Shopping</td>\n",
       "      <td>Bermuda</td>\n",
       "      <td>2</td>\n",
       "      <td>150</td>\n",
       "      <td>300</td>\n",
       "    </tr>\n",
       "  </tbody>\n",
       "</table>\n",
       "</div>"
      ],
      "text/plain": [
       "        Data             ID Loja          Produto  Quantidade  Valor Unitário  \\\n",
       "0 2019-12-01   Iguatemi Campinas  Bermuda Estampa           1             169   \n",
       "1 2019-12-01  Iguatemi Esplanada   Bermuda Xadrez           1             155   \n",
       "2 2019-12-01      Norte Shopping          Bermuda           2             150   \n",
       "\n",
       "   Valor Final  \n",
       "0          169  \n",
       "1          155  \n",
       "2          300  "
      ]
     },
     "execution_count": 2,
     "metadata": {},
     "output_type": "execute_result"
    }
   ],
   "source": [
    "# carrega os dados\n",
    "vendas = pd.read_excel('Vendas.xlsx')\n",
    "vendas.head(3)"
   ]
  },
  {
   "cell_type": "code",
   "execution_count": 6,
   "id": "bcc3c985",
   "metadata": {},
   "outputs": [
    {
     "name": "stdout",
     "output_type": "stream",
     "text": [
      "<class 'pandas.core.frame.DataFrame'>\n",
      "RangeIndex: 57 entries, 0 to 56\n",
      "Data columns (total 6 columns):\n",
      " #   Column          Non-Null Count  Dtype         \n",
      "---  ------          --------------  -----         \n",
      " 0   Data            57 non-null     datetime64[ns]\n",
      " 1   ID Loja         57 non-null     object        \n",
      " 2   Produto         57 non-null     object        \n",
      " 3   Quantidade      57 non-null     int64         \n",
      " 4   Valor Unitário  57 non-null     int64         \n",
      " 5   Valor Final     57 non-null     int64         \n",
      "dtypes: datetime64[ns](1), int64(3), object(2)\n",
      "memory usage: 2.8+ KB\n"
     ]
    }
   ],
   "source": [
    "# verifica consistência\n",
    "vendas.info()"
   ]
  },
  {
   "cell_type": "code",
   "execution_count": 17,
   "id": "0a85799f",
   "metadata": {},
   "outputs": [
    {
     "name": "stdout",
     "output_type": "stream",
     "text": [
      "['Iguatemi Campinas' 'Iguatemi Esplanada' 'Norte Shopping'\n",
      " 'Bourbon Shopping SP' 'Center Shopping Uberlândia']\n",
      "5\n"
     ]
    }
   ],
   "source": [
    "# retorna os nomes das lojas\n",
    "print(vendas['ID Loja'].unique())\n",
    "# retorna o número de lojas\n",
    "print(vendas['ID Loja'].unique().size)"
   ]
  },
  {
   "cell_type": "code",
   "execution_count": 34,
   "id": "47d640f4",
   "metadata": {},
   "outputs": [
    {
     "name": "stdout",
     "output_type": "stream",
     "text": [
      "['Bermuda Estampa' 'Bermuda Xadrez' 'Bermuda' 'Bermuda Listrado'\n",
      " 'Bermuda Linho' 'Bermuda Liso']\n",
      "6\n"
     ]
    }
   ],
   "source": [
    "# retorna nomes dos produtos\n",
    "print(vendas['Produto'].unique())\n",
    "# retorna o número de produtos\n",
    "print(vendas['Produto'].unique().size)"
   ]
  },
  {
   "cell_type": "markdown",
   "id": "d31d1ed3",
   "metadata": {},
   "source": [
    "### Faturamento total da empresa"
   ]
  },
  {
   "cell_type": "code",
   "execution_count": 20,
   "id": "dae1630b",
   "metadata": {},
   "outputs": [
    {
     "data": {
      "text/plain": [
       "55895"
      ]
     },
     "execution_count": 20,
     "metadata": {},
     "output_type": "execute_result"
    }
   ],
   "source": [
    "# acessa a coluna e soma\n",
    "fatTotal = vendas['Valor Final'].sum()\n",
    "fatTotal"
   ]
  },
  {
   "cell_type": "markdown",
   "id": "03c4f5e4",
   "metadata": {},
   "source": [
    "A empresa faturou quase 56 mil reais no mês de dezembro do 2019."
   ]
  },
  {
   "cell_type": "markdown",
   "id": "da6d1764",
   "metadata": {},
   "source": [
    "### Faturamento por loja"
   ]
  },
  {
   "cell_type": "code",
   "execution_count": 29,
   "id": "64fef15c",
   "metadata": {},
   "outputs": [
    {
     "data": {
      "text/html": [
       "<div>\n",
       "<style scoped>\n",
       "    .dataframe tbody tr th:only-of-type {\n",
       "        vertical-align: middle;\n",
       "    }\n",
       "\n",
       "    .dataframe tbody tr th {\n",
       "        vertical-align: top;\n",
       "    }\n",
       "\n",
       "    .dataframe thead th {\n",
       "        text-align: right;\n",
       "    }\n",
       "</style>\n",
       "<table border=\"1\" class=\"dataframe\">\n",
       "  <thead>\n",
       "    <tr style=\"text-align: right;\">\n",
       "      <th></th>\n",
       "      <th>Valor Final</th>\n",
       "    </tr>\n",
       "    <tr>\n",
       "      <th>ID Loja</th>\n",
       "      <th></th>\n",
       "    </tr>\n",
       "  </thead>\n",
       "  <tbody>\n",
       "    <tr>\n",
       "      <th>Bourbon Shopping SP</th>\n",
       "      <td>4386</td>\n",
       "    </tr>\n",
       "    <tr>\n",
       "      <th>Center Shopping Uberlândia</th>\n",
       "      <td>2994</td>\n",
       "    </tr>\n",
       "    <tr>\n",
       "      <th>Iguatemi Campinas</th>\n",
       "      <td>41720</td>\n",
       "    </tr>\n",
       "    <tr>\n",
       "      <th>Iguatemi Esplanada</th>\n",
       "      <td>2473</td>\n",
       "    </tr>\n",
       "    <tr>\n",
       "      <th>Norte Shopping</th>\n",
       "      <td>4322</td>\n",
       "    </tr>\n",
       "  </tbody>\n",
       "</table>\n",
       "</div>"
      ],
      "text/plain": [
       "                            Valor Final\n",
       "ID Loja                                \n",
       "Bourbon Shopping SP                4386\n",
       "Center Shopping Uberlândia         2994\n",
       "Iguatemi Campinas                 41720\n",
       "Iguatemi Esplanada                 2473\n",
       "Norte Shopping                     4322"
      ]
     },
     "execution_count": 29,
     "metadata": {},
     "output_type": "execute_result"
    }
   ],
   "source": [
    "# cria subtabela\n",
    "fatLoja = vendas[['ID Loja', 'Valor Final']]\n",
    "# agrupa por loja e soma\n",
    "fatLoja.groupby(by='ID Loja').sum()"
   ]
  },
  {
   "cell_type": "markdown",
   "id": "c019e362",
   "metadata": {},
   "source": [
    "Na loja \"Iguatemi Campinas\" tem-se um faturamento total muito superior do que as outras lojas. Isto sugere, examinar essa loja para descobrer o que essa loja tem de diferencial para ter um faturamento tão superior e assim replicar nas outra lojas para aumentar as vendas e consequentemente o faturamento da empresa como um todo."
   ]
  },
  {
   "cell_type": "markdown",
   "id": "0b574d64",
   "metadata": {},
   "source": [
    "### Faturamento por loja e produto"
   ]
  },
  {
   "cell_type": "code",
   "execution_count": 33,
   "id": "2e754f4c",
   "metadata": {
    "scrolled": false
   },
   "outputs": [
    {
     "data": {
      "text/html": [
       "<div>\n",
       "<style scoped>\n",
       "    .dataframe tbody tr th:only-of-type {\n",
       "        vertical-align: middle;\n",
       "    }\n",
       "\n",
       "    .dataframe tbody tr th {\n",
       "        vertical-align: top;\n",
       "    }\n",
       "\n",
       "    .dataframe thead th {\n",
       "        text-align: right;\n",
       "    }\n",
       "</style>\n",
       "<table border=\"1\" class=\"dataframe\">\n",
       "  <thead>\n",
       "    <tr style=\"text-align: right;\">\n",
       "      <th></th>\n",
       "      <th></th>\n",
       "      <th>Valor Final</th>\n",
       "    </tr>\n",
       "    <tr>\n",
       "      <th>ID Loja</th>\n",
       "      <th>Produto</th>\n",
       "      <th></th>\n",
       "    </tr>\n",
       "  </thead>\n",
       "  <tbody>\n",
       "    <tr>\n",
       "      <th rowspan=\"5\" valign=\"top\">Bourbon Shopping SP</th>\n",
       "      <th>Bermuda</th>\n",
       "      <td>750</td>\n",
       "    </tr>\n",
       "    <tr>\n",
       "      <th>Bermuda Estampa</th>\n",
       "      <td>1183</td>\n",
       "    </tr>\n",
       "    <tr>\n",
       "      <th>Bermuda Linho</th>\n",
       "      <td>195</td>\n",
       "    </tr>\n",
       "    <tr>\n",
       "      <th>Bermuda Listrado</th>\n",
       "      <td>1793</td>\n",
       "    </tr>\n",
       "    <tr>\n",
       "      <th>Bermuda Xadrez</th>\n",
       "      <td>465</td>\n",
       "    </tr>\n",
       "    <tr>\n",
       "      <th rowspan=\"4\" valign=\"top\">Center Shopping Uberlândia</th>\n",
       "      <th>Bermuda Estampa</th>\n",
       "      <td>338</td>\n",
       "    </tr>\n",
       "    <tr>\n",
       "      <th>Bermuda Linho</th>\n",
       "      <td>780</td>\n",
       "    </tr>\n",
       "    <tr>\n",
       "      <th>Bermuda Listrado</th>\n",
       "      <td>326</td>\n",
       "    </tr>\n",
       "    <tr>\n",
       "      <th>Bermuda Xadrez</th>\n",
       "      <td>1550</td>\n",
       "    </tr>\n",
       "    <tr>\n",
       "      <th rowspan=\"6\" valign=\"top\">Iguatemi Campinas</th>\n",
       "      <th>Bermuda</th>\n",
       "      <td>1200</td>\n",
       "    </tr>\n",
       "    <tr>\n",
       "      <th>Bermuda Estampa</th>\n",
       "      <td>845</td>\n",
       "    </tr>\n",
       "    <tr>\n",
       "      <th>Bermuda Linho</th>\n",
       "      <td>1170</td>\n",
       "    </tr>\n",
       "    <tr>\n",
       "      <th>Bermuda Liso</th>\n",
       "      <td>36581</td>\n",
       "    </tr>\n",
       "    <tr>\n",
       "      <th>Bermuda Listrado</th>\n",
       "      <td>1304</td>\n",
       "    </tr>\n",
       "    <tr>\n",
       "      <th>Bermuda Xadrez</th>\n",
       "      <td>620</td>\n",
       "    </tr>\n",
       "    <tr>\n",
       "      <th rowspan=\"4\" valign=\"top\">Iguatemi Esplanada</th>\n",
       "      <th>Bermuda</th>\n",
       "      <td>150</td>\n",
       "    </tr>\n",
       "    <tr>\n",
       "      <th>Bermuda Estampa</th>\n",
       "      <td>338</td>\n",
       "    </tr>\n",
       "    <tr>\n",
       "      <th>Bermuda Linho</th>\n",
       "      <td>1365</td>\n",
       "    </tr>\n",
       "    <tr>\n",
       "      <th>Bermuda Xadrez</th>\n",
       "      <td>620</td>\n",
       "    </tr>\n",
       "    <tr>\n",
       "      <th rowspan=\"5\" valign=\"top\">Norte Shopping</th>\n",
       "      <th>Bermuda</th>\n",
       "      <td>1350</td>\n",
       "    </tr>\n",
       "    <tr>\n",
       "      <th>Bermuda Estampa</th>\n",
       "      <td>845</td>\n",
       "    </tr>\n",
       "    <tr>\n",
       "      <th>Bermuda Linho</th>\n",
       "      <td>390</td>\n",
       "    </tr>\n",
       "    <tr>\n",
       "      <th>Bermuda Listrado</th>\n",
       "      <td>652</td>\n",
       "    </tr>\n",
       "    <tr>\n",
       "      <th>Bermuda Xadrez</th>\n",
       "      <td>1085</td>\n",
       "    </tr>\n",
       "  </tbody>\n",
       "</table>\n",
       "</div>"
      ],
      "text/plain": [
       "                                             Valor Final\n",
       "ID Loja                    Produto                      \n",
       "Bourbon Shopping SP        Bermuda                   750\n",
       "                           Bermuda Estampa          1183\n",
       "                           Bermuda Linho             195\n",
       "                           Bermuda Listrado         1793\n",
       "                           Bermuda Xadrez            465\n",
       "Center Shopping Uberlândia Bermuda Estampa           338\n",
       "                           Bermuda Linho             780\n",
       "                           Bermuda Listrado          326\n",
       "                           Bermuda Xadrez           1550\n",
       "Iguatemi Campinas          Bermuda                  1200\n",
       "                           Bermuda Estampa           845\n",
       "                           Bermuda Linho            1170\n",
       "                           Bermuda Liso            36581\n",
       "                           Bermuda Listrado         1304\n",
       "                           Bermuda Xadrez            620\n",
       "Iguatemi Esplanada         Bermuda                   150\n",
       "                           Bermuda Estampa           338\n",
       "                           Bermuda Linho            1365\n",
       "                           Bermuda Xadrez            620\n",
       "Norte Shopping             Bermuda                  1350\n",
       "                           Bermuda Estampa           845\n",
       "                           Bermuda Linho             390\n",
       "                           Bermuda Listrado          652\n",
       "                           Bermuda Xadrez           1085"
      ]
     },
     "execution_count": 33,
     "metadata": {},
     "output_type": "execute_result"
    }
   ],
   "source": [
    "# cria subtabela\n",
    "fatLojaProd = vendas[['ID Loja', 'Produto', 'Valor Final']]\n",
    "# agrupa e soma por loja e produto\n",
    "fatLojaProd.groupby(by=['ID Loja', 'Produto']).sum()"
   ]
  },
  {
   "cell_type": "markdown",
   "id": "03403d9f",
   "metadata": {},
   "source": [
    "- Na loja \"Iguatemi Campinas\" o produto \"Bermuda Liso\" (talvez produto novo) teve um faturamento de mais de 36 mil reais (a qual é superior quando comparado ao faturamento dos outros produtos em outras lojas;\n",
    "- Dito produto não está presente nas outras lojas."
   ]
  },
  {
   "cell_type": "markdown",
   "id": "9b0cb971",
   "metadata": {},
   "source": [
    "### Recomendações"
   ]
  },
  {
   "cell_type": "markdown",
   "id": "89714c52",
   "metadata": {},
   "source": [
    "- Testar o produto \"Bermuda Liso\" nas outras lojas"
   ]
  }
 ],
 "metadata": {
  "kernelspec": {
   "display_name": "Python 3 (ipykernel)",
   "language": "python",
   "name": "python3"
  },
  "language_info": {
   "codemirror_mode": {
    "name": "ipython",
    "version": 3
   },
   "file_extension": ".py",
   "mimetype": "text/x-python",
   "name": "python",
   "nbconvert_exporter": "python",
   "pygments_lexer": "ipython3",
   "version": "3.10.4"
  }
 },
 "nbformat": 4,
 "nbformat_minor": 5
}

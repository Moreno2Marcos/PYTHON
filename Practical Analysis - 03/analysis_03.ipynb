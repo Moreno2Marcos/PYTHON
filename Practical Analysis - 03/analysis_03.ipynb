{
 "cells": [
  {
   "cell_type": "markdown",
   "id": "83d2c5e8",
   "metadata": {},
   "source": [
    "# Contexto\n",
    "- Conjunto de dados relativos às vendas de derivados de combustível de petróleo e etanol no Brasil (1990-2022);\n",
    "- Acoluna UNIDADE DE FEDERAÇÃO representa os estados no Brasil;\n",
    "- A coluna GRANDE REGIÃO representa as regiões no Brasil:\n",
    " - Norte;\n",
    " - Sul;\n",
    " - Centro-Oeste;\n",
    " - Sudeste e;\n",
    " - Nordeste\n",
    "- A coluna VENDAS representa o volume vendido em metros cúbicos (m3);\n",
    "- A coluna PRODUTO pode ter os seguintes valores:\n",
    " - etanol hidratado;\n",
    " - gasolina C;\n",
    " - gasolina de aviação;\n",
    " - GLP;\n",
    " - óleo combustível;\n",
    " - óleo diesel;\n",
    " - querosene iluminante e;\n",
    " - querosene de aviação."
   ]
  },
  {
   "cell_type": "markdown",
   "id": "f07a7407",
   "metadata": {},
   "source": [
    "## Tratamento dos dados"
   ]
  },
  {
   "cell_type": "code",
   "execution_count": 169,
   "id": "9b2ec9cc",
   "metadata": {},
   "outputs": [],
   "source": [
    "# importa dependencias\n",
    "import pandas as pd\n",
    "import matplotlib.pyplot as plt\n",
    "import numpy as np"
   ]
  },
  {
   "cell_type": "code",
   "execution_count": 2,
   "id": "99470904",
   "metadata": {},
   "outputs": [
    {
     "data": {
      "text/html": [
       "<div>\n",
       "<style scoped>\n",
       "    .dataframe tbody tr th:only-of-type {\n",
       "        vertical-align: middle;\n",
       "    }\n",
       "\n",
       "    .dataframe tbody tr th {\n",
       "        vertical-align: top;\n",
       "    }\n",
       "\n",
       "    .dataframe thead th {\n",
       "        text-align: right;\n",
       "    }\n",
       "</style>\n",
       "<table border=\"1\" class=\"dataframe\">\n",
       "  <thead>\n",
       "    <tr style=\"text-align: right;\">\n",
       "      <th></th>\n",
       "      <th>ANO</th>\n",
       "      <th>MÊS</th>\n",
       "      <th>GRANDE REGIÃO</th>\n",
       "      <th>UNIDADE DA FEDERAÇÃO</th>\n",
       "      <th>PRODUTO</th>\n",
       "      <th>VENDAS</th>\n",
       "    </tr>\n",
       "  </thead>\n",
       "  <tbody>\n",
       "    <tr>\n",
       "      <th>0</th>\n",
       "      <td>2007</td>\n",
       "      <td>FEV</td>\n",
       "      <td>REGIÃO SUDESTE</td>\n",
       "      <td>MINAS GERAIS</td>\n",
       "      <td>ETANOL HIDRATADO</td>\n",
       "      <td>34849,96978</td>\n",
       "    </tr>\n",
       "    <tr>\n",
       "      <th>1</th>\n",
       "      <td>2007</td>\n",
       "      <td>JAN</td>\n",
       "      <td>REGIÃO SUDESTE</td>\n",
       "      <td>ESPÍRITO SANTO</td>\n",
       "      <td>ETANOL HIDRATADO</td>\n",
       "      <td>4733,742877</td>\n",
       "    </tr>\n",
       "    <tr>\n",
       "      <th>2</th>\n",
       "      <td>2007</td>\n",
       "      <td>MAR</td>\n",
       "      <td>REGIÃO NORDESTE</td>\n",
       "      <td>BAHIA</td>\n",
       "      <td>ETANOL HIDRATADO</td>\n",
       "      <td>11786,21303</td>\n",
       "    </tr>\n",
       "    <tr>\n",
       "      <th>3</th>\n",
       "      <td>2007</td>\n",
       "      <td>MAI</td>\n",
       "      <td>REGIÃO NORDESTE</td>\n",
       "      <td>BAHIA</td>\n",
       "      <td>ETANOL HIDRATADO</td>\n",
       "      <td>11795,24273</td>\n",
       "    </tr>\n",
       "    <tr>\n",
       "      <th>4</th>\n",
       "      <td>2007</td>\n",
       "      <td>FEV</td>\n",
       "      <td>REGIÃO NORDESTE</td>\n",
       "      <td>BAHIA</td>\n",
       "      <td>ETANOL HIDRATADO</td>\n",
       "      <td>9585,085759</td>\n",
       "    </tr>\n",
       "  </tbody>\n",
       "</table>\n",
       "</div>"
      ],
      "text/plain": [
       "    ANO  MÊS    GRANDE REGIÃO UNIDADE DA FEDERAÇÃO           PRODUTO  \\\n",
       "0  2007  FEV   REGIÃO SUDESTE         MINAS GERAIS  ETANOL HIDRATADO   \n",
       "1  2007  JAN   REGIÃO SUDESTE       ESPÍRITO SANTO  ETANOL HIDRATADO   \n",
       "2  2007  MAR  REGIÃO NORDESTE                BAHIA  ETANOL HIDRATADO   \n",
       "3  2007  MAI  REGIÃO NORDESTE                BAHIA  ETANOL HIDRATADO   \n",
       "4  2007  FEV  REGIÃO NORDESTE                BAHIA  ETANOL HIDRATADO   \n",
       "\n",
       "        VENDAS  \n",
       "0  34849,96978  \n",
       "1  4733,742877  \n",
       "2  11786,21303  \n",
       "3  11795,24273  \n",
       "4  9585,085759  "
      ]
     },
     "execution_count": 2,
     "metadata": {},
     "output_type": "execute_result"
    }
   ],
   "source": [
    "# carrega os dados\n",
    "vendasPetEta = pd.read_csv('vendas-derivados-petroleo-etanol-m3-1990-2022.csv', sep=';')\n",
    "vendasPetEta.head()"
   ]
  },
  {
   "cell_type": "code",
   "execution_count": 3,
   "id": "1386f762",
   "metadata": {},
   "outputs": [
    {
     "name": "stdout",
     "output_type": "stream",
     "text": [
      "<class 'pandas.core.frame.DataFrame'>\n",
      "RangeIndex: 83808 entries, 0 to 83807\n",
      "Data columns (total 6 columns):\n",
      " #   Column                Non-Null Count  Dtype \n",
      "---  ------                --------------  ----- \n",
      " 0   ANO                   83808 non-null  int64 \n",
      " 1   MÊS                   83808 non-null  object\n",
      " 2   GRANDE REGIÃO         83808 non-null  object\n",
      " 3   UNIDADE DA FEDERAÇÃO  83808 non-null  object\n",
      " 4   PRODUTO               83808 non-null  object\n",
      " 5   VENDAS                83808 non-null  object\n",
      "dtypes: int64(1), object(5)\n",
      "memory usage: 3.8+ MB\n"
     ]
    }
   ],
   "source": [
    "# verifica a consistência dos dados\n",
    "vendasPetEta.info()"
   ]
  },
  {
   "cell_type": "code",
   "execution_count": 4,
   "id": "57946882",
   "metadata": {},
   "outputs": [],
   "source": [
    "# prepara os dados e otimiza uso da memoria\n",
    "vendasPetEta['GRANDE REGIÃO'] = vendasPetEta['GRANDE REGIÃO'].str.strip().astype('category')\n",
    "vendasPetEta['UNIDADE DA FEDERAÇÃO'] = vendasPetEta['UNIDADE DA FEDERAÇÃO'].str.strip().astype('category')\n",
    "vendasPetEta['VENDAS'] = vendasPetEta['VENDAS'].str.replace(',', '.').astype('float')\n",
    "vendasPetEta['PRODUTO'] = vendasPetEta['PRODUTO'].str.strip().astype('category')"
   ]
  },
  {
   "cell_type": "code",
   "execution_count": 5,
   "id": "7b07112c",
   "metadata": {},
   "outputs": [],
   "source": [
    "# troca as inicias do mes por numeros inteiros\n",
    "vendasPetEta['MÊS'] = vendasPetEta['MÊS'].str.replace('JAN', '01')\n",
    "vendasPetEta['MÊS'] = vendasPetEta['MÊS'].str.replace('FEV', '02')\n",
    "vendasPetEta['MÊS'] = vendasPetEta['MÊS'].str.replace('MAR', '03')\n",
    "vendasPetEta['MÊS'] = vendasPetEta['MÊS'].str.replace('ABR', '04')\n",
    "vendasPetEta['MÊS'] = vendasPetEta['MÊS'].str.replace('MAI', '05')\n",
    "vendasPetEta['MÊS'] = vendasPetEta['MÊS'].str.replace('JUN', '06')\n",
    "vendasPetEta['MÊS'] = vendasPetEta['MÊS'].str.replace('JUL', '07')\n",
    "vendasPetEta['MÊS'] = vendasPetEta['MÊS'].str.replace('AGO', '08')\n",
    "vendasPetEta['MÊS'] = vendasPetEta['MÊS'].str.replace('SET', '09')\n",
    "vendasPetEta['MÊS'] = vendasPetEta['MÊS'].str.replace('OUT', '10')\n",
    "vendasPetEta['MÊS'] = vendasPetEta['MÊS'].str.replace('NOV', '11')\n",
    "vendasPetEta['MÊS'] = vendasPetEta['MÊS'].str.replace('DEZ', '12')"
   ]
  },
  {
   "cell_type": "code",
   "execution_count": 6,
   "id": "13034f87",
   "metadata": {
    "scrolled": true
   },
   "outputs": [
    {
     "data": {
      "text/html": [
       "<div>\n",
       "<style scoped>\n",
       "    .dataframe tbody tr th:only-of-type {\n",
       "        vertical-align: middle;\n",
       "    }\n",
       "\n",
       "    .dataframe tbody tr th {\n",
       "        vertical-align: top;\n",
       "    }\n",
       "\n",
       "    .dataframe thead th {\n",
       "        text-align: right;\n",
       "    }\n",
       "</style>\n",
       "<table border=\"1\" class=\"dataframe\">\n",
       "  <thead>\n",
       "    <tr style=\"text-align: right;\">\n",
       "      <th></th>\n",
       "      <th>GRANDE REGIÃO</th>\n",
       "      <th>UNIDADE DA FEDERAÇÃO</th>\n",
       "      <th>PRODUTO</th>\n",
       "      <th>VENDAS</th>\n",
       "      <th>DATA</th>\n",
       "    </tr>\n",
       "  </thead>\n",
       "  <tbody>\n",
       "    <tr>\n",
       "      <th>0</th>\n",
       "      <td>SUDESTE</td>\n",
       "      <td>MINAS GERAIS</td>\n",
       "      <td>ETANOL HIDRATADO</td>\n",
       "      <td>34849.969780</td>\n",
       "      <td>2007-02-01</td>\n",
       "    </tr>\n",
       "    <tr>\n",
       "      <th>1</th>\n",
       "      <td>SUDESTE</td>\n",
       "      <td>ESPÍRITO SANTO</td>\n",
       "      <td>ETANOL HIDRATADO</td>\n",
       "      <td>4733.742877</td>\n",
       "      <td>2007-01-01</td>\n",
       "    </tr>\n",
       "    <tr>\n",
       "      <th>2</th>\n",
       "      <td>NORDESTE</td>\n",
       "      <td>BAHIA</td>\n",
       "      <td>ETANOL HIDRATADO</td>\n",
       "      <td>11786.213030</td>\n",
       "      <td>2007-03-01</td>\n",
       "    </tr>\n",
       "    <tr>\n",
       "      <th>3</th>\n",
       "      <td>NORDESTE</td>\n",
       "      <td>BAHIA</td>\n",
       "      <td>ETANOL HIDRATADO</td>\n",
       "      <td>11795.242730</td>\n",
       "      <td>2007-05-01</td>\n",
       "    </tr>\n",
       "    <tr>\n",
       "      <th>4</th>\n",
       "      <td>NORDESTE</td>\n",
       "      <td>BAHIA</td>\n",
       "      <td>ETANOL HIDRATADO</td>\n",
       "      <td>9585.085759</td>\n",
       "      <td>2007-02-01</td>\n",
       "    </tr>\n",
       "    <tr>\n",
       "      <th>...</th>\n",
       "      <td>...</td>\n",
       "      <td>...</td>\n",
       "      <td>...</td>\n",
       "      <td>...</td>\n",
       "      <td>...</td>\n",
       "    </tr>\n",
       "    <tr>\n",
       "      <th>83803</th>\n",
       "      <td>NORDESTE</td>\n",
       "      <td>ALAGOAS</td>\n",
       "      <td>ÓLEO DIESEL</td>\n",
       "      <td>19261.391000</td>\n",
       "      <td>2006-06-01</td>\n",
       "    </tr>\n",
       "    <tr>\n",
       "      <th>83804</th>\n",
       "      <td>NORDESTE</td>\n",
       "      <td>ALAGOAS</td>\n",
       "      <td>ÓLEO DIESEL</td>\n",
       "      <td>20223.412000</td>\n",
       "      <td>2006-05-01</td>\n",
       "    </tr>\n",
       "    <tr>\n",
       "      <th>83805</th>\n",
       "      <td>NORTE</td>\n",
       "      <td>AMAZONAS</td>\n",
       "      <td>ÓLEO DIESEL</td>\n",
       "      <td>57172.278000</td>\n",
       "      <td>2006-04-01</td>\n",
       "    </tr>\n",
       "    <tr>\n",
       "      <th>83806</th>\n",
       "      <td>NORTE</td>\n",
       "      <td>AMAZONAS</td>\n",
       "      <td>ÓLEO DIESEL</td>\n",
       "      <td>63322.163000</td>\n",
       "      <td>2006-03-01</td>\n",
       "    </tr>\n",
       "    <tr>\n",
       "      <th>83807</th>\n",
       "      <td>NORTE</td>\n",
       "      <td>AMAZONAS</td>\n",
       "      <td>ÓLEO DIESEL</td>\n",
       "      <td>56165.030000</td>\n",
       "      <td>2006-05-01</td>\n",
       "    </tr>\n",
       "  </tbody>\n",
       "</table>\n",
       "<p>83808 rows × 5 columns</p>\n",
       "</div>"
      ],
      "text/plain": [
       "      GRANDE REGIÃO UNIDADE DA FEDERAÇÃO           PRODUTO        VENDAS  \\\n",
       "0           SUDESTE         MINAS GERAIS  ETANOL HIDRATADO  34849.969780   \n",
       "1           SUDESTE       ESPÍRITO SANTO  ETANOL HIDRATADO   4733.742877   \n",
       "2          NORDESTE                BAHIA  ETANOL HIDRATADO  11786.213030   \n",
       "3          NORDESTE                BAHIA  ETANOL HIDRATADO  11795.242730   \n",
       "4          NORDESTE                BAHIA  ETANOL HIDRATADO   9585.085759   \n",
       "...             ...                  ...               ...           ...   \n",
       "83803      NORDESTE              ALAGOAS       ÓLEO DIESEL  19261.391000   \n",
       "83804      NORDESTE              ALAGOAS       ÓLEO DIESEL  20223.412000   \n",
       "83805         NORTE             AMAZONAS       ÓLEO DIESEL  57172.278000   \n",
       "83806         NORTE             AMAZONAS       ÓLEO DIESEL  63322.163000   \n",
       "83807         NORTE             AMAZONAS       ÓLEO DIESEL  56165.030000   \n",
       "\n",
       "            DATA  \n",
       "0     2007-02-01  \n",
       "1     2007-01-01  \n",
       "2     2007-03-01  \n",
       "3     2007-05-01  \n",
       "4     2007-02-01  \n",
       "...          ...  \n",
       "83803 2006-06-01  \n",
       "83804 2006-05-01  \n",
       "83805 2006-04-01  \n",
       "83806 2006-03-01  \n",
       "83807 2006-05-01  \n",
       "\n",
       "[83808 rows x 5 columns]"
      ]
     },
     "execution_count": 6,
     "metadata": {},
     "output_type": "execute_result"
    }
   ],
   "source": [
    "# concatena as colunas\n",
    "vendasPetEta['DATA'] = vendasPetEta['ANO'].astype('str') + \"-\" + vendasPetEta['MÊS']\n",
    "# transforma o tipo a datetime\n",
    "vendasPetEta['DATA'] = pd.to_datetime(vendasPetEta['DATA'], format='%Y-%m')\n",
    "# apaga colunas\n",
    "vendasPetEta.drop(['ANO', 'MÊS'], axis=1, inplace=True)\n",
    "# enxuta valores\n",
    "vendasPetEta['GRANDE REGIÃO'] = vendasPetEta['GRANDE REGIÃO'].str.replace('REGIÃO', '').str.strip()\n",
    "vendasPetEta"
   ]
  },
  {
   "cell_type": "code",
   "execution_count": 7,
   "id": "f2d7dcde",
   "metadata": {
    "scrolled": true
   },
   "outputs": [
    {
     "name": "stdout",
     "output_type": "stream",
     "text": [
      "<class 'pandas.core.frame.DataFrame'>\n",
      "RangeIndex: 83808 entries, 0 to 83807\n",
      "Data columns (total 5 columns):\n",
      " #   Column                Non-Null Count  Dtype         \n",
      "---  ------                --------------  -----         \n",
      " 0   GRANDE REGIÃO         83808 non-null  object        \n",
      " 1   UNIDADE DA FEDERAÇÃO  83808 non-null  category      \n",
      " 2   PRODUTO               83808 non-null  category      \n",
      " 3   VENDAS                83808 non-null  float64       \n",
      " 4   DATA                  83808 non-null  datetime64[ns]\n",
      "dtypes: category(2), datetime64[ns](1), float64(1), object(1)\n",
      "memory usage: 2.1+ MB\n"
     ]
    }
   ],
   "source": [
    "vendasPetEta.info()"
   ]
  },
  {
   "cell_type": "markdown",
   "id": "c4add3a7",
   "metadata": {},
   "source": [
    "## Análise dos dados"
   ]
  },
  {
   "cell_type": "markdown",
   "id": "82e1f1f1",
   "metadata": {},
   "source": [
    "### P1 - Qual foi o volume total vendido no brasil?"
   ]
  },
  {
   "cell_type": "code",
   "execution_count": 8,
   "id": "e1110993",
   "metadata": {},
   "outputs": [
    {
     "data": {
      "text/plain": [
       "3386550020.9863505"
      ]
     },
     "execution_count": 8,
     "metadata": {},
     "output_type": "execute_result"
    }
   ],
   "source": [
    "vendasPetEta['VENDAS'].sum()"
   ]
  },
  {
   "cell_type": "markdown",
   "id": "4f7a27c5",
   "metadata": {},
   "source": [
    "- Aproximadamente 3.4 bilhões de metros cúbicos de derivados de combustível de petróleo e etanol foram vendidos"
   ]
  },
  {
   "cell_type": "markdown",
   "id": "5a983a5f",
   "metadata": {},
   "source": [
    "### P2 - Qual a região com maior volume vendido?"
   ]
  },
  {
   "cell_type": "code",
   "execution_count": 9,
   "id": "0426e1b2",
   "metadata": {},
   "outputs": [
    {
     "data": {
      "text/html": [
       "<div>\n",
       "<style scoped>\n",
       "    .dataframe tbody tr th:only-of-type {\n",
       "        vertical-align: middle;\n",
       "    }\n",
       "\n",
       "    .dataframe tbody tr th {\n",
       "        vertical-align: top;\n",
       "    }\n",
       "\n",
       "    .dataframe thead th {\n",
       "        text-align: right;\n",
       "    }\n",
       "</style>\n",
       "<table border=\"1\" class=\"dataframe\">\n",
       "  <thead>\n",
       "    <tr style=\"text-align: right;\">\n",
       "      <th></th>\n",
       "      <th>VENDAS</th>\n",
       "    </tr>\n",
       "    <tr>\n",
       "      <th>GRANDE REGIÃO</th>\n",
       "      <th></th>\n",
       "    </tr>\n",
       "  </thead>\n",
       "  <tbody>\n",
       "    <tr>\n",
       "      <th>CENTRO-OESTE</th>\n",
       "      <td>3.482234e+08</td>\n",
       "    </tr>\n",
       "    <tr>\n",
       "      <th>NORDESTE</th>\n",
       "      <td>5.438019e+08</td>\n",
       "    </tr>\n",
       "    <tr>\n",
       "      <th>NORTE</th>\n",
       "      <td>2.513606e+08</td>\n",
       "    </tr>\n",
       "    <tr>\n",
       "      <th>SUDESTE</th>\n",
       "      <td>1.633607e+09</td>\n",
       "    </tr>\n",
       "    <tr>\n",
       "      <th>SUL</th>\n",
       "      <td>6.095574e+08</td>\n",
       "    </tr>\n",
       "  </tbody>\n",
       "</table>\n",
       "</div>"
      ],
      "text/plain": [
       "                     VENDAS\n",
       "GRANDE REGIÃO              \n",
       "CENTRO-OESTE   3.482234e+08\n",
       "NORDESTE       5.438019e+08\n",
       "NORTE          2.513606e+08\n",
       "SUDESTE        1.633607e+09\n",
       "SUL            6.095574e+08"
      ]
     },
     "execution_count": 9,
     "metadata": {},
     "output_type": "execute_result"
    }
   ],
   "source": [
    "vendasPetEta[['GRANDE REGIÃO', 'VENDAS']].groupby(by='GRANDE REGIÃO').sum()"
   ]
  },
  {
   "cell_type": "markdown",
   "id": "fbc42ae3",
   "metadata": {},
   "source": [
    "- A região SUL possui a maior quantidade de volume vendido com aproximadamente 610 milhões de metros cúbicos."
   ]
  },
  {
   "cell_type": "markdown",
   "id": "54ca76cb",
   "metadata": {},
   "source": [
    "### P3 - Qual o produto com maior volume vendido?"
   ]
  },
  {
   "cell_type": "code",
   "execution_count": 13,
   "id": "25f3c472",
   "metadata": {},
   "outputs": [
    {
     "data": {
      "text/html": [
       "<div>\n",
       "<style scoped>\n",
       "    .dataframe tbody tr th:only-of-type {\n",
       "        vertical-align: middle;\n",
       "    }\n",
       "\n",
       "    .dataframe tbody tr th {\n",
       "        vertical-align: top;\n",
       "    }\n",
       "\n",
       "    .dataframe thead th {\n",
       "        text-align: right;\n",
       "    }\n",
       "</style>\n",
       "<table border=\"1\" class=\"dataframe\">\n",
       "  <thead>\n",
       "    <tr style=\"text-align: right;\">\n",
       "      <th></th>\n",
       "      <th>VENDAS</th>\n",
       "    </tr>\n",
       "    <tr>\n",
       "      <th>PRODUTO</th>\n",
       "      <th></th>\n",
       "    </tr>\n",
       "  </thead>\n",
       "  <tbody>\n",
       "    <tr>\n",
       "      <th>ÓLEO DIESEL</th>\n",
       "      <td>1.381710e+09</td>\n",
       "    </tr>\n",
       "    <tr>\n",
       "      <th>GASOLINA C</th>\n",
       "      <td>8.898557e+08</td>\n",
       "    </tr>\n",
       "    <tr>\n",
       "      <th>GLP</th>\n",
       "      <td>3.882240e+08</td>\n",
       "    </tr>\n",
       "    <tr>\n",
       "      <th>ETANOL HIDRATADO</th>\n",
       "      <td>3.502190e+08</td>\n",
       "    </tr>\n",
       "    <tr>\n",
       "      <th>ÓLEO COMBUSTÍVEL</th>\n",
       "      <td>2.078970e+08</td>\n",
       "    </tr>\n",
       "    <tr>\n",
       "      <th>QUEROSENE DE AVIAÇÃO</th>\n",
       "      <td>1.634650e+08</td>\n",
       "    </tr>\n",
       "    <tr>\n",
       "      <th>QUEROSENE ILUMINANTE</th>\n",
       "      <td>3.119968e+06</td>\n",
       "    </tr>\n",
       "    <tr>\n",
       "      <th>GASOLINA DE AVIAÇÃO</th>\n",
       "      <td>2.059783e+06</td>\n",
       "    </tr>\n",
       "  </tbody>\n",
       "</table>\n",
       "</div>"
      ],
      "text/plain": [
       "                            VENDAS\n",
       "PRODUTO                           \n",
       "ÓLEO DIESEL           1.381710e+09\n",
       "GASOLINA C            8.898557e+08\n",
       "GLP                   3.882240e+08\n",
       "ETANOL HIDRATADO      3.502190e+08\n",
       "ÓLEO COMBUSTÍVEL      2.078970e+08\n",
       "QUEROSENE DE AVIAÇÃO  1.634650e+08\n",
       "QUEROSENE ILUMINANTE  3.119968e+06\n",
       "GASOLINA DE AVIAÇÃO   2.059783e+06"
      ]
     },
     "execution_count": 13,
     "metadata": {},
     "output_type": "execute_result"
    }
   ],
   "source": [
    "vendasPetEta[['PRODUTO', 'VENDAS']].groupby(by='PRODUTO').sum().sort_values(by='VENDAS', ascending=False)"
   ]
  },
  {
   "cell_type": "markdown",
   "id": "8fa94067",
   "metadata": {},
   "source": [
    "- O produto mais vendido seria o ÓLEO DIESEL com quase 1382 milhões de metros cúbicos vendidos."
   ]
  },
  {
   "cell_type": "markdown",
   "id": "0cd732ec",
   "metadata": {},
   "source": [
    "### P4 - Qual o produto com maior volume vendido no 2007?"
   ]
  },
  {
   "cell_type": "code",
   "execution_count": 70,
   "id": "c927a69a",
   "metadata": {},
   "outputs": [
    {
     "data": {
      "text/html": [
       "<div>\n",
       "<style scoped>\n",
       "    .dataframe tbody tr th:only-of-type {\n",
       "        vertical-align: middle;\n",
       "    }\n",
       "\n",
       "    .dataframe tbody tr th {\n",
       "        vertical-align: top;\n",
       "    }\n",
       "\n",
       "    .dataframe thead th {\n",
       "        text-align: right;\n",
       "    }\n",
       "</style>\n",
       "<table border=\"1\" class=\"dataframe\">\n",
       "  <thead>\n",
       "    <tr style=\"text-align: right;\">\n",
       "      <th></th>\n",
       "      <th>VENDAS</th>\n",
       "    </tr>\n",
       "    <tr>\n",
       "      <th>PRODUTO</th>\n",
       "      <th></th>\n",
       "    </tr>\n",
       "  </thead>\n",
       "  <tbody>\n",
       "    <tr>\n",
       "      <th>ÓLEO DIESEL</th>\n",
       "      <td>4.155818e+07</td>\n",
       "    </tr>\n",
       "    <tr>\n",
       "      <th>GASOLINA C</th>\n",
       "      <td>2.432545e+07</td>\n",
       "    </tr>\n",
       "    <tr>\n",
       "      <th>GLP</th>\n",
       "      <td>1.203418e+07</td>\n",
       "    </tr>\n",
       "    <tr>\n",
       "      <th>ETANOL HIDRATADO</th>\n",
       "      <td>9.366836e+06</td>\n",
       "    </tr>\n",
       "    <tr>\n",
       "      <th>ÓLEO COMBUSTÍVEL</th>\n",
       "      <td>5.525058e+06</td>\n",
       "    </tr>\n",
       "    <tr>\n",
       "      <th>QUEROSENE DE AVIAÇÃO</th>\n",
       "      <td>4.890597e+06</td>\n",
       "    </tr>\n",
       "    <tr>\n",
       "      <th>GASOLINA DE AVIAÇÃO</th>\n",
       "      <td>5.474375e+04</td>\n",
       "    </tr>\n",
       "    <tr>\n",
       "      <th>QUEROSENE ILUMINANTE</th>\n",
       "      <td>3.067140e+04</td>\n",
       "    </tr>\n",
       "  </tbody>\n",
       "</table>\n",
       "</div>"
      ],
      "text/plain": [
       "                            VENDAS\n",
       "PRODUTO                           \n",
       "ÓLEO DIESEL           4.155818e+07\n",
       "GASOLINA C            2.432545e+07\n",
       "GLP                   1.203418e+07\n",
       "ETANOL HIDRATADO      9.366836e+06\n",
       "ÓLEO COMBUSTÍVEL      5.525058e+06\n",
       "QUEROSENE DE AVIAÇÃO  4.890597e+06\n",
       "GASOLINA DE AVIAÇÃO   5.474375e+04\n",
       "QUEROSENE ILUMINANTE  3.067140e+04"
      ]
     },
     "execution_count": 70,
     "metadata": {},
     "output_type": "execute_result"
    }
   ],
   "source": [
    "filtro = vendasPetEta[vendasPetEta['DATA'].dt.year == 2007]  # filtra por ano\n",
    "filtro[['PRODUTO', 'VENDAS']].groupby(by='PRODUTO').sum().sort_values(by='VENDAS', ascending=False)"
   ]
  },
  {
   "cell_type": "markdown",
   "id": "775d2c97",
   "metadata": {},
   "source": [
    "- O produto mais vendido no 2007 seria o ÓLEO DIESEL com quase 42 milhões de metros cúbicos vendidos."
   ]
  },
  {
   "cell_type": "markdown",
   "id": "97207ea4",
   "metadata": {},
   "source": [
    "### P5 - Qual o estado com menor volume vendido entre os anos 2010 e 2015?"
   ]
  },
  {
   "cell_type": "code",
   "execution_count": 73,
   "id": "e3ae9108",
   "metadata": {
    "scrolled": true
   },
   "outputs": [
    {
     "data": {
      "text/html": [
       "<div>\n",
       "<style scoped>\n",
       "    .dataframe tbody tr th:only-of-type {\n",
       "        vertical-align: middle;\n",
       "    }\n",
       "\n",
       "    .dataframe tbody tr th {\n",
       "        vertical-align: top;\n",
       "    }\n",
       "\n",
       "    .dataframe thead th {\n",
       "        text-align: right;\n",
       "    }\n",
       "</style>\n",
       "<table border=\"1\" class=\"dataframe\">\n",
       "  <thead>\n",
       "    <tr style=\"text-align: right;\">\n",
       "      <th></th>\n",
       "      <th>VENDAS</th>\n",
       "    </tr>\n",
       "    <tr>\n",
       "      <th>UNIDADE DA FEDERAÇÃO</th>\n",
       "      <th></th>\n",
       "    </tr>\n",
       "  </thead>\n",
       "  <tbody>\n",
       "    <tr>\n",
       "      <th>RORAIMA</th>\n",
       "      <td>1.497750e+06</td>\n",
       "    </tr>\n",
       "    <tr>\n",
       "      <th>ACRE</th>\n",
       "      <td>2.057293e+06</td>\n",
       "    </tr>\n",
       "    <tr>\n",
       "      <th>AMAPÁ</th>\n",
       "      <td>3.374819e+06</td>\n",
       "    </tr>\n",
       "    <tr>\n",
       "      <th>SERGIPE</th>\n",
       "      <td>5.312385e+06</td>\n",
       "    </tr>\n",
       "    <tr>\n",
       "      <th>ALAGOAS</th>\n",
       "      <td>6.172754e+06</td>\n",
       "    </tr>\n",
       "    <tr>\n",
       "      <th>PIAUÍ</th>\n",
       "      <td>7.128344e+06</td>\n",
       "    </tr>\n",
       "    <tr>\n",
       "      <th>TOCANTINS</th>\n",
       "      <td>7.337414e+06</td>\n",
       "    </tr>\n",
       "    <tr>\n",
       "      <th>RONDÔNIA</th>\n",
       "      <td>8.022147e+06</td>\n",
       "    </tr>\n",
       "    <tr>\n",
       "      <th>RIO GRANDE DO NORTE</th>\n",
       "      <td>8.658377e+06</td>\n",
       "    </tr>\n",
       "    <tr>\n",
       "      <th>PARAÍBA</th>\n",
       "      <td>9.950068e+06</td>\n",
       "    </tr>\n",
       "    <tr>\n",
       "      <th>DISTRITO FEDERAL</th>\n",
       "      <td>1.334799e+07</td>\n",
       "    </tr>\n",
       "    <tr>\n",
       "      <th>MATO GROSSO DO SUL</th>\n",
       "      <td>1.371895e+07</td>\n",
       "    </tr>\n",
       "    <tr>\n",
       "      <th>ESPÍRITO SANTO</th>\n",
       "      <td>1.502758e+07</td>\n",
       "    </tr>\n",
       "    <tr>\n",
       "      <th>AMAZONAS</th>\n",
       "      <td>1.620700e+07</td>\n",
       "    </tr>\n",
       "    <tr>\n",
       "      <th>MARANHÃO</th>\n",
       "      <td>1.662510e+07</td>\n",
       "    </tr>\n",
       "    <tr>\n",
       "      <th>CEARÁ</th>\n",
       "      <td>1.820905e+07</td>\n",
       "    </tr>\n",
       "    <tr>\n",
       "      <th>MATO GROSSO</th>\n",
       "      <td>2.252819e+07</td>\n",
       "    </tr>\n",
       "    <tr>\n",
       "      <th>PERNAMBUCO</th>\n",
       "      <td>2.416009e+07</td>\n",
       "    </tr>\n",
       "    <tr>\n",
       "      <th>PARÁ</th>\n",
       "      <td>2.627067e+07</td>\n",
       "    </tr>\n",
       "    <tr>\n",
       "      <th>SANTA CATARINA</th>\n",
       "      <td>3.284197e+07</td>\n",
       "    </tr>\n",
       "    <tr>\n",
       "      <th>GOIÁS</th>\n",
       "      <td>3.524046e+07</td>\n",
       "    </tr>\n",
       "    <tr>\n",
       "      <th>BAHIA</th>\n",
       "      <td>4.213452e+07</td>\n",
       "    </tr>\n",
       "    <tr>\n",
       "      <th>RIO GRANDE DO SUL</th>\n",
       "      <td>4.712727e+07</td>\n",
       "    </tr>\n",
       "    <tr>\n",
       "      <th>RIO DE JANEIRO</th>\n",
       "      <td>4.949380e+07</td>\n",
       "    </tr>\n",
       "    <tr>\n",
       "      <th>PARANÁ</th>\n",
       "      <td>5.869569e+07</td>\n",
       "    </tr>\n",
       "    <tr>\n",
       "      <th>MINAS GERAIS</th>\n",
       "      <td>8.614428e+07</td>\n",
       "    </tr>\n",
       "    <tr>\n",
       "      <th>SÃO PAULO</th>\n",
       "      <td>2.163215e+08</td>\n",
       "    </tr>\n",
       "  </tbody>\n",
       "</table>\n",
       "</div>"
      ],
      "text/plain": [
       "                            VENDAS\n",
       "UNIDADE DA FEDERAÇÃO              \n",
       "RORAIMA               1.497750e+06\n",
       "ACRE                  2.057293e+06\n",
       "AMAPÁ                 3.374819e+06\n",
       "SERGIPE               5.312385e+06\n",
       "ALAGOAS               6.172754e+06\n",
       "PIAUÍ                 7.128344e+06\n",
       "TOCANTINS             7.337414e+06\n",
       "RONDÔNIA              8.022147e+06\n",
       "RIO GRANDE DO NORTE   8.658377e+06\n",
       "PARAÍBA               9.950068e+06\n",
       "DISTRITO FEDERAL      1.334799e+07\n",
       "MATO GROSSO DO SUL    1.371895e+07\n",
       "ESPÍRITO SANTO        1.502758e+07\n",
       "AMAZONAS              1.620700e+07\n",
       "MARANHÃO              1.662510e+07\n",
       "CEARÁ                 1.820905e+07\n",
       "MATO GROSSO           2.252819e+07\n",
       "PERNAMBUCO            2.416009e+07\n",
       "PARÁ                  2.627067e+07\n",
       "SANTA CATARINA        3.284197e+07\n",
       "GOIÁS                 3.524046e+07\n",
       "BAHIA                 4.213452e+07\n",
       "RIO GRANDE DO SUL     4.712727e+07\n",
       "RIO DE JANEIRO        4.949380e+07\n",
       "PARANÁ                5.869569e+07\n",
       "MINAS GERAIS          8.614428e+07\n",
       "SÃO PAULO             2.163215e+08"
      ]
     },
     "execution_count": 73,
     "metadata": {},
     "output_type": "execute_result"
    }
   ],
   "source": [
    "filtro = vendasPetEta[(vendasPetEta['DATA'].dt.year >= 2010) & (vendasPetEta['DATA'].dt.year <= 2015)]  # filtra entre 2010 e 2015\n",
    "filtro[['UNIDADE DA FEDERAÇÃO', 'VENDAS']].groupby(by='UNIDADE DA FEDERAÇÃO').sum().sort_values(by='VENDAS', ascending=True)"
   ]
  },
  {
   "cell_type": "markdown",
   "id": "faf9a2fa",
   "metadata": {},
   "source": [
    "- O estado de \"RORAIMA\" é o estado com menor venda de derivados do petróleo e etanol com quase 1,5 milhões de metros cúbicos."
   ]
  },
  {
   "cell_type": "markdown",
   "id": "62e41450",
   "metadata": {},
   "source": [
    "### P6 - No estado da Bahia, qual o produto(s) com volume vendido entre 4000 a 10000 m3 no ano 2000?"
   ]
  },
  {
   "cell_type": "code",
   "execution_count": 88,
   "id": "af732585",
   "metadata": {},
   "outputs": [
    {
     "data": {
      "text/html": [
       "<div>\n",
       "<style scoped>\n",
       "    .dataframe tbody tr th:only-of-type {\n",
       "        vertical-align: middle;\n",
       "    }\n",
       "\n",
       "    .dataframe tbody tr th {\n",
       "        vertical-align: top;\n",
       "    }\n",
       "\n",
       "    .dataframe thead th {\n",
       "        text-align: right;\n",
       "    }\n",
       "</style>\n",
       "<table border=\"1\" class=\"dataframe\">\n",
       "  <thead>\n",
       "    <tr style=\"text-align: right;\">\n",
       "      <th></th>\n",
       "      <th>GRANDE REGIÃO</th>\n",
       "      <th>UNIDADE DA FEDERAÇÃO</th>\n",
       "      <th>PRODUTO</th>\n",
       "      <th>VENDAS</th>\n",
       "      <th>DATA</th>\n",
       "    </tr>\n",
       "  </thead>\n",
       "  <tbody>\n",
       "    <tr>\n",
       "      <th>7690</th>\n",
       "      <td>NORDESTE</td>\n",
       "      <td>BAHIA</td>\n",
       "      <td>ETANOL HIDRATADO</td>\n",
       "      <td>8536.354</td>\n",
       "      <td>2000-03-01</td>\n",
       "    </tr>\n",
       "    <tr>\n",
       "      <th>7691</th>\n",
       "      <td>NORDESTE</td>\n",
       "      <td>BAHIA</td>\n",
       "      <td>ETANOL HIDRATADO</td>\n",
       "      <td>9104.801</td>\n",
       "      <td>2000-02-01</td>\n",
       "    </tr>\n",
       "    <tr>\n",
       "      <th>7723</th>\n",
       "      <td>NORDESTE</td>\n",
       "      <td>BAHIA</td>\n",
       "      <td>ETANOL HIDRATADO</td>\n",
       "      <td>7062.539</td>\n",
       "      <td>2000-10-01</td>\n",
       "    </tr>\n",
       "    <tr>\n",
       "      <th>7724</th>\n",
       "      <td>NORDESTE</td>\n",
       "      <td>BAHIA</td>\n",
       "      <td>ETANOL HIDRATADO</td>\n",
       "      <td>7359.172</td>\n",
       "      <td>2000-09-01</td>\n",
       "    </tr>\n",
       "    <tr>\n",
       "      <th>7725</th>\n",
       "      <td>NORDESTE</td>\n",
       "      <td>BAHIA</td>\n",
       "      <td>ETANOL HIDRATADO</td>\n",
       "      <td>8172.684</td>\n",
       "      <td>2000-11-01</td>\n",
       "    </tr>\n",
       "    <tr>\n",
       "      <th>7729</th>\n",
       "      <td>NORDESTE</td>\n",
       "      <td>BAHIA</td>\n",
       "      <td>ETANOL HIDRATADO</td>\n",
       "      <td>8058.209</td>\n",
       "      <td>2000-04-01</td>\n",
       "    </tr>\n",
       "    <tr>\n",
       "      <th>7730</th>\n",
       "      <td>NORDESTE</td>\n",
       "      <td>BAHIA</td>\n",
       "      <td>ETANOL HIDRATADO</td>\n",
       "      <td>6526.833</td>\n",
       "      <td>2000-06-01</td>\n",
       "    </tr>\n",
       "    <tr>\n",
       "      <th>7731</th>\n",
       "      <td>NORDESTE</td>\n",
       "      <td>BAHIA</td>\n",
       "      <td>ETANOL HIDRATADO</td>\n",
       "      <td>8058.728</td>\n",
       "      <td>2000-08-01</td>\n",
       "    </tr>\n",
       "    <tr>\n",
       "      <th>7734</th>\n",
       "      <td>NORDESTE</td>\n",
       "      <td>BAHIA</td>\n",
       "      <td>ETANOL HIDRATADO</td>\n",
       "      <td>8012.938</td>\n",
       "      <td>2000-05-01</td>\n",
       "    </tr>\n",
       "    <tr>\n",
       "      <th>7762</th>\n",
       "      <td>NORDESTE</td>\n",
       "      <td>BAHIA</td>\n",
       "      <td>ETANOL HIDRATADO</td>\n",
       "      <td>8601.522</td>\n",
       "      <td>2000-07-01</td>\n",
       "    </tr>\n",
       "  </tbody>\n",
       "</table>\n",
       "</div>"
      ],
      "text/plain": [
       "     GRANDE REGIÃO UNIDADE DA FEDERAÇÃO           PRODUTO    VENDAS       DATA\n",
       "7690      NORDESTE                BAHIA  ETANOL HIDRATADO  8536.354 2000-03-01\n",
       "7691      NORDESTE                BAHIA  ETANOL HIDRATADO  9104.801 2000-02-01\n",
       "7723      NORDESTE                BAHIA  ETANOL HIDRATADO  7062.539 2000-10-01\n",
       "7724      NORDESTE                BAHIA  ETANOL HIDRATADO  7359.172 2000-09-01\n",
       "7725      NORDESTE                BAHIA  ETANOL HIDRATADO  8172.684 2000-11-01\n",
       "7729      NORDESTE                BAHIA  ETANOL HIDRATADO  8058.209 2000-04-01\n",
       "7730      NORDESTE                BAHIA  ETANOL HIDRATADO  6526.833 2000-06-01\n",
       "7731      NORDESTE                BAHIA  ETANOL HIDRATADO  8058.728 2000-08-01\n",
       "7734      NORDESTE                BAHIA  ETANOL HIDRATADO  8012.938 2000-05-01\n",
       "7762      NORDESTE                BAHIA  ETANOL HIDRATADO  8601.522 2000-07-01"
      ]
     },
     "execution_count": 88,
     "metadata": {},
     "output_type": "execute_result"
    }
   ],
   "source": [
    "filBahia = vendasPetEta[vendasPetEta['UNIDADE DA FEDERAÇÃO'] == 'BAHIA']  # filtra por estado\n",
    "filBahiaVol = filBahia[(filBahia['VENDAS'] >= 4000) & (filBahia['VENDAS'] <= 10000)]  # filtra por volume\n",
    "filBahiaVol[filBahiaVol['DATA'].dt.year == 2000]"
   ]
  },
  {
   "cell_type": "markdown",
   "id": "4957b1c2",
   "metadata": {},
   "source": [
    "- O produto seria o ETANOL HIDRATADO."
   ]
  },
  {
   "cell_type": "markdown",
   "id": "9da2c5a1",
   "metadata": {},
   "source": [
    "### P7 - Quais foram as vendas por mêses no estado da Amazonas no ano 2012?"
   ]
  },
  {
   "cell_type": "code",
   "execution_count": 100,
   "id": "ef8609dc",
   "metadata": {},
   "outputs": [
    {
     "data": {
      "text/html": [
       "<div>\n",
       "<style scoped>\n",
       "    .dataframe tbody tr th:only-of-type {\n",
       "        vertical-align: middle;\n",
       "    }\n",
       "\n",
       "    .dataframe tbody tr th {\n",
       "        vertical-align: top;\n",
       "    }\n",
       "\n",
       "    .dataframe thead th {\n",
       "        text-align: right;\n",
       "    }\n",
       "</style>\n",
       "<table border=\"1\" class=\"dataframe\">\n",
       "  <thead>\n",
       "    <tr style=\"text-align: right;\">\n",
       "      <th></th>\n",
       "      <th>VENDAS</th>\n",
       "    </tr>\n",
       "    <tr>\n",
       "      <th>DATA</th>\n",
       "      <th></th>\n",
       "    </tr>\n",
       "  </thead>\n",
       "  <tbody>\n",
       "    <tr>\n",
       "      <th>2012-01-01</th>\n",
       "      <td>192863.129536</td>\n",
       "    </tr>\n",
       "    <tr>\n",
       "      <th>2012-02-01</th>\n",
       "      <td>186838.889849</td>\n",
       "    </tr>\n",
       "    <tr>\n",
       "      <th>2012-03-01</th>\n",
       "      <td>216001.478734</td>\n",
       "    </tr>\n",
       "    <tr>\n",
       "      <th>2012-04-01</th>\n",
       "      <td>219097.968501</td>\n",
       "    </tr>\n",
       "    <tr>\n",
       "      <th>2012-05-01</th>\n",
       "      <td>224159.954991</td>\n",
       "    </tr>\n",
       "    <tr>\n",
       "      <th>2012-06-01</th>\n",
       "      <td>232514.924079</td>\n",
       "    </tr>\n",
       "    <tr>\n",
       "      <th>2012-07-01</th>\n",
       "      <td>243207.044300</td>\n",
       "    </tr>\n",
       "    <tr>\n",
       "      <th>2012-08-01</th>\n",
       "      <td>267749.979141</td>\n",
       "    </tr>\n",
       "    <tr>\n",
       "      <th>2012-09-01</th>\n",
       "      <td>244736.657235</td>\n",
       "    </tr>\n",
       "    <tr>\n",
       "      <th>2012-10-01</th>\n",
       "      <td>257569.823989</td>\n",
       "    </tr>\n",
       "    <tr>\n",
       "      <th>2012-11-01</th>\n",
       "      <td>239721.620981</td>\n",
       "    </tr>\n",
       "    <tr>\n",
       "      <th>2012-12-01</th>\n",
       "      <td>226952.333150</td>\n",
       "    </tr>\n",
       "  </tbody>\n",
       "</table>\n",
       "</div>"
      ],
      "text/plain": [
       "                   VENDAS\n",
       "DATA                     \n",
       "2012-01-01  192863.129536\n",
       "2012-02-01  186838.889849\n",
       "2012-03-01  216001.478734\n",
       "2012-04-01  219097.968501\n",
       "2012-05-01  224159.954991\n",
       "2012-06-01  232514.924079\n",
       "2012-07-01  243207.044300\n",
       "2012-08-01  267749.979141\n",
       "2012-09-01  244736.657235\n",
       "2012-10-01  257569.823989\n",
       "2012-11-01  239721.620981\n",
       "2012-12-01  226952.333150"
      ]
     },
     "execution_count": 100,
     "metadata": {},
     "output_type": "execute_result"
    }
   ],
   "source": [
    "amazonas = vendasPetEta[vendasPetEta['UNIDADE DA FEDERAÇÃO'] == 'AMAZONAS']  # filtra por estado\n",
    "amazonas[(amazonas['DATA'].dt.year == 2012)][['VENDAS', 'DATA']].groupby(by='DATA').sum()  # filtra por mês e totaliza as vendas"
   ]
  },
  {
   "cell_type": "markdown",
   "id": "7904d955",
   "metadata": {},
   "source": [
    "### P8 - Crie um gráfico de barras das vendas da região Nordeste por mês no ano 2007?"
   ]
  },
  {
   "cell_type": "code",
   "execution_count": 117,
   "id": "d2e18f96",
   "metadata": {},
   "outputs": [
    {
     "data": {
      "text/html": [
       "<div>\n",
       "<style scoped>\n",
       "    .dataframe tbody tr th:only-of-type {\n",
       "        vertical-align: middle;\n",
       "    }\n",
       "\n",
       "    .dataframe tbody tr th {\n",
       "        vertical-align: top;\n",
       "    }\n",
       "\n",
       "    .dataframe thead th {\n",
       "        text-align: right;\n",
       "    }\n",
       "</style>\n",
       "<table border=\"1\" class=\"dataframe\">\n",
       "  <thead>\n",
       "    <tr style=\"text-align: right;\">\n",
       "      <th></th>\n",
       "      <th>VENDAS</th>\n",
       "    </tr>\n",
       "    <tr>\n",
       "      <th>DATA</th>\n",
       "      <th></th>\n",
       "    </tr>\n",
       "  </thead>\n",
       "  <tbody>\n",
       "    <tr>\n",
       "      <th>2007-01-01</th>\n",
       "      <td>1.221052e+06</td>\n",
       "    </tr>\n",
       "    <tr>\n",
       "      <th>2007-02-01</th>\n",
       "      <td>1.062589e+06</td>\n",
       "    </tr>\n",
       "    <tr>\n",
       "      <th>2007-03-01</th>\n",
       "      <td>1.208522e+06</td>\n",
       "    </tr>\n",
       "    <tr>\n",
       "      <th>2007-04-01</th>\n",
       "      <td>1.109781e+06</td>\n",
       "    </tr>\n",
       "    <tr>\n",
       "      <th>2007-05-01</th>\n",
       "      <td>1.190155e+06</td>\n",
       "    </tr>\n",
       "    <tr>\n",
       "      <th>2007-06-01</th>\n",
       "      <td>1.175353e+06</td>\n",
       "    </tr>\n",
       "    <tr>\n",
       "      <th>2007-07-01</th>\n",
       "      <td>1.207994e+06</td>\n",
       "    </tr>\n",
       "    <tr>\n",
       "      <th>2007-08-01</th>\n",
       "      <td>1.272507e+06</td>\n",
       "    </tr>\n",
       "    <tr>\n",
       "      <th>2007-09-01</th>\n",
       "      <td>1.202115e+06</td>\n",
       "    </tr>\n",
       "    <tr>\n",
       "      <th>2007-10-01</th>\n",
       "      <td>1.355432e+06</td>\n",
       "    </tr>\n",
       "    <tr>\n",
       "      <th>2007-11-01</th>\n",
       "      <td>1.294347e+06</td>\n",
       "    </tr>\n",
       "    <tr>\n",
       "      <th>2007-12-01</th>\n",
       "      <td>1.378175e+06</td>\n",
       "    </tr>\n",
       "  </tbody>\n",
       "</table>\n",
       "</div>"
      ],
      "text/plain": [
       "                  VENDAS\n",
       "DATA                    \n",
       "2007-01-01  1.221052e+06\n",
       "2007-02-01  1.062589e+06\n",
       "2007-03-01  1.208522e+06\n",
       "2007-04-01  1.109781e+06\n",
       "2007-05-01  1.190155e+06\n",
       "2007-06-01  1.175353e+06\n",
       "2007-07-01  1.207994e+06\n",
       "2007-08-01  1.272507e+06\n",
       "2007-09-01  1.202115e+06\n",
       "2007-10-01  1.355432e+06\n",
       "2007-11-01  1.294347e+06\n",
       "2007-12-01  1.378175e+06"
      ]
     },
     "execution_count": 117,
     "metadata": {},
     "output_type": "execute_result"
    }
   ],
   "source": [
    "filtro = vendasPetEta[(vendasPetEta['GRANDE REGIÃO'] == 'NORDESTE') & (vendasPetEta['DATA'].dt.year == 2007)]  # filtra por ano e região\n",
    "result = filtro[['DATA', 'VENDAS']].groupby(by='DATA').sum()  # soma das vendas por mês\n",
    "result"
   ]
  },
  {
   "cell_type": "code",
   "execution_count": 141,
   "id": "961cc32d",
   "metadata": {},
   "outputs": [
    {
     "data": {
      "image/png": "[encoded data removed]",
      "text/plain": [
       "<Figure size 432x288 with 1 Axes>"
      ]
     },
     "metadata": {
      "needs_background": "light"
     },
     "output_type": "display_data"
    }
   ],
   "source": [
    "# visualiza os resultados através de um gráfico de barras\n",
    "plt.barh(result.index.month, result.values.flatten())\n",
    "plt.ylabel('Mesês')\n",
    "plt.xlabel('Volume (m3)')\n",
    "plt.title('Venda mensal na região Nordeste, ano 2007')\n",
    "plt.show()"
   ]
  },
  {
   "cell_type": "markdown",
   "id": "0758bc1c",
   "metadata": {},
   "source": [
    "- Percebe-se que no mês de dezembro vendeou-se a maior quantidade de derivados. Em contraste, o mês de fevereiro foi a que teve a menor venda."
   ]
  },
  {
   "cell_type": "markdown",
   "id": "27532063",
   "metadata": {},
   "source": [
    "### P9 - Crie um gráfico comparativo das vendas na região Nordeste, Sudeste e Norte por mês no ano 2010?"
   ]
  },
  {
   "cell_type": "code",
   "execution_count": 203,
   "id": "9b2843d2",
   "metadata": {},
   "outputs": [],
   "source": [
    "# filtra por região e ano\n",
    "nordeste = vendasPetEta[(vendasPetEta['GRANDE REGIÃO'] == 'NORDESTE') & (vendasPetEta['DATA'].dt.year == 2010)]\n",
    "sudeste = vendasPetEta[(vendasPetEta['GRANDE REGIÃO'] == 'SUDESTE') & (vendasPetEta['DATA'].dt.year == 2010)]\n",
    "norte = vendasPetEta[(vendasPetEta['GRANDE REGIÃO'] == 'NORTE') & (vendasPetEta['DATA'].dt.year == 2010)]\n",
    "# agrupa colunas desejadas\n",
    "nordeste2010 = nordeste[['VENDAS', 'DATA']].groupby(by='DATA').sum()\n",
    "sudeste2010 = sudeste[['VENDAS', 'DATA']].groupby(by='DATA').sum()\n",
    "norte2010 = norte[['VENDAS', 'DATA']].groupby(by='DATA').sum()"
   ]
  },
  {
   "cell_type": "code",
   "execution_count": 186,
   "id": "7835eb33",
   "metadata": {
    "scrolled": true
   },
   "outputs": [
    {
     "data": {
      "image/png": "[encoded data removed]",
      "text/plain": [
       "<Figure size 720x360 with 1 Axes>"
      ]
     },
     "metadata": {
      "needs_background": "light"
     },
     "output_type": "display_data"
    }
   ],
   "source": [
    "# visualiza os resultados através de um gráfico de barras\n",
    "barWidth = 0.25\n",
    "plt.figure(figsize=(10,5))\n",
    "\n",
    "pos1 = np.arange(len(nordeste2010))\n",
    "pos2 = [x + barWidth for x in pos1]\n",
    "pos3 = [x + barWidth for x in pos2]\n",
    "\n",
    "plt.bar(pos1, nordeste2010.values.flatten(), width=barWidth, color='r', label='Nordeste')\n",
    "plt.bar(pos2, sudeste2010.values.flatten(), width=barWidth, color='g', label='Sudeste')\n",
    "plt.bar(pos3, norte2010.values.flatten(), width=barWidth, color='b', label='Norte')\n",
    "\n",
    "plt.xlabel('Mêses')\n",
    "plt.xticks([pos + barWidth for pos in range(len(nordeste2010))], nordeste2010.index.month)\n",
    "plt.ylabel('Volume (m3)')\n",
    "plt.title('Comparação no volume de vendas nas regiões Nordeste, Sudeste e Norte no 2010')\n",
    "\n",
    "plt.legend()\n",
    "plt.show()"
   ]
  },
  {
   "cell_type": "markdown",
   "id": "df9e2b55",
   "metadata": {},
   "source": [
    "- No gráfico, a região Sudeste possui um volume de vendas muito superior às outras duas regiões em todos os mêses do ano 2010;\n",
    "- O menor volume de vendas, nesta comparação, seria para a região Norte;\n",
    "- Nas regiões do Nordeste e Norte, praticamente a vendas em todos os mêses possui poucas variações;\n",
    "- Em janeiro e fevereio para a região Sudeste existe uma queda nas vendas quando comparado aos demais mêses."
   ]
  },
  {
   "cell_type": "markdown",
   "id": "8e2a380b",
   "metadata": {},
   "source": [
    "### P10 - Crie um gráfico comparativo das vendas mensais nos estados da região Sudeste no ano 2010?"
   ]
  },
  {
   "cell_type": "code",
   "execution_count": 196,
   "id": "2bc315ae",
   "metadata": {},
   "outputs": [],
   "source": [
    " # filtra por região e ano e agrupa por colunas desejadas\n",
    "sudeste2010 = vendasPetEta[(vendasPetEta['GRANDE REGIÃO'] == 'SUDESTE') & (vendasPetEta['DATA'].dt.year == 2010)]\n",
    "rioJaneiro = sudeste2010[sudeste2010['UNIDADE DA FEDERAÇÃO'] == 'RIO DE JANEIRO'][['VENDAS', 'DATA']].groupby(by='DATA').sum()\n",
    "saoPaulo = sudeste2010[sudeste2010['UNIDADE DA FEDERAÇÃO'] == 'SÃO PAULO'][['VENDAS', 'DATA']].groupby(by='DATA').sum()\n",
    "minasGerais =sudeste2010[sudeste2010['UNIDADE DA FEDERAÇÃO'] == 'MINAS GERAIS'][['VENDAS', 'DATA']].groupby(by='DATA').sum()\n",
    "espirituSanto =sudeste2010[sudeste2010['UNIDADE DA FEDERAÇÃO'] == 'ESPÍRITO SANTO'][['VENDAS', 'DATA']].groupby(by='DATA').sum()"
   ]
  },
  {
   "cell_type": "code",
   "execution_count": 202,
   "id": "a3bb3623",
   "metadata": {},
   "outputs": [
    {
     "data": {
      "text/plain": [
       "384"
      ]
     },
     "execution_count": 202,
     "metadata": {},
     "output_type": "execute_result"
    }
   ],
   "source": [
    "len(sudeste2010)"
   ]
  },
  {
   "cell_type": "code",
   "execution_count": 207,
   "id": "5268efb4",
   "metadata": {},
   "outputs": [
    {
     "data": {
      "image/png": "[encoded data removed]",
      "text/plain": [
       "<Figure size 720x360 with 1 Axes>"
      ]
     },
     "metadata": {
      "needs_background": "light"
     },
     "output_type": "display_data"
    }
   ],
   "source": [
    "# visualiza os resultados através de um gráfico de barras\n",
    "barWidth = 0.25\n",
    "plt.figure(figsize=(10,5))\n",
    "\n",
    "pos1 = np.arange(len(sudeste2010))\n",
    "pos2 = [x + barWidth for x in pos1]\n",
    "pos3 = [x + barWidth for x in pos2]\n",
    "pos4 = [x + barWidth for x in pos3]\n",
    "\n",
    "plt.bar(pos1, rioJaneiro.values.flatten(), width=barWidth, color='r', label='Rio de Janeiro')\n",
    "plt.bar(pos2, saoPaulo.values.flatten(), width=barWidth, color='g', label='São Paulo')\n",
    "plt.bar(pos3, minasGerais.values.flatten(), width=barWidth, color='b', label='Minas Gerais')\n",
    "plt.bar(pos4, espirituSanto.values.flatten(), width=barWidth, color='y', label='Espíritu Santo')\n",
    "\n",
    "plt.xlabel('Mêses')\n",
    "plt.xticks([pos + barWidth for pos in range(12)], sudeste2010.index.month)\n",
    "plt.ylabel('Volume (m3)')\n",
    "plt.title('Comparação no volume de vendas nos estados da região Sudeste no 2010')\n",
    "\n",
    "plt.legend()\n",
    "plt.show()"
   ]
  },
  {
   "cell_type": "markdown",
   "id": "49b42e9d",
   "metadata": {},
   "source": [
    "- Percebe-se que o estado de São Paulo possui uma grande diferença no volume de vendas quando comparado aos outros estados;\n",
    "- o estado com menor volume de vendas é o estado do Espíritu Santo;\n",
    "- Nos mêses de janeiro e fevereiro, os estado de São Paulo experimenta uma queda diferenciada no volume de vendas."
   ]
  },
  {
   "cell_type": "markdown",
   "id": "0587f48b",
   "metadata": {},
   "source": [
    "### Data sources\n",
    "https://dados.gov.br/dataset/vendas-de-derivados-de-petroleo-e-biocombustiveis/resource/c26f99d7-c76d-44f6-a15c-24621415cad6\n",
    "\n",
    "https://dados.gov.br/dataset/vendas-de-derivados-de-petroleo-e-biocombustiveis/resource/c3d6e0b4-f86e-48f8-9325-6cc0d434b33f"
   ]
  }
 ],
 "metadata": {
  "kernelspec": {
   "display_name": "Python 3 (ipykernel)",
   "language": "python",
   "name": "python3"
  },
  "language_info": {
   "codemirror_mode": {
    "name": "ipython",
    "version": 3
   },
   "file_extension": ".py",
   "mimetype": "text/x-python",
   "name": "python",
   "nbconvert_exporter": "python",
   "pygments_lexer": "ipython3",
   "version": "3.10.4"
  }
 },
 "nbformat": 4,
 "nbformat_minor": 5
}

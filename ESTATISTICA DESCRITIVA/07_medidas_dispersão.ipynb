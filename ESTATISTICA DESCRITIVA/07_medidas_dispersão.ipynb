{
  "nbformat": 4,
  "nbformat_minor": 0,
  "metadata": {
    "colab": {
      "name": "07 - medidas_dispersão.ipynb",
      "provenance": [],
      "collapsed_sections": []
    },
    "kernelspec": {
      "name": "python3",
      "display_name": "Python 3"
    },
    "language_info": {
      "name": "python"
    }
  },
  "cells": [
    {
      "cell_type": "markdown",
      "metadata": {
        "id": "aFV-LyAAxBGZ"
      },
      "source": [
        "## Medidas de dispersão"
      ]
    },
    {
      "cell_type": "code",
      "metadata": {
        "id": "qBfPIhEzUATt"
      },
      "source": [
        "# carrega dependencias\n",
        "import numpy as np\n",
        "import pandas as pd"
      ],
      "execution_count": 1,
      "outputs": []
    },
    {
      "cell_type": "code",
      "source": [
        "# monta drive\n",
        "from google.colab import drive\n",
        "drive.mount('/content/drive')"
      ],
      "metadata": {
        "colab": {
          "base_uri": "https://localhost:8080/"
        },
        "id": "GHQLgOdIcLcX",
        "outputId": "e651d832-831d-4aaf-b815-24734e6a63f0"
      },
      "execution_count": 2,
      "outputs": [
        {
          "output_type": "stream",
          "name": "stdout",
          "text": [
            "Mounted at /content/drive\n"
          ]
        }
      ]
    },
    {
      "cell_type": "code",
      "metadata": {
        "id": "T80BqJgUjjqS",
        "colab": {
          "base_uri": "https://localhost:8080/",
          "height": 488
        },
        "outputId": "6cc5ecbc-439c-43e6-c2ff-ff8ce685f7a6"
      },
      "source": [
        "# carrega os dados\n",
        "enem_sp = pd.read_csv('/content/drive/MyDrive/UDEMY - Estatística para Análise de Dados/Moreno Marcos/microdados_enem_2019_sp_tratado.csv', sep=',', encoding='iso-8859-1')\n",
        "enem_sp"
      ],
      "execution_count": 3,
      "outputs": [
        {
          "output_type": "execute_result",
          "data": {
            "text/plain": [
              "       NO_MUNICIPIO_RESIDENCIA  IDADE SEXO  TP_ESTADO_CIVIL    RACA  \\\n",
              "0                 Santa Isabel     22    M                1   parda   \n",
              "1                    São Paulo     17    F                1   parda   \n",
              "2        São Bernardo do Campo     19    M                1   parda   \n",
              "3                   Embu-Guaçu     17    F                1   parda   \n",
              "4                    Guarulhos     23    F                1  branca   \n",
              "...                        ...    ...  ...              ...     ...   \n",
              "499935               São Paulo     18    F                1   parda   \n",
              "499936               São Paulo     17    F                1   preta   \n",
              "499937               São Paulo     17    F                1   parda   \n",
              "499938               São Paulo     17    M                1   parda   \n",
              "499939                  Araras     18    F                1  branca   \n",
              "\n",
              "        TP_NACIONALIDADE NO_MUNICIPIO_NASCIMENTO SG_UF_NASCIMENTO  \\\n",
              "0                      1    Santa Izabel do Pará               PA   \n",
              "1                      1                   Belém               PA   \n",
              "2                      1   São Bernardo do Campo               SP   \n",
              "3                      1             Itacoatiara               AM   \n",
              "4                      1               São Paulo               SP   \n",
              "...                  ...                     ...              ...   \n",
              "499935                 1               São Paulo               SP   \n",
              "499936                 1               São Paulo               SP   \n",
              "499937                 1               São Paulo               SP   \n",
              "499938                 1               São Paulo               SP   \n",
              "499939                 1                  Araras               SP   \n",
              "\n",
              "        TP_ST_CONCLUSAO  TP_ANO_CONCLUIU  ... NOTA_MT  TP_LINGUA  \\\n",
              "0                     1                4  ...   600.2     Inglês   \n",
              "1                     2                0  ...   731.8     Inglês   \n",
              "2                     2                0  ...   393.2   Espanhol   \n",
              "3                     2                0  ...   419.2     Inglês   \n",
              "4                     1                5  ...   796.1     Inglês   \n",
              "...                 ...              ...  ...     ...        ...   \n",
              "499935                1                1  ...   479.1   Espanhol   \n",
              "499936                2                0  ...    43.2   Espanhol   \n",
              "499937                2                0  ...   487.3     Inglês   \n",
              "499938                2                0  ...   401.1     Inglês   \n",
              "499939                2                0  ...   559.5     Inglês   \n",
              "\n",
              "        TP_STATUS_REDACAO  COMP1  COMP2  COMP3  COMP4  COMP5  NOTA_REDACAO  \\\n",
              "0                     1.0  160.0  200.0  180.0  200.0  200.0         940.0   \n",
              "1                     1.0  160.0  120.0  200.0  200.0  200.0         880.0   \n",
              "2                     1.0   80.0  160.0  120.0  100.0  100.0         560.0   \n",
              "3                     1.0  120.0  120.0  120.0  120.0   80.0         560.0   \n",
              "4                     1.0  160.0  200.0  180.0  180.0  160.0         880.0   \n",
              "...                   ...    ...    ...    ...    ...    ...           ...   \n",
              "499935                1.0  100.0  120.0  120.0  140.0  100.0         580.0   \n",
              "499936                1.0   80.0  120.0  140.0  120.0  100.0         560.0   \n",
              "499937                1.0  120.0   80.0   60.0  120.0    0.0         380.0   \n",
              "499938                1.0  160.0  120.0  160.0  140.0  160.0         740.0   \n",
              "499939                1.0  120.0  120.0  120.0  120.0  140.0         620.0   \n",
              "\n",
              "        INTERNET  \n",
              "0            Sim  \n",
              "1            Não  \n",
              "2            Sim  \n",
              "3            Sim  \n",
              "4            Sim  \n",
              "...          ...  \n",
              "499935       Sim  \n",
              "499936       Sim  \n",
              "499937       Sim  \n",
              "499938       Não  \n",
              "499939       Sim  \n",
              "\n",
              "[499940 rows x 35 columns]"
            ],
            "text/html": [
              "\n",
              "  <div id=\"df-0c5ff864-f628-466d-92d1-e2b30d9188d7\">\n",
              "    <div class=\"colab-df-container\">\n",
              "      <div>\n",
              "<style scoped>\n",
              "    .dataframe tbody tr th:only-of-type {\n",
              "        vertical-align: middle;\n",
              "    }\n",
              "\n",
              "    .dataframe tbody tr th {\n",
              "        vertical-align: top;\n",
              "    }\n",
              "\n",
              "    .dataframe thead th {\n",
              "        text-align: right;\n",
              "    }\n",
              "</style>\n",
              "<table border=\"1\" class=\"dataframe\">\n",
              "  <thead>\n",
              "    <tr style=\"text-align: right;\">\n",
              "      <th></th>\n",
              "      <th>NO_MUNICIPIO_RESIDENCIA</th>\n",
              "      <th>IDADE</th>\n",
              "      <th>SEXO</th>\n",
              "      <th>TP_ESTADO_CIVIL</th>\n",
              "      <th>RACA</th>\n",
              "      <th>TP_NACIONALIDADE</th>\n",
              "      <th>NO_MUNICIPIO_NASCIMENTO</th>\n",
              "      <th>SG_UF_NASCIMENTO</th>\n",
              "      <th>TP_ST_CONCLUSAO</th>\n",
              "      <th>TP_ANO_CONCLUIU</th>\n",
              "      <th>...</th>\n",
              "      <th>NOTA_MT</th>\n",
              "      <th>TP_LINGUA</th>\n",
              "      <th>TP_STATUS_REDACAO</th>\n",
              "      <th>COMP1</th>\n",
              "      <th>COMP2</th>\n",
              "      <th>COMP3</th>\n",
              "      <th>COMP4</th>\n",
              "      <th>COMP5</th>\n",
              "      <th>NOTA_REDACAO</th>\n",
              "      <th>INTERNET</th>\n",
              "    </tr>\n",
              "  </thead>\n",
              "  <tbody>\n",
              "    <tr>\n",
              "      <th>0</th>\n",
              "      <td>Santa Isabel</td>\n",
              "      <td>22</td>\n",
              "      <td>M</td>\n",
              "      <td>1</td>\n",
              "      <td>parda</td>\n",
              "      <td>1</td>\n",
              "      <td>Santa Izabel do Pará</td>\n",
              "      <td>PA</td>\n",
              "      <td>1</td>\n",
              "      <td>4</td>\n",
              "      <td>...</td>\n",
              "      <td>600.2</td>\n",
              "      <td>Inglês</td>\n",
              "      <td>1.0</td>\n",
              "      <td>160.0</td>\n",
              "      <td>200.0</td>\n",
              "      <td>180.0</td>\n",
              "      <td>200.0</td>\n",
              "      <td>200.0</td>\n",
              "      <td>940.0</td>\n",
              "      <td>Sim</td>\n",
              "    </tr>\n",
              "    <tr>\n",
              "      <th>1</th>\n",
              "      <td>São Paulo</td>\n",
              "      <td>17</td>\n",
              "      <td>F</td>\n",
              "      <td>1</td>\n",
              "      <td>parda</td>\n",
              "      <td>1</td>\n",
              "      <td>Belém</td>\n",
              "      <td>PA</td>\n",
              "      <td>2</td>\n",
              "      <td>0</td>\n",
              "      <td>...</td>\n",
              "      <td>731.8</td>\n",
              "      <td>Inglês</td>\n",
              "      <td>1.0</td>\n",
              "      <td>160.0</td>\n",
              "      <td>120.0</td>\n",
              "      <td>200.0</td>\n",
              "      <td>200.0</td>\n",
              "      <td>200.0</td>\n",
              "      <td>880.0</td>\n",
              "      <td>Não</td>\n",
              "    </tr>\n",
              "    <tr>\n",
              "      <th>2</th>\n",
              "      <td>São Bernardo do Campo</td>\n",
              "      <td>19</td>\n",
              "      <td>M</td>\n",
              "      <td>1</td>\n",
              "      <td>parda</td>\n",
              "      <td>1</td>\n",
              "      <td>São Bernardo do Campo</td>\n",
              "      <td>SP</td>\n",
              "      <td>2</td>\n",
              "      <td>0</td>\n",
              "      <td>...</td>\n",
              "      <td>393.2</td>\n",
              "      <td>Espanhol</td>\n",
              "      <td>1.0</td>\n",
              "      <td>80.0</td>\n",
              "      <td>160.0</td>\n",
              "      <td>120.0</td>\n",
              "      <td>100.0</td>\n",
              "      <td>100.0</td>\n",
              "      <td>560.0</td>\n",
              "      <td>Sim</td>\n",
              "    </tr>\n",
              "    <tr>\n",
              "      <th>3</th>\n",
              "      <td>Embu-Guaçu</td>\n",
              "      <td>17</td>\n",
              "      <td>F</td>\n",
              "      <td>1</td>\n",
              "      <td>parda</td>\n",
              "      <td>1</td>\n",
              "      <td>Itacoatiara</td>\n",
              "      <td>AM</td>\n",
              "      <td>2</td>\n",
              "      <td>0</td>\n",
              "      <td>...</td>\n",
              "      <td>419.2</td>\n",
              "      <td>Inglês</td>\n",
              "      <td>1.0</td>\n",
              "      <td>120.0</td>\n",
              "      <td>120.0</td>\n",
              "      <td>120.0</td>\n",
              "      <td>120.0</td>\n",
              "      <td>80.0</td>\n",
              "      <td>560.0</td>\n",
              "      <td>Sim</td>\n",
              "    </tr>\n",
              "    <tr>\n",
              "      <th>4</th>\n",
              "      <td>Guarulhos</td>\n",
              "      <td>23</td>\n",
              "      <td>F</td>\n",
              "      <td>1</td>\n",
              "      <td>branca</td>\n",
              "      <td>1</td>\n",
              "      <td>São Paulo</td>\n",
              "      <td>SP</td>\n",
              "      <td>1</td>\n",
              "      <td>5</td>\n",
              "      <td>...</td>\n",
              "      <td>796.1</td>\n",
              "      <td>Inglês</td>\n",
              "      <td>1.0</td>\n",
              "      <td>160.0</td>\n",
              "      <td>200.0</td>\n",
              "      <td>180.0</td>\n",
              "      <td>180.0</td>\n",
              "      <td>160.0</td>\n",
              "      <td>880.0</td>\n",
              "      <td>Sim</td>\n",
              "    </tr>\n",
              "    <tr>\n",
              "      <th>...</th>\n",
              "      <td>...</td>\n",
              "      <td>...</td>\n",
              "      <td>...</td>\n",
              "      <td>...</td>\n",
              "      <td>...</td>\n",
              "      <td>...</td>\n",
              "      <td>...</td>\n",
              "      <td>...</td>\n",
              "      <td>...</td>\n",
              "      <td>...</td>\n",
              "      <td>...</td>\n",
              "      <td>...</td>\n",
              "      <td>...</td>\n",
              "      <td>...</td>\n",
              "      <td>...</td>\n",
              "      <td>...</td>\n",
              "      <td>...</td>\n",
              "      <td>...</td>\n",
              "      <td>...</td>\n",
              "      <td>...</td>\n",
              "      <td>...</td>\n",
              "    </tr>\n",
              "    <tr>\n",
              "      <th>499935</th>\n",
              "      <td>São Paulo</td>\n",
              "      <td>18</td>\n",
              "      <td>F</td>\n",
              "      <td>1</td>\n",
              "      <td>parda</td>\n",
              "      <td>1</td>\n",
              "      <td>São Paulo</td>\n",
              "      <td>SP</td>\n",
              "      <td>1</td>\n",
              "      <td>1</td>\n",
              "      <td>...</td>\n",
              "      <td>479.1</td>\n",
              "      <td>Espanhol</td>\n",
              "      <td>1.0</td>\n",
              "      <td>100.0</td>\n",
              "      <td>120.0</td>\n",
              "      <td>120.0</td>\n",
              "      <td>140.0</td>\n",
              "      <td>100.0</td>\n",
              "      <td>580.0</td>\n",
              "      <td>Sim</td>\n",
              "    </tr>\n",
              "    <tr>\n",
              "      <th>499936</th>\n",
              "      <td>São Paulo</td>\n",
              "      <td>17</td>\n",
              "      <td>F</td>\n",
              "      <td>1</td>\n",
              "      <td>preta</td>\n",
              "      <td>1</td>\n",
              "      <td>São Paulo</td>\n",
              "      <td>SP</td>\n",
              "      <td>2</td>\n",
              "      <td>0</td>\n",
              "      <td>...</td>\n",
              "      <td>43.2</td>\n",
              "      <td>Espanhol</td>\n",
              "      <td>1.0</td>\n",
              "      <td>80.0</td>\n",
              "      <td>120.0</td>\n",
              "      <td>140.0</td>\n",
              "      <td>120.0</td>\n",
              "      <td>100.0</td>\n",
              "      <td>560.0</td>\n",
              "      <td>Sim</td>\n",
              "    </tr>\n",
              "    <tr>\n",
              "      <th>499937</th>\n",
              "      <td>São Paulo</td>\n",
              "      <td>17</td>\n",
              "      <td>F</td>\n",
              "      <td>1</td>\n",
              "      <td>parda</td>\n",
              "      <td>1</td>\n",
              "      <td>São Paulo</td>\n",
              "      <td>SP</td>\n",
              "      <td>2</td>\n",
              "      <td>0</td>\n",
              "      <td>...</td>\n",
              "      <td>487.3</td>\n",
              "      <td>Inglês</td>\n",
              "      <td>1.0</td>\n",
              "      <td>120.0</td>\n",
              "      <td>80.0</td>\n",
              "      <td>60.0</td>\n",
              "      <td>120.0</td>\n",
              "      <td>0.0</td>\n",
              "      <td>380.0</td>\n",
              "      <td>Sim</td>\n",
              "    </tr>\n",
              "    <tr>\n",
              "      <th>499938</th>\n",
              "      <td>São Paulo</td>\n",
              "      <td>17</td>\n",
              "      <td>M</td>\n",
              "      <td>1</td>\n",
              "      <td>parda</td>\n",
              "      <td>1</td>\n",
              "      <td>São Paulo</td>\n",
              "      <td>SP</td>\n",
              "      <td>2</td>\n",
              "      <td>0</td>\n",
              "      <td>...</td>\n",
              "      <td>401.1</td>\n",
              "      <td>Inglês</td>\n",
              "      <td>1.0</td>\n",
              "      <td>160.0</td>\n",
              "      <td>120.0</td>\n",
              "      <td>160.0</td>\n",
              "      <td>140.0</td>\n",
              "      <td>160.0</td>\n",
              "      <td>740.0</td>\n",
              "      <td>Não</td>\n",
              "    </tr>\n",
              "    <tr>\n",
              "      <th>499939</th>\n",
              "      <td>Araras</td>\n",
              "      <td>18</td>\n",
              "      <td>F</td>\n",
              "      <td>1</td>\n",
              "      <td>branca</td>\n",
              "      <td>1</td>\n",
              "      <td>Araras</td>\n",
              "      <td>SP</td>\n",
              "      <td>2</td>\n",
              "      <td>0</td>\n",
              "      <td>...</td>\n",
              "      <td>559.5</td>\n",
              "      <td>Inglês</td>\n",
              "      <td>1.0</td>\n",
              "      <td>120.0</td>\n",
              "      <td>120.0</td>\n",
              "      <td>120.0</td>\n",
              "      <td>120.0</td>\n",
              "      <td>140.0</td>\n",
              "      <td>620.0</td>\n",
              "      <td>Sim</td>\n",
              "    </tr>\n",
              "  </tbody>\n",
              "</table>\n",
              "<p>499940 rows × 35 columns</p>\n",
              "</div>\n",
              "      <button class=\"colab-df-convert\" onclick=\"convertToInteractive('df-0c5ff864-f628-466d-92d1-e2b30d9188d7')\"\n",
              "              title=\"Convert this dataframe to an interactive table.\"\n",
              "              style=\"display:none;\">\n",
              "        \n",
              "  <svg xmlns=\"http://www.w3.org/2000/svg\" height=\"24px\"viewBox=\"0 0 24 24\"\n",
              "       width=\"24px\">\n",
              "    <path d=\"M0 0h24v24H0V0z\" fill=\"none\"/>\n",
              "    <path d=\"M18.56 5.44l.94 2.06.94-2.06 2.06-.94-2.06-.94-.94-2.06-.94 2.06-2.06.94zm-11 1L8.5 8.5l.94-2.06 2.06-.94-2.06-.94L8.5 2.5l-.94 2.06-2.06.94zm10 10l.94 2.06.94-2.06 2.06-.94-2.06-.94-.94-2.06-.94 2.06-2.06.94z\"/><path d=\"M17.41 7.96l-1.37-1.37c-.4-.4-.92-.59-1.43-.59-.52 0-1.04.2-1.43.59L10.3 9.45l-7.72 7.72c-.78.78-.78 2.05 0 2.83L4 21.41c.39.39.9.59 1.41.59.51 0 1.02-.2 1.41-.59l7.78-7.78 2.81-2.81c.8-.78.8-2.07 0-2.86zM5.41 20L4 18.59l7.72-7.72 1.47 1.35L5.41 20z\"/>\n",
              "  </svg>\n",
              "      </button>\n",
              "      \n",
              "  <style>\n",
              "    .colab-df-container {\n",
              "      display:flex;\n",
              "      flex-wrap:wrap;\n",
              "      gap: 12px;\n",
              "    }\n",
              "\n",
              "    .colab-df-convert {\n",
              "      background-color: #E8F0FE;\n",
              "      border: none;\n",
              "      border-radius: 50%;\n",
              "      cursor: pointer;\n",
              "      display: none;\n",
              "      fill: #1967D2;\n",
              "      height: 32px;\n",
              "      padding: 0 0 0 0;\n",
              "      width: 32px;\n",
              "    }\n",
              "\n",
              "    .colab-df-convert:hover {\n",
              "      background-color: #E2EBFA;\n",
              "      box-shadow: 0px 1px 2px rgba(60, 64, 67, 0.3), 0px 1px 3px 1px rgba(60, 64, 67, 0.15);\n",
              "      fill: #174EA6;\n",
              "    }\n",
              "\n",
              "    [theme=dark] .colab-df-convert {\n",
              "      background-color: #3B4455;\n",
              "      fill: #D2E3FC;\n",
              "    }\n",
              "\n",
              "    [theme=dark] .colab-df-convert:hover {\n",
              "      background-color: #434B5C;\n",
              "      box-shadow: 0px 1px 3px 1px rgba(0, 0, 0, 0.15);\n",
              "      filter: drop-shadow(0px 1px 2px rgba(0, 0, 0, 0.3));\n",
              "      fill: #FFFFFF;\n",
              "    }\n",
              "  </style>\n",
              "\n",
              "      <script>\n",
              "        const buttonEl =\n",
              "          document.querySelector('#df-0c5ff864-f628-466d-92d1-e2b30d9188d7 button.colab-df-convert');\n",
              "        buttonEl.style.display =\n",
              "          google.colab.kernel.accessAllowed ? 'block' : 'none';\n",
              "\n",
              "        async function convertToInteractive(key) {\n",
              "          const element = document.querySelector('#df-0c5ff864-f628-466d-92d1-e2b30d9188d7');\n",
              "          const dataTable =\n",
              "            await google.colab.kernel.invokeFunction('convertToInteractive',\n",
              "                                                     [key], {});\n",
              "          if (!dataTable) return;\n",
              "\n",
              "          const docLinkHtml = 'Like what you see? Visit the ' +\n",
              "            '<a target=\"_blank\" href=https://colab.research.google.com/notebooks/data_table.ipynb>data table notebook</a>'\n",
              "            + ' to learn more about interactive tables.';\n",
              "          element.innerHTML = '';\n",
              "          dataTable['output_type'] = 'display_data';\n",
              "          await google.colab.output.renderOutput(dataTable, element);\n",
              "          const docLink = document.createElement('div');\n",
              "          docLink.innerHTML = docLinkHtml;\n",
              "          element.appendChild(docLink);\n",
              "        }\n",
              "      </script>\n",
              "    </div>\n",
              "  </div>\n",
              "  "
            ]
          },
          "metadata": {},
          "execution_count": 3
        }
      ]
    },
    {
      "cell_type": "markdown",
      "source": [
        "Selecionamos a nota da matemáticas dos candidatos do ENEM em SP para calcularmos a sua variância (amostral)."
      ],
      "metadata": {
        "id": "Pu2aOnQSc5eB"
      }
    },
    {
      "cell_type": "code",
      "metadata": {
        "colab": {
          "base_uri": "https://localhost:8080/"
        },
        "id": "TFMYuhtJw8K5",
        "outputId": "d0e2a26b-8a57-4810-d4e3-a36a5747800d"
      },
      "source": [
        "enem_sp['NOTA_MT'].var()"
      ],
      "execution_count": 4,
      "outputs": [
        {
          "output_type": "execute_result",
          "data": {
            "text/plain": [
              "33659.47050441148"
            ]
          },
          "metadata": {},
          "execution_count": 4
        }
      ]
    },
    {
      "cell_type": "code",
      "metadata": {
        "colab": {
          "base_uri": "https://localhost:8080/"
        },
        "id": "O9IWMP4ow4Nb",
        "outputId": "067e665f-724f-4865-9b08-0c45f3cfff9d"
      },
      "source": [
        "enem_sp.NOTA_MT.var()"
      ],
      "execution_count": 5,
      "outputs": [
        {
          "output_type": "execute_result",
          "data": {
            "text/plain": [
              "33659.47050441148"
            ]
          },
          "metadata": {},
          "execution_count": 5
        }
      ]
    },
    {
      "cell_type": "markdown",
      "source": [
        "Temos aprox. 33,7k (pontos?) de dispersão ou variância das notas de matemática."
      ],
      "metadata": {
        "id": "dAe8qG1iehmt"
      }
    },
    {
      "cell_type": "markdown",
      "source": [
        "Calculamos agora o seu Desvio Padrão (amostral)."
      ],
      "metadata": {
        "id": "LJ7AW9rtf_ox"
      }
    },
    {
      "cell_type": "code",
      "metadata": {
        "colab": {
          "base_uri": "https://localhost:8080/"
        },
        "id": "rZ91OWKxxjxo",
        "outputId": "10f2d3e4-a803-4672-8e33-20c1b13cb9bf"
      },
      "source": [
        "enem_sp.NOTA_MT.std()"
      ],
      "execution_count": 7,
      "outputs": [
        {
          "output_type": "execute_result",
          "data": {
            "text/plain": [
              "183.46517518158993"
            ]
          },
          "metadata": {},
          "execution_count": 7
        }
      ]
    },
    {
      "cell_type": "markdown",
      "source": [
        "Calculamos a média das notas de matématica."
      ],
      "metadata": {
        "id": "wn6HzKjehVzf"
      }
    },
    {
      "cell_type": "code",
      "metadata": {
        "colab": {
          "base_uri": "https://localhost:8080/"
        },
        "id": "Fkk0W-2LxtCv",
        "outputId": "5eb893e2-65bf-47e1-da18-7ab926886439"
      },
      "source": [
        "enem_sp.NOTA_MT.mean()"
      ],
      "execution_count": 9,
      "outputs": [
        {
          "output_type": "execute_result",
          "data": {
            "text/plain": [
              "497.5942403088371"
            ]
          },
          "metadata": {},
          "execution_count": 9
        }
      ]
    },
    {
      "cell_type": "markdown",
      "source": [
        "Temos o desvio padrão de aprox. 183 (pontos para cima ou para baixo) de desvio das notas de matemática em relação à sua média."
      ],
      "metadata": {
        "id": "7ylbSI9Ng659"
      }
    },
    {
      "cell_type": "markdown",
      "source": [
        "Calculamos a desviasão absoluta média. Que é a média de cada nota substraída com a média das notas."
      ],
      "metadata": {
        "id": "Se0kmQ9gh4B6"
      }
    },
    {
      "cell_type": "code",
      "metadata": {
        "colab": {
          "base_uri": "https://localhost:8080/"
        },
        "id": "DkifVGhKz0wy",
        "outputId": "39cb035b-c8fa-4e1e-9950-551a78ba811b"
      },
      "source": [
        "enem_sp.NOTA_MT.mad()"
      ],
      "execution_count": 11,
      "outputs": [
        {
          "output_type": "execute_result",
          "data": {
            "text/plain": [
              "132.98102283464956"
            ]
          },
          "metadata": {},
          "execution_count": 11
        }
      ]
    },
    {
      "cell_type": "markdown",
      "source": [
        "Calculamos a amplitude das notas"
      ],
      "metadata": {
        "id": "ZdboLW34itEV"
      }
    },
    {
      "cell_type": "code",
      "source": [
        "enem_sp.NOTA_MT.max() - enem_sp.NOTA_MT.min()"
      ],
      "metadata": {
        "colab": {
          "base_uri": "https://localhost:8080/"
        },
        "id": "HaV_RGOgiFRL",
        "outputId": "2679b843-0e92-4e75-b5d4-0e609d11e945"
      },
      "execution_count": 14,
      "outputs": [
        {
          "output_type": "execute_result",
          "data": {
            "text/plain": [
              "984.7"
            ]
          },
          "metadata": {},
          "execution_count": 14
        }
      ]
    },
    {
      "cell_type": "markdown",
      "source": [
        "Agora fazemos o mesmo para a nota de redação"
      ],
      "metadata": {
        "id": "hJyuiLrfk6vd"
      }
    },
    {
      "cell_type": "code",
      "metadata": {
        "colab": {
          "base_uri": "https://localhost:8080/"
        },
        "id": "Wndk-yPIx4h3",
        "outputId": "c89510b9-a813-45fe-9970-561eed862128"
      },
      "source": [
        "enem_sp.NOTA_REDACAO.var()"
      ],
      "execution_count": 15,
      "outputs": [
        {
          "output_type": "execute_result",
          "data": {
            "text/plain": [
              "29082.774122780305"
            ]
          },
          "metadata": {},
          "execution_count": 15
        }
      ]
    },
    {
      "cell_type": "code",
      "metadata": {
        "colab": {
          "base_uri": "https://localhost:8080/"
        },
        "id": "kwoXDdruyJGW",
        "outputId": "ea585e34-a138-4a24-aac5-d3db9405c49c"
      },
      "source": [
        "enem_sp.NOTA_REDACAO.std()"
      ],
      "execution_count": 16,
      "outputs": [
        {
          "output_type": "execute_result",
          "data": {
            "text/plain": [
              "170.53672367786447"
            ]
          },
          "metadata": {},
          "execution_count": 16
        }
      ]
    },
    {
      "cell_type": "code",
      "metadata": {
        "colab": {
          "base_uri": "https://localhost:8080/"
        },
        "id": "RC-Jnwg1ySxl",
        "outputId": "36ff5035-1fc4-4186-e42d-bfe68ceebe44"
      },
      "source": [
        "enem_sp.NOTA_REDACAO.mean()"
      ],
      "execution_count": 18,
      "outputs": [
        {
          "output_type": "execute_result",
          "data": {
            "text/plain": [
              "593.0183221986639"
            ]
          },
          "metadata": {},
          "execution_count": 18
        }
      ]
    },
    {
      "cell_type": "markdown",
      "source": [
        "Fazendo uma breve comparação temos uma dispersão menor nas notas de redação do que nas de matemática em relação à sua média. Em outras palavras, as notas de matemáticas estão mais \"dispersas\" do que as de redação."
      ],
      "metadata": {
        "id": "dx_CiREflR2Q"
      }
    },
    {
      "cell_type": "markdown",
      "source": [
        "Podemos visualizar um resumo geral descritivo de todas as variáveis associadas à nosssa tabela."
      ],
      "metadata": {
        "id": "dA-BsBC-mOXY"
      }
    },
    {
      "cell_type": "code",
      "metadata": {
        "colab": {
          "base_uri": "https://localhost:8080/",
          "height": 394
        },
        "id": "yBOGVoGjysQV",
        "outputId": "f509a21e-75b6-40b4-e0e2-98d454938b9d"
      },
      "source": [
        "enem_sp.describe()"
      ],
      "execution_count": 19,
      "outputs": [
        {
          "output_type": "execute_result",
          "data": {
            "text/plain": [
              "               IDADE  TP_ESTADO_CIVIL  TP_NACIONALIDADE  TP_ST_CONCLUSAO  \\\n",
              "count  499940.000000    499940.000000     499940.000000    499940.000000   \n",
              "mean       20.593387         1.053206          1.029902         1.476085   \n",
              "std         6.465291         0.380866          0.230986         0.510351   \n",
              "min        12.000000         0.000000          0.000000         1.000000   \n",
              "25%        17.000000         1.000000          1.000000         1.000000   \n",
              "50%        18.000000         1.000000          1.000000         1.000000   \n",
              "75%        21.000000         1.000000          1.000000         2.000000   \n",
              "max        91.000000         4.000000          4.000000         4.000000   \n",
              "\n",
              "       TP_ANO_CONCLUIU      TP_ENSINO     CO_ESCOLA  TP_DEPENDENCIA_ADM_ESC  \\\n",
              "count    499940.000000  328350.000000  1.768940e+05           176894.000000   \n",
              "mean          2.215758       1.002768  3.521138e+07                2.461327   \n",
              "std           3.561417       0.052543  4.430392e+05                0.850072   \n",
              "min           0.000000       1.000000  1.100306e+07                1.000000   \n",
              "25%           0.000000       1.000000  3.501625e+07                2.000000   \n",
              "50%           1.000000       1.000000  3.504496e+07                2.000000   \n",
              "75%           3.000000       1.000000  3.529070e+07                2.000000   \n",
              "max          13.000000       2.000000  5.300104e+07                4.000000   \n",
              "\n",
              "       TP_LOCALIZACAO_ESC  TP_SIT_FUNC_ESC  ...        NOTA_CH        NOTA_LC  \\\n",
              "count       176894.000000    176894.000000  ...  499940.000000  499940.000000   \n",
              "mean             1.012561         1.005014  ...     482.228054     491.941262   \n",
              "std              0.111371         0.112845  ...     161.122963     156.247134   \n",
              "min              1.000000         1.000000  ...       0.000000       0.000000   \n",
              "25%              1.000000         1.000000  ...     450.600000     490.100000   \n",
              "50%              1.000000         1.000000  ...     523.700000     538.300000   \n",
              "75%              1.000000         1.000000  ...     578.100000     576.200000   \n",
              "max              2.000000         4.000000  ...     822.700000     772.300000   \n",
              "\n",
              "             NOTA_MT  TP_STATUS_REDACAO          COMP1          COMP2  \\\n",
              "count  499940.000000      499940.000000  499940.000000  499940.000000   \n",
              "mean      497.594240           1.072105     125.000760     127.066808   \n",
              "std       183.465175           0.584314      28.629513      39.846083   \n",
              "min         0.000000           1.000000       0.000000       0.000000   \n",
              "25%       427.900000           1.000000     120.000000     120.000000   \n",
              "50%       511.800000           1.000000     120.000000     120.000000   \n",
              "75%       617.900000           1.000000     140.000000     140.000000   \n",
              "max       984.700000           9.000000     200.000000     200.000000   \n",
              "\n",
              "               COMP3          COMP4          COMP5   NOTA_REDACAO  \n",
              "count  499940.000000  499940.000000  499940.000000  499940.000000  \n",
              "mean      118.760691     124.989359      97.200704     593.018322  \n",
              "std        36.778882      33.879299      57.787427     170.536724  \n",
              "min         0.000000       0.000000       0.000000       0.000000  \n",
              "25%       100.000000     120.000000      60.000000     500.000000  \n",
              "50%       120.000000     120.000000     100.000000     600.000000  \n",
              "75%       140.000000     140.000000     140.000000     680.000000  \n",
              "max       200.000000     200.000000     200.000000    1000.000000  \n",
              "\n",
              "[8 rows x 25 columns]"
            ],
            "text/html": [
              "\n",
              "  <div id=\"df-1ad1fd34-ce55-4d30-a323-477ceb20139c\">\n",
              "    <div class=\"colab-df-container\">\n",
              "      <div>\n",
              "<style scoped>\n",
              "    .dataframe tbody tr th:only-of-type {\n",
              "        vertical-align: middle;\n",
              "    }\n",
              "\n",
              "    .dataframe tbody tr th {\n",
              "        vertical-align: top;\n",
              "    }\n",
              "\n",
              "    .dataframe thead th {\n",
              "        text-align: right;\n",
              "    }\n",
              "</style>\n",
              "<table border=\"1\" class=\"dataframe\">\n",
              "  <thead>\n",
              "    <tr style=\"text-align: right;\">\n",
              "      <th></th>\n",
              "      <th>IDADE</th>\n",
              "      <th>TP_ESTADO_CIVIL</th>\n",
              "      <th>TP_NACIONALIDADE</th>\n",
              "      <th>TP_ST_CONCLUSAO</th>\n",
              "      <th>TP_ANO_CONCLUIU</th>\n",
              "      <th>TP_ENSINO</th>\n",
              "      <th>CO_ESCOLA</th>\n",
              "      <th>TP_DEPENDENCIA_ADM_ESC</th>\n",
              "      <th>TP_LOCALIZACAO_ESC</th>\n",
              "      <th>TP_SIT_FUNC_ESC</th>\n",
              "      <th>...</th>\n",
              "      <th>NOTA_CH</th>\n",
              "      <th>NOTA_LC</th>\n",
              "      <th>NOTA_MT</th>\n",
              "      <th>TP_STATUS_REDACAO</th>\n",
              "      <th>COMP1</th>\n",
              "      <th>COMP2</th>\n",
              "      <th>COMP3</th>\n",
              "      <th>COMP4</th>\n",
              "      <th>COMP5</th>\n",
              "      <th>NOTA_REDACAO</th>\n",
              "    </tr>\n",
              "  </thead>\n",
              "  <tbody>\n",
              "    <tr>\n",
              "      <th>count</th>\n",
              "      <td>499940.000000</td>\n",
              "      <td>499940.000000</td>\n",
              "      <td>499940.000000</td>\n",
              "      <td>499940.000000</td>\n",
              "      <td>499940.000000</td>\n",
              "      <td>328350.000000</td>\n",
              "      <td>1.768940e+05</td>\n",
              "      <td>176894.000000</td>\n",
              "      <td>176894.000000</td>\n",
              "      <td>176894.000000</td>\n",
              "      <td>...</td>\n",
              "      <td>499940.000000</td>\n",
              "      <td>499940.000000</td>\n",
              "      <td>499940.000000</td>\n",
              "      <td>499940.000000</td>\n",
              "      <td>499940.000000</td>\n",
              "      <td>499940.000000</td>\n",
              "      <td>499940.000000</td>\n",
              "      <td>499940.000000</td>\n",
              "      <td>499940.000000</td>\n",
              "      <td>499940.000000</td>\n",
              "    </tr>\n",
              "    <tr>\n",
              "      <th>mean</th>\n",
              "      <td>20.593387</td>\n",
              "      <td>1.053206</td>\n",
              "      <td>1.029902</td>\n",
              "      <td>1.476085</td>\n",
              "      <td>2.215758</td>\n",
              "      <td>1.002768</td>\n",
              "      <td>3.521138e+07</td>\n",
              "      <td>2.461327</td>\n",
              "      <td>1.012561</td>\n",
              "      <td>1.005014</td>\n",
              "      <td>...</td>\n",
              "      <td>482.228054</td>\n",
              "      <td>491.941262</td>\n",
              "      <td>497.594240</td>\n",
              "      <td>1.072105</td>\n",
              "      <td>125.000760</td>\n",
              "      <td>127.066808</td>\n",
              "      <td>118.760691</td>\n",
              "      <td>124.989359</td>\n",
              "      <td>97.200704</td>\n",
              "      <td>593.018322</td>\n",
              "    </tr>\n",
              "    <tr>\n",
              "      <th>std</th>\n",
              "      <td>6.465291</td>\n",
              "      <td>0.380866</td>\n",
              "      <td>0.230986</td>\n",
              "      <td>0.510351</td>\n",
              "      <td>3.561417</td>\n",
              "      <td>0.052543</td>\n",
              "      <td>4.430392e+05</td>\n",
              "      <td>0.850072</td>\n",
              "      <td>0.111371</td>\n",
              "      <td>0.112845</td>\n",
              "      <td>...</td>\n",
              "      <td>161.122963</td>\n",
              "      <td>156.247134</td>\n",
              "      <td>183.465175</td>\n",
              "      <td>0.584314</td>\n",
              "      <td>28.629513</td>\n",
              "      <td>39.846083</td>\n",
              "      <td>36.778882</td>\n",
              "      <td>33.879299</td>\n",
              "      <td>57.787427</td>\n",
              "      <td>170.536724</td>\n",
              "    </tr>\n",
              "    <tr>\n",
              "      <th>min</th>\n",
              "      <td>12.000000</td>\n",
              "      <td>0.000000</td>\n",
              "      <td>0.000000</td>\n",
              "      <td>1.000000</td>\n",
              "      <td>0.000000</td>\n",
              "      <td>1.000000</td>\n",
              "      <td>1.100306e+07</td>\n",
              "      <td>1.000000</td>\n",
              "      <td>1.000000</td>\n",
              "      <td>1.000000</td>\n",
              "      <td>...</td>\n",
              "      <td>0.000000</td>\n",
              "      <td>0.000000</td>\n",
              "      <td>0.000000</td>\n",
              "      <td>1.000000</td>\n",
              "      <td>0.000000</td>\n",
              "      <td>0.000000</td>\n",
              "      <td>0.000000</td>\n",
              "      <td>0.000000</td>\n",
              "      <td>0.000000</td>\n",
              "      <td>0.000000</td>\n",
              "    </tr>\n",
              "    <tr>\n",
              "      <th>25%</th>\n",
              "      <td>17.000000</td>\n",
              "      <td>1.000000</td>\n",
              "      <td>1.000000</td>\n",
              "      <td>1.000000</td>\n",
              "      <td>0.000000</td>\n",
              "      <td>1.000000</td>\n",
              "      <td>3.501625e+07</td>\n",
              "      <td>2.000000</td>\n",
              "      <td>1.000000</td>\n",
              "      <td>1.000000</td>\n",
              "      <td>...</td>\n",
              "      <td>450.600000</td>\n",
              "      <td>490.100000</td>\n",
              "      <td>427.900000</td>\n",
              "      <td>1.000000</td>\n",
              "      <td>120.000000</td>\n",
              "      <td>120.000000</td>\n",
              "      <td>100.000000</td>\n",
              "      <td>120.000000</td>\n",
              "      <td>60.000000</td>\n",
              "      <td>500.000000</td>\n",
              "    </tr>\n",
              "    <tr>\n",
              "      <th>50%</th>\n",
              "      <td>18.000000</td>\n",
              "      <td>1.000000</td>\n",
              "      <td>1.000000</td>\n",
              "      <td>1.000000</td>\n",
              "      <td>1.000000</td>\n",
              "      <td>1.000000</td>\n",
              "      <td>3.504496e+07</td>\n",
              "      <td>2.000000</td>\n",
              "      <td>1.000000</td>\n",
              "      <td>1.000000</td>\n",
              "      <td>...</td>\n",
              "      <td>523.700000</td>\n",
              "      <td>538.300000</td>\n",
              "      <td>511.800000</td>\n",
              "      <td>1.000000</td>\n",
              "      <td>120.000000</td>\n",
              "      <td>120.000000</td>\n",
              "      <td>120.000000</td>\n",
              "      <td>120.000000</td>\n",
              "      <td>100.000000</td>\n",
              "      <td>600.000000</td>\n",
              "    </tr>\n",
              "    <tr>\n",
              "      <th>75%</th>\n",
              "      <td>21.000000</td>\n",
              "      <td>1.000000</td>\n",
              "      <td>1.000000</td>\n",
              "      <td>2.000000</td>\n",
              "      <td>3.000000</td>\n",
              "      <td>1.000000</td>\n",
              "      <td>3.529070e+07</td>\n",
              "      <td>2.000000</td>\n",
              "      <td>1.000000</td>\n",
              "      <td>1.000000</td>\n",
              "      <td>...</td>\n",
              "      <td>578.100000</td>\n",
              "      <td>576.200000</td>\n",
              "      <td>617.900000</td>\n",
              "      <td>1.000000</td>\n",
              "      <td>140.000000</td>\n",
              "      <td>140.000000</td>\n",
              "      <td>140.000000</td>\n",
              "      <td>140.000000</td>\n",
              "      <td>140.000000</td>\n",
              "      <td>680.000000</td>\n",
              "    </tr>\n",
              "    <tr>\n",
              "      <th>max</th>\n",
              "      <td>91.000000</td>\n",
              "      <td>4.000000</td>\n",
              "      <td>4.000000</td>\n",
              "      <td>4.000000</td>\n",
              "      <td>13.000000</td>\n",
              "      <td>2.000000</td>\n",
              "      <td>5.300104e+07</td>\n",
              "      <td>4.000000</td>\n",
              "      <td>2.000000</td>\n",
              "      <td>4.000000</td>\n",
              "      <td>...</td>\n",
              "      <td>822.700000</td>\n",
              "      <td>772.300000</td>\n",
              "      <td>984.700000</td>\n",
              "      <td>9.000000</td>\n",
              "      <td>200.000000</td>\n",
              "      <td>200.000000</td>\n",
              "      <td>200.000000</td>\n",
              "      <td>200.000000</td>\n",
              "      <td>200.000000</td>\n",
              "      <td>1000.000000</td>\n",
              "    </tr>\n",
              "  </tbody>\n",
              "</table>\n",
              "<p>8 rows × 25 columns</p>\n",
              "</div>\n",
              "      <button class=\"colab-df-convert\" onclick=\"convertToInteractive('df-1ad1fd34-ce55-4d30-a323-477ceb20139c')\"\n",
              "              title=\"Convert this dataframe to an interactive table.\"\n",
              "              style=\"display:none;\">\n",
              "        \n",
              "  <svg xmlns=\"http://www.w3.org/2000/svg\" height=\"24px\"viewBox=\"0 0 24 24\"\n",
              "       width=\"24px\">\n",
              "    <path d=\"M0 0h24v24H0V0z\" fill=\"none\"/>\n",
              "    <path d=\"M18.56 5.44l.94 2.06.94-2.06 2.06-.94-2.06-.94-.94-2.06-.94 2.06-2.06.94zm-11 1L8.5 8.5l.94-2.06 2.06-.94-2.06-.94L8.5 2.5l-.94 2.06-2.06.94zm10 10l.94 2.06.94-2.06 2.06-.94-2.06-.94-.94-2.06-.94 2.06-2.06.94z\"/><path d=\"M17.41 7.96l-1.37-1.37c-.4-.4-.92-.59-1.43-.59-.52 0-1.04.2-1.43.59L10.3 9.45l-7.72 7.72c-.78.78-.78 2.05 0 2.83L4 21.41c.39.39.9.59 1.41.59.51 0 1.02-.2 1.41-.59l7.78-7.78 2.81-2.81c.8-.78.8-2.07 0-2.86zM5.41 20L4 18.59l7.72-7.72 1.47 1.35L5.41 20z\"/>\n",
              "  </svg>\n",
              "      </button>\n",
              "      \n",
              "  <style>\n",
              "    .colab-df-container {\n",
              "      display:flex;\n",
              "      flex-wrap:wrap;\n",
              "      gap: 12px;\n",
              "    }\n",
              "\n",
              "    .colab-df-convert {\n",
              "      background-color: #E8F0FE;\n",
              "      border: none;\n",
              "      border-radius: 50%;\n",
              "      cursor: pointer;\n",
              "      display: none;\n",
              "      fill: #1967D2;\n",
              "      height: 32px;\n",
              "      padding: 0 0 0 0;\n",
              "      width: 32px;\n",
              "    }\n",
              "\n",
              "    .colab-df-convert:hover {\n",
              "      background-color: #E2EBFA;\n",
              "      box-shadow: 0px 1px 2px rgba(60, 64, 67, 0.3), 0px 1px 3px 1px rgba(60, 64, 67, 0.15);\n",
              "      fill: #174EA6;\n",
              "    }\n",
              "\n",
              "    [theme=dark] .colab-df-convert {\n",
              "      background-color: #3B4455;\n",
              "      fill: #D2E3FC;\n",
              "    }\n",
              "\n",
              "    [theme=dark] .colab-df-convert:hover {\n",
              "      background-color: #434B5C;\n",
              "      box-shadow: 0px 1px 3px 1px rgba(0, 0, 0, 0.15);\n",
              "      filter: drop-shadow(0px 1px 2px rgba(0, 0, 0, 0.3));\n",
              "      fill: #FFFFFF;\n",
              "    }\n",
              "  </style>\n",
              "\n",
              "      <script>\n",
              "        const buttonEl =\n",
              "          document.querySelector('#df-1ad1fd34-ce55-4d30-a323-477ceb20139c button.colab-df-convert');\n",
              "        buttonEl.style.display =\n",
              "          google.colab.kernel.accessAllowed ? 'block' : 'none';\n",
              "\n",
              "        async function convertToInteractive(key) {\n",
              "          const element = document.querySelector('#df-1ad1fd34-ce55-4d30-a323-477ceb20139c');\n",
              "          const dataTable =\n",
              "            await google.colab.kernel.invokeFunction('convertToInteractive',\n",
              "                                                     [key], {});\n",
              "          if (!dataTable) return;\n",
              "\n",
              "          const docLinkHtml = 'Like what you see? Visit the ' +\n",
              "            '<a target=\"_blank\" href=https://colab.research.google.com/notebooks/data_table.ipynb>data table notebook</a>'\n",
              "            + ' to learn more about interactive tables.';\n",
              "          element.innerHTML = '';\n",
              "          dataTable['output_type'] = 'display_data';\n",
              "          await google.colab.output.renderOutput(dataTable, element);\n",
              "          const docLink = document.createElement('div');\n",
              "          docLink.innerHTML = docLinkHtml;\n",
              "          element.appendChild(docLink);\n",
              "        }\n",
              "      </script>\n",
              "    </div>\n",
              "  </div>\n",
              "  "
            ]
          },
          "metadata": {},
          "execution_count": 19
        }
      ]
    },
    {
      "cell_type": "markdown",
      "source": [
        "DESCRITIVO:\n",
        "Olhando para a tabela de acima:\n",
        "- A notas de Linguagem e Códigos possui uma menor variabilidade (em torno à sua média: 492) do que as notas de Ciêncas Humanas e Matemática;\n",
        "- Entre as notas das componentes, a COMP1 tem uma menor dispersão (em relação à sua média: 125) quando comparadas às outras componentes.\n",
        "\n",
        "DIAGNOSTICO:\n",
        "- Provavelente as provas de CH e MT são mais complexas do que a LC;\n",
        "- Talvez, a prova da COMP1 é mais simples de resolver do que as outras componentes.\n",
        "\n",
        "PRESCRIPTIVO:\n",
        "- O INEP poderia recomendar às escolas de ensino médio reforçar as aulas de matemática e CH;\n",
        "- Da mesma forma, para as outras componentes da redação."
      ],
      "metadata": {
        "id": "n7prL8yQnb0b"
      }
    }
  ]
}
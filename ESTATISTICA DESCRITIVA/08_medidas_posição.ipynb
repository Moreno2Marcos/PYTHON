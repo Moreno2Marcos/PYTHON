{
  "nbformat": 4,
  "nbformat_minor": 0,
  "metadata": {
    "colab": {
      "name": "08 - medidas_posição.ipynb",
      "provenance": [],
      "collapsed_sections": []
    },
    "kernelspec": {
      "name": "python3",
      "display_name": "Python 3"
    },
    "language_info": {
      "name": "python"
    }
  },
  "cells": [
    {
      "cell_type": "markdown",
      "metadata": {
        "id": "aFV-LyAAxBGZ"
      },
      "source": [
        "## Medidas de posição"
      ]
    },
    {
      "cell_type": "code",
      "metadata": {
        "id": "qBfPIhEzUATt"
      },
      "source": [
        "# carrega dependencias\n",
        "import numpy as np\n",
        "import pandas as pd"
      ],
      "execution_count": 1,
      "outputs": []
    },
    {
      "cell_type": "code",
      "source": [
        "# monta drive\n",
        "from google.colab import drive\n",
        "drive.mount('/content/drive')"
      ],
      "metadata": {
        "colab": {
          "base_uri": "https://localhost:8080/"
        },
        "id": "GHQLgOdIcLcX",
        "outputId": "ed9efa24-0b7f-4a0a-f357-c28fa54b69a9"
      },
      "execution_count": 2,
      "outputs": [
        {
          "output_type": "stream",
          "name": "stdout",
          "text": [
            "Mounted at /content/drive\n"
          ]
        }
      ]
    },
    {
      "cell_type": "code",
      "metadata": {
        "id": "T80BqJgUjjqS",
        "colab": {
          "base_uri": "https://localhost:8080/",
          "height": 488
        },
        "outputId": "b70381bb-97cb-4c61-c1fe-ee3983392f54"
      },
      "source": [
        "# carrega os dados\n",
        "enem_sp = pd.read_csv('/content/drive/MyDrive/UDEMY - Estatística para Análise de Dados/Moreno Marcos/microdados_enem_2019_sp_tratado.csv', sep=',', encoding='iso-8859-1')\n",
        "enem_sp"
      ],
      "execution_count": 3,
      "outputs": [
        {
          "output_type": "execute_result",
          "data": {
            "text/plain": [
              "       NO_MUNICIPIO_RESIDENCIA  IDADE SEXO  TP_ESTADO_CIVIL    RACA  \\\n",
              "0                 Santa Isabel     22    M                1   parda   \n",
              "1                    São Paulo     17    F                1   parda   \n",
              "2        São Bernardo do Campo     19    M                1   parda   \n",
              "3                   Embu-Guaçu     17    F                1   parda   \n",
              "4                    Guarulhos     23    F                1  branca   \n",
              "...                        ...    ...  ...              ...     ...   \n",
              "499935               São Paulo     18    F                1   parda   \n",
              "499936               São Paulo     17    F                1   preta   \n",
              "499937               São Paulo     17    F                1   parda   \n",
              "499938               São Paulo     17    M                1   parda   \n",
              "499939                  Araras     18    F                1  branca   \n",
              "\n",
              "        TP_NACIONALIDADE NO_MUNICIPIO_NASCIMENTO SG_UF_NASCIMENTO  \\\n",
              "0                      1    Santa Izabel do Pará               PA   \n",
              "1                      1                   Belém               PA   \n",
              "2                      1   São Bernardo do Campo               SP   \n",
              "3                      1             Itacoatiara               AM   \n",
              "4                      1               São Paulo               SP   \n",
              "...                  ...                     ...              ...   \n",
              "499935                 1               São Paulo               SP   \n",
              "499936                 1               São Paulo               SP   \n",
              "499937                 1               São Paulo               SP   \n",
              "499938                 1               São Paulo               SP   \n",
              "499939                 1                  Araras               SP   \n",
              "\n",
              "        TP_ST_CONCLUSAO  TP_ANO_CONCLUIU  ... NOTA_MT  TP_LINGUA  \\\n",
              "0                     1                4  ...   600.2     Inglês   \n",
              "1                     2                0  ...   731.8     Inglês   \n",
              "2                     2                0  ...   393.2   Espanhol   \n",
              "3                     2                0  ...   419.2     Inglês   \n",
              "4                     1                5  ...   796.1     Inglês   \n",
              "...                 ...              ...  ...     ...        ...   \n",
              "499935                1                1  ...   479.1   Espanhol   \n",
              "499936                2                0  ...    43.2   Espanhol   \n",
              "499937                2                0  ...   487.3     Inglês   \n",
              "499938                2                0  ...   401.1     Inglês   \n",
              "499939                2                0  ...   559.5     Inglês   \n",
              "\n",
              "        TP_STATUS_REDACAO  COMP1  COMP2  COMP3  COMP4  COMP5  NOTA_REDACAO  \\\n",
              "0                     1.0  160.0  200.0  180.0  200.0  200.0         940.0   \n",
              "1                     1.0  160.0  120.0  200.0  200.0  200.0         880.0   \n",
              "2                     1.0   80.0  160.0  120.0  100.0  100.0         560.0   \n",
              "3                     1.0  120.0  120.0  120.0  120.0   80.0         560.0   \n",
              "4                     1.0  160.0  200.0  180.0  180.0  160.0         880.0   \n",
              "...                   ...    ...    ...    ...    ...    ...           ...   \n",
              "499935                1.0  100.0  120.0  120.0  140.0  100.0         580.0   \n",
              "499936                1.0   80.0  120.0  140.0  120.0  100.0         560.0   \n",
              "499937                1.0  120.0   80.0   60.0  120.0    0.0         380.0   \n",
              "499938                1.0  160.0  120.0  160.0  140.0  160.0         740.0   \n",
              "499939                1.0  120.0  120.0  120.0  120.0  140.0         620.0   \n",
              "\n",
              "        INTERNET  \n",
              "0            Sim  \n",
              "1            Não  \n",
              "2            Sim  \n",
              "3            Sim  \n",
              "4            Sim  \n",
              "...          ...  \n",
              "499935       Sim  \n",
              "499936       Sim  \n",
              "499937       Sim  \n",
              "499938       Não  \n",
              "499939       Sim  \n",
              "\n",
              "[499940 rows x 35 columns]"
            ],
            "text/html": [
              "\n",
              "  <div id=\"df-710f32c9-da3e-489a-873d-be7d76242247\">\n",
              "    <div class=\"colab-df-container\">\n",
              "      <div>\n",
              "<style scoped>\n",
              "    .dataframe tbody tr th:only-of-type {\n",
              "        vertical-align: middle;\n",
              "    }\n",
              "\n",
              "    .dataframe tbody tr th {\n",
              "        vertical-align: top;\n",
              "    }\n",
              "\n",
              "    .dataframe thead th {\n",
              "        text-align: right;\n",
              "    }\n",
              "</style>\n",
              "<table border=\"1\" class=\"dataframe\">\n",
              "  <thead>\n",
              "    <tr style=\"text-align: right;\">\n",
              "      <th></th>\n",
              "      <th>NO_MUNICIPIO_RESIDENCIA</th>\n",
              "      <th>IDADE</th>\n",
              "      <th>SEXO</th>\n",
              "      <th>TP_ESTADO_CIVIL</th>\n",
              "      <th>RACA</th>\n",
              "      <th>TP_NACIONALIDADE</th>\n",
              "      <th>NO_MUNICIPIO_NASCIMENTO</th>\n",
              "      <th>SG_UF_NASCIMENTO</th>\n",
              "      <th>TP_ST_CONCLUSAO</th>\n",
              "      <th>TP_ANO_CONCLUIU</th>\n",
              "      <th>...</th>\n",
              "      <th>NOTA_MT</th>\n",
              "      <th>TP_LINGUA</th>\n",
              "      <th>TP_STATUS_REDACAO</th>\n",
              "      <th>COMP1</th>\n",
              "      <th>COMP2</th>\n",
              "      <th>COMP3</th>\n",
              "      <th>COMP4</th>\n",
              "      <th>COMP5</th>\n",
              "      <th>NOTA_REDACAO</th>\n",
              "      <th>INTERNET</th>\n",
              "    </tr>\n",
              "  </thead>\n",
              "  <tbody>\n",
              "    <tr>\n",
              "      <th>0</th>\n",
              "      <td>Santa Isabel</td>\n",
              "      <td>22</td>\n",
              "      <td>M</td>\n",
              "      <td>1</td>\n",
              "      <td>parda</td>\n",
              "      <td>1</td>\n",
              "      <td>Santa Izabel do Pará</td>\n",
              "      <td>PA</td>\n",
              "      <td>1</td>\n",
              "      <td>4</td>\n",
              "      <td>...</td>\n",
              "      <td>600.2</td>\n",
              "      <td>Inglês</td>\n",
              "      <td>1.0</td>\n",
              "      <td>160.0</td>\n",
              "      <td>200.0</td>\n",
              "      <td>180.0</td>\n",
              "      <td>200.0</td>\n",
              "      <td>200.0</td>\n",
              "      <td>940.0</td>\n",
              "      <td>Sim</td>\n",
              "    </tr>\n",
              "    <tr>\n",
              "      <th>1</th>\n",
              "      <td>São Paulo</td>\n",
              "      <td>17</td>\n",
              "      <td>F</td>\n",
              "      <td>1</td>\n",
              "      <td>parda</td>\n",
              "      <td>1</td>\n",
              "      <td>Belém</td>\n",
              "      <td>PA</td>\n",
              "      <td>2</td>\n",
              "      <td>0</td>\n",
              "      <td>...</td>\n",
              "      <td>731.8</td>\n",
              "      <td>Inglês</td>\n",
              "      <td>1.0</td>\n",
              "      <td>160.0</td>\n",
              "      <td>120.0</td>\n",
              "      <td>200.0</td>\n",
              "      <td>200.0</td>\n",
              "      <td>200.0</td>\n",
              "      <td>880.0</td>\n",
              "      <td>Não</td>\n",
              "    </tr>\n",
              "    <tr>\n",
              "      <th>2</th>\n",
              "      <td>São Bernardo do Campo</td>\n",
              "      <td>19</td>\n",
              "      <td>M</td>\n",
              "      <td>1</td>\n",
              "      <td>parda</td>\n",
              "      <td>1</td>\n",
              "      <td>São Bernardo do Campo</td>\n",
              "      <td>SP</td>\n",
              "      <td>2</td>\n",
              "      <td>0</td>\n",
              "      <td>...</td>\n",
              "      <td>393.2</td>\n",
              "      <td>Espanhol</td>\n",
              "      <td>1.0</td>\n",
              "      <td>80.0</td>\n",
              "      <td>160.0</td>\n",
              "      <td>120.0</td>\n",
              "      <td>100.0</td>\n",
              "      <td>100.0</td>\n",
              "      <td>560.0</td>\n",
              "      <td>Sim</td>\n",
              "    </tr>\n",
              "    <tr>\n",
              "      <th>3</th>\n",
              "      <td>Embu-Guaçu</td>\n",
              "      <td>17</td>\n",
              "      <td>F</td>\n",
              "      <td>1</td>\n",
              "      <td>parda</td>\n",
              "      <td>1</td>\n",
              "      <td>Itacoatiara</td>\n",
              "      <td>AM</td>\n",
              "      <td>2</td>\n",
              "      <td>0</td>\n",
              "      <td>...</td>\n",
              "      <td>419.2</td>\n",
              "      <td>Inglês</td>\n",
              "      <td>1.0</td>\n",
              "      <td>120.0</td>\n",
              "      <td>120.0</td>\n",
              "      <td>120.0</td>\n",
              "      <td>120.0</td>\n",
              "      <td>80.0</td>\n",
              "      <td>560.0</td>\n",
              "      <td>Sim</td>\n",
              "    </tr>\n",
              "    <tr>\n",
              "      <th>4</th>\n",
              "      <td>Guarulhos</td>\n",
              "      <td>23</td>\n",
              "      <td>F</td>\n",
              "      <td>1</td>\n",
              "      <td>branca</td>\n",
              "      <td>1</td>\n",
              "      <td>São Paulo</td>\n",
              "      <td>SP</td>\n",
              "      <td>1</td>\n",
              "      <td>5</td>\n",
              "      <td>...</td>\n",
              "      <td>796.1</td>\n",
              "      <td>Inglês</td>\n",
              "      <td>1.0</td>\n",
              "      <td>160.0</td>\n",
              "      <td>200.0</td>\n",
              "      <td>180.0</td>\n",
              "      <td>180.0</td>\n",
              "      <td>160.0</td>\n",
              "      <td>880.0</td>\n",
              "      <td>Sim</td>\n",
              "    </tr>\n",
              "    <tr>\n",
              "      <th>...</th>\n",
              "      <td>...</td>\n",
              "      <td>...</td>\n",
              "      <td>...</td>\n",
              "      <td>...</td>\n",
              "      <td>...</td>\n",
              "      <td>...</td>\n",
              "      <td>...</td>\n",
              "      <td>...</td>\n",
              "      <td>...</td>\n",
              "      <td>...</td>\n",
              "      <td>...</td>\n",
              "      <td>...</td>\n",
              "      <td>...</td>\n",
              "      <td>...</td>\n",
              "      <td>...</td>\n",
              "      <td>...</td>\n",
              "      <td>...</td>\n",
              "      <td>...</td>\n",
              "      <td>...</td>\n",
              "      <td>...</td>\n",
              "      <td>...</td>\n",
              "    </tr>\n",
              "    <tr>\n",
              "      <th>499935</th>\n",
              "      <td>São Paulo</td>\n",
              "      <td>18</td>\n",
              "      <td>F</td>\n",
              "      <td>1</td>\n",
              "      <td>parda</td>\n",
              "      <td>1</td>\n",
              "      <td>São Paulo</td>\n",
              "      <td>SP</td>\n",
              "      <td>1</td>\n",
              "      <td>1</td>\n",
              "      <td>...</td>\n",
              "      <td>479.1</td>\n",
              "      <td>Espanhol</td>\n",
              "      <td>1.0</td>\n",
              "      <td>100.0</td>\n",
              "      <td>120.0</td>\n",
              "      <td>120.0</td>\n",
              "      <td>140.0</td>\n",
              "      <td>100.0</td>\n",
              "      <td>580.0</td>\n",
              "      <td>Sim</td>\n",
              "    </tr>\n",
              "    <tr>\n",
              "      <th>499936</th>\n",
              "      <td>São Paulo</td>\n",
              "      <td>17</td>\n",
              "      <td>F</td>\n",
              "      <td>1</td>\n",
              "      <td>preta</td>\n",
              "      <td>1</td>\n",
              "      <td>São Paulo</td>\n",
              "      <td>SP</td>\n",
              "      <td>2</td>\n",
              "      <td>0</td>\n",
              "      <td>...</td>\n",
              "      <td>43.2</td>\n",
              "      <td>Espanhol</td>\n",
              "      <td>1.0</td>\n",
              "      <td>80.0</td>\n",
              "      <td>120.0</td>\n",
              "      <td>140.0</td>\n",
              "      <td>120.0</td>\n",
              "      <td>100.0</td>\n",
              "      <td>560.0</td>\n",
              "      <td>Sim</td>\n",
              "    </tr>\n",
              "    <tr>\n",
              "      <th>499937</th>\n",
              "      <td>São Paulo</td>\n",
              "      <td>17</td>\n",
              "      <td>F</td>\n",
              "      <td>1</td>\n",
              "      <td>parda</td>\n",
              "      <td>1</td>\n",
              "      <td>São Paulo</td>\n",
              "      <td>SP</td>\n",
              "      <td>2</td>\n",
              "      <td>0</td>\n",
              "      <td>...</td>\n",
              "      <td>487.3</td>\n",
              "      <td>Inglês</td>\n",
              "      <td>1.0</td>\n",
              "      <td>120.0</td>\n",
              "      <td>80.0</td>\n",
              "      <td>60.0</td>\n",
              "      <td>120.0</td>\n",
              "      <td>0.0</td>\n",
              "      <td>380.0</td>\n",
              "      <td>Sim</td>\n",
              "    </tr>\n",
              "    <tr>\n",
              "      <th>499938</th>\n",
              "      <td>São Paulo</td>\n",
              "      <td>17</td>\n",
              "      <td>M</td>\n",
              "      <td>1</td>\n",
              "      <td>parda</td>\n",
              "      <td>1</td>\n",
              "      <td>São Paulo</td>\n",
              "      <td>SP</td>\n",
              "      <td>2</td>\n",
              "      <td>0</td>\n",
              "      <td>...</td>\n",
              "      <td>401.1</td>\n",
              "      <td>Inglês</td>\n",
              "      <td>1.0</td>\n",
              "      <td>160.0</td>\n",
              "      <td>120.0</td>\n",
              "      <td>160.0</td>\n",
              "      <td>140.0</td>\n",
              "      <td>160.0</td>\n",
              "      <td>740.0</td>\n",
              "      <td>Não</td>\n",
              "    </tr>\n",
              "    <tr>\n",
              "      <th>499939</th>\n",
              "      <td>Araras</td>\n",
              "      <td>18</td>\n",
              "      <td>F</td>\n",
              "      <td>1</td>\n",
              "      <td>branca</td>\n",
              "      <td>1</td>\n",
              "      <td>Araras</td>\n",
              "      <td>SP</td>\n",
              "      <td>2</td>\n",
              "      <td>0</td>\n",
              "      <td>...</td>\n",
              "      <td>559.5</td>\n",
              "      <td>Inglês</td>\n",
              "      <td>1.0</td>\n",
              "      <td>120.0</td>\n",
              "      <td>120.0</td>\n",
              "      <td>120.0</td>\n",
              "      <td>120.0</td>\n",
              "      <td>140.0</td>\n",
              "      <td>620.0</td>\n",
              "      <td>Sim</td>\n",
              "    </tr>\n",
              "  </tbody>\n",
              "</table>\n",
              "<p>499940 rows × 35 columns</p>\n",
              "</div>\n",
              "      <button class=\"colab-df-convert\" onclick=\"convertToInteractive('df-710f32c9-da3e-489a-873d-be7d76242247')\"\n",
              "              title=\"Convert this dataframe to an interactive table.\"\n",
              "              style=\"display:none;\">\n",
              "        \n",
              "  <svg xmlns=\"http://www.w3.org/2000/svg\" height=\"24px\"viewBox=\"0 0 24 24\"\n",
              "       width=\"24px\">\n",
              "    <path d=\"M0 0h24v24H0V0z\" fill=\"none\"/>\n",
              "    <path d=\"M18.56 5.44l.94 2.06.94-2.06 2.06-.94-2.06-.94-.94-2.06-.94 2.06-2.06.94zm-11 1L8.5 8.5l.94-2.06 2.06-.94-2.06-.94L8.5 2.5l-.94 2.06-2.06.94zm10 10l.94 2.06.94-2.06 2.06-.94-2.06-.94-.94-2.06-.94 2.06-2.06.94z\"/><path d=\"M17.41 7.96l-1.37-1.37c-.4-.4-.92-.59-1.43-.59-.52 0-1.04.2-1.43.59L10.3 9.45l-7.72 7.72c-.78.78-.78 2.05 0 2.83L4 21.41c.39.39.9.59 1.41.59.51 0 1.02-.2 1.41-.59l7.78-7.78 2.81-2.81c.8-.78.8-2.07 0-2.86zM5.41 20L4 18.59l7.72-7.72 1.47 1.35L5.41 20z\"/>\n",
              "  </svg>\n",
              "      </button>\n",
              "      \n",
              "  <style>\n",
              "    .colab-df-container {\n",
              "      display:flex;\n",
              "      flex-wrap:wrap;\n",
              "      gap: 12px;\n",
              "    }\n",
              "\n",
              "    .colab-df-convert {\n",
              "      background-color: #E8F0FE;\n",
              "      border: none;\n",
              "      border-radius: 50%;\n",
              "      cursor: pointer;\n",
              "      display: none;\n",
              "      fill: #1967D2;\n",
              "      height: 32px;\n",
              "      padding: 0 0 0 0;\n",
              "      width: 32px;\n",
              "    }\n",
              "\n",
              "    .colab-df-convert:hover {\n",
              "      background-color: #E2EBFA;\n",
              "      box-shadow: 0px 1px 2px rgba(60, 64, 67, 0.3), 0px 1px 3px 1px rgba(60, 64, 67, 0.15);\n",
              "      fill: #174EA6;\n",
              "    }\n",
              "\n",
              "    [theme=dark] .colab-df-convert {\n",
              "      background-color: #3B4455;\n",
              "      fill: #D2E3FC;\n",
              "    }\n",
              "\n",
              "    [theme=dark] .colab-df-convert:hover {\n",
              "      background-color: #434B5C;\n",
              "      box-shadow: 0px 1px 3px 1px rgba(0, 0, 0, 0.15);\n",
              "      filter: drop-shadow(0px 1px 2px rgba(0, 0, 0, 0.3));\n",
              "      fill: #FFFFFF;\n",
              "    }\n",
              "  </style>\n",
              "\n",
              "      <script>\n",
              "        const buttonEl =\n",
              "          document.querySelector('#df-710f32c9-da3e-489a-873d-be7d76242247 button.colab-df-convert');\n",
              "        buttonEl.style.display =\n",
              "          google.colab.kernel.accessAllowed ? 'block' : 'none';\n",
              "\n",
              "        async function convertToInteractive(key) {\n",
              "          const element = document.querySelector('#df-710f32c9-da3e-489a-873d-be7d76242247');\n",
              "          const dataTable =\n",
              "            await google.colab.kernel.invokeFunction('convertToInteractive',\n",
              "                                                     [key], {});\n",
              "          if (!dataTable) return;\n",
              "\n",
              "          const docLinkHtml = 'Like what you see? Visit the ' +\n",
              "            '<a target=\"_blank\" href=https://colab.research.google.com/notebooks/data_table.ipynb>data table notebook</a>'\n",
              "            + ' to learn more about interactive tables.';\n",
              "          element.innerHTML = '';\n",
              "          dataTable['output_type'] = 'display_data';\n",
              "          await google.colab.output.renderOutput(dataTable, element);\n",
              "          const docLink = document.createElement('div');\n",
              "          docLink.innerHTML = docLinkHtml;\n",
              "          element.appendChild(docLink);\n",
              "        }\n",
              "      </script>\n",
              "    </div>\n",
              "  </div>\n",
              "  "
            ]
          },
          "metadata": {},
          "execution_count": 3
        }
      ]
    },
    {
      "cell_type": "markdown",
      "metadata": {
        "id": "YeJLPvqqzVyi"
      },
      "source": [
        "## Medidas de Posição"
      ]
    },
    {
      "cell_type": "markdown",
      "source": [
        "Selecionamos a nota da matemáticas dos candidatos do ENEM em SP para acharmos a mínima nota obtida."
      ],
      "metadata": {
        "id": "Pu2aOnQSc5eB"
      }
    },
    {
      "cell_type": "code",
      "metadata": {
        "colab": {
          "base_uri": "https://localhost:8080/"
        },
        "id": "AYmsAgKt1CTO",
        "outputId": "8de9b8e6-091d-4352-fed5-bbaa8f7e406a"
      },
      "source": [
        "enem_sp['NOTA_MT'].min()"
      ],
      "execution_count": 4,
      "outputs": [
        {
          "output_type": "execute_result",
          "data": {
            "text/plain": [
              "0.0"
            ]
          },
          "metadata": {},
          "execution_count": 4
        }
      ]
    },
    {
      "cell_type": "code",
      "metadata": {
        "colab": {
          "base_uri": "https://localhost:8080/"
        },
        "id": "-wULQGUC1Hc9",
        "outputId": "0928ca51-5bee-4b0f-d8be-f2c9db31244d"
      },
      "source": [
        "enem_sp.NOTA_MT.min()"
      ],
      "execution_count": 5,
      "outputs": [
        {
          "output_type": "execute_result",
          "data": {
            "text/plain": [
              "0.0"
            ]
          },
          "metadata": {},
          "execution_count": 5
        }
      ]
    },
    {
      "cell_type": "markdown",
      "source": [
        "Isto sugere que, praticamente teve alunos que não estudaram absolutamente nada para essa prova."
      ],
      "metadata": {
        "id": "asr77IcVOuJt"
      }
    },
    {
      "cell_type": "markdown",
      "source": [
        "Analogamente, achamos a nota máxima obtida em Matemáticas."
      ],
      "metadata": {
        "id": "fSK4K3CUO2U_"
      }
    },
    {
      "cell_type": "code",
      "metadata": {
        "colab": {
          "base_uri": "https://localhost:8080/"
        },
        "id": "yRoz7NO41Nmf",
        "outputId": "36457ba8-3569-43c9-e238-9b6206dfd3e2"
      },
      "source": [
        "enem_sp['NOTA_MT'].max()"
      ],
      "execution_count": 6,
      "outputs": [
        {
          "output_type": "execute_result",
          "data": {
            "text/plain": [
              "984.7"
            ]
          },
          "metadata": {},
          "execution_count": 6
        }
      ]
    },
    {
      "cell_type": "markdown",
      "source": [
        "Isto sugere que teve alunos, que quase atingiram a máxima pontuação."
      ],
      "metadata": {
        "id": "HRG6SHGDPYKy"
      }
    },
    {
      "cell_type": "markdown",
      "source": [
        "Agora, vamos a achar os Q1, Q2 e Q3 (quartis)."
      ],
      "metadata": {
        "id": "OGVN_xQDPeK5"
      }
    },
    {
      "cell_type": "code",
      "metadata": {
        "colab": {
          "base_uri": "https://localhost:8080/"
        },
        "id": "Piy39Kgszaxr",
        "outputId": "e027329e-4f72-4e26-f98a-f17f930a2a21"
      },
      "source": [
        "# Primeiro Quartil\n",
        "enem_sp['NOTA_MT'].quantile(q=0.25)"
      ],
      "execution_count": 7,
      "outputs": [
        {
          "output_type": "execute_result",
          "data": {
            "text/plain": [
              "427.9"
            ]
          },
          "metadata": {},
          "execution_count": 7
        }
      ]
    },
    {
      "cell_type": "markdown",
      "source": [
        "O 25% do total das notas dos alunos concentrou-se no intervalo de 0 (nota minima) até a nota 428 aprox."
      ],
      "metadata": {
        "id": "feDPPi_zSnDw"
      }
    },
    {
      "cell_type": "code",
      "metadata": {
        "colab": {
          "base_uri": "https://localhost:8080/"
        },
        "id": "uxLfONSm0z1i",
        "outputId": "e65adb24-6a82-4db8-8086-fe8badee08f9"
      },
      "source": [
        "# Segundo Quartil (Mediana)\n",
        "enem_sp['NOTA_MT'].quantile(q=0.5)"
      ],
      "execution_count": 8,
      "outputs": [
        {
          "output_type": "execute_result",
          "data": {
            "text/plain": [
              "511.8"
            ]
          },
          "metadata": {},
          "execution_count": 8
        }
      ]
    },
    {
      "cell_type": "markdown",
      "source": [
        "O 50% do total das notas se concentrou no interval de 0 (nota minima) até a nota 512 aprox."
      ],
      "metadata": {
        "id": "UEYZXVq0SYPn"
      }
    },
    {
      "cell_type": "code",
      "metadata": {
        "colab": {
          "base_uri": "https://localhost:8080/"
        },
        "id": "YSMI_ZLK08Y2",
        "outputId": "408b7a68-44fb-4afa-c5b1-a721917a8369"
      },
      "source": [
        "# Terceiro Quartil\n",
        "enem_sp['NOTA_MT'].quantile(q=0.75)"
      ],
      "execution_count": 10,
      "outputs": [
        {
          "output_type": "execute_result",
          "data": {
            "text/plain": [
              "617.9"
            ]
          },
          "metadata": {},
          "execution_count": 10
        }
      ]
    },
    {
      "cell_type": "markdown",
      "source": [
        "O 75% do total de notas se concetra no interval de 0 (nota minima) até a nota 618 aprox."
      ],
      "metadata": {
        "id": "lMHtgmtWSBZs"
      }
    },
    {
      "cell_type": "markdown",
      "source": [
        "Podemos também calcular todas as medidas de centralidade, dispersão e posição de uma ves só para a nota de matemática."
      ],
      "metadata": {
        "id": "yvTVNWNOTBop"
      }
    },
    {
      "cell_type": "code",
      "metadata": {
        "colab": {
          "base_uri": "https://localhost:8080/"
        },
        "id": "VTbWkdlK1ddF",
        "outputId": "4adf72c7-a968-4768-ef8a-aa8bdc4ff089"
      },
      "source": [
        "enem_sp.NOTA_MT.describe()"
      ],
      "execution_count": 12,
      "outputs": [
        {
          "output_type": "execute_result",
          "data": {
            "text/plain": [
              "count    499940.000000\n",
              "mean        497.594240\n",
              "std         183.465175\n",
              "min           0.000000\n",
              "25%         427.900000\n",
              "50%         511.800000\n",
              "75%         617.900000\n",
              "max         984.700000\n",
              "Name: NOTA_MT, dtype: float64"
            ]
          },
          "metadata": {},
          "execution_count": 12
        }
      ]
    },
    {
      "cell_type": "markdown",
      "source": [
        "Agora iremos a analisar brevemente a notas da redação com suas componente."
      ],
      "metadata": {
        "id": "kIBp_c_1URqX"
      }
    },
    {
      "cell_type": "code",
      "metadata": {
        "colab": {
          "base_uri": "https://localhost:8080/",
          "height": 300
        },
        "id": "YRaniQpX1x_U",
        "outputId": "85877e78-22a8-4f9b-d946-ee26fa2127f8"
      },
      "source": [
        "enem_sp[['COMP1', 'COMP2', 'COMP3', 'COMP4', 'COMP5', 'NOTA_REDACAO']].describe()"
      ],
      "execution_count": 14,
      "outputs": [
        {
          "output_type": "execute_result",
          "data": {
            "text/plain": [
              "               COMP1          COMP2          COMP3          COMP4  \\\n",
              "count  499940.000000  499940.000000  499940.000000  499940.000000   \n",
              "mean      125.000760     127.066808     118.760691     124.989359   \n",
              "std        28.629513      39.846083      36.778882      33.879299   \n",
              "min         0.000000       0.000000       0.000000       0.000000   \n",
              "25%       120.000000     120.000000     100.000000     120.000000   \n",
              "50%       120.000000     120.000000     120.000000     120.000000   \n",
              "75%       140.000000     140.000000     140.000000     140.000000   \n",
              "max       200.000000     200.000000     200.000000     200.000000   \n",
              "\n",
              "               COMP5   NOTA_REDACAO  \n",
              "count  499940.000000  499940.000000  \n",
              "mean       97.200704     593.018322  \n",
              "std        57.787427     170.536724  \n",
              "min         0.000000       0.000000  \n",
              "25%        60.000000     500.000000  \n",
              "50%       100.000000     600.000000  \n",
              "75%       140.000000     680.000000  \n",
              "max       200.000000    1000.000000  "
            ],
            "text/html": [
              "\n",
              "  <div id=\"df-81f2d819-c060-44a7-8555-a33985c0ced4\">\n",
              "    <div class=\"colab-df-container\">\n",
              "      <div>\n",
              "<style scoped>\n",
              "    .dataframe tbody tr th:only-of-type {\n",
              "        vertical-align: middle;\n",
              "    }\n",
              "\n",
              "    .dataframe tbody tr th {\n",
              "        vertical-align: top;\n",
              "    }\n",
              "\n",
              "    .dataframe thead th {\n",
              "        text-align: right;\n",
              "    }\n",
              "</style>\n",
              "<table border=\"1\" class=\"dataframe\">\n",
              "  <thead>\n",
              "    <tr style=\"text-align: right;\">\n",
              "      <th></th>\n",
              "      <th>COMP1</th>\n",
              "      <th>COMP2</th>\n",
              "      <th>COMP3</th>\n",
              "      <th>COMP4</th>\n",
              "      <th>COMP5</th>\n",
              "      <th>NOTA_REDACAO</th>\n",
              "    </tr>\n",
              "  </thead>\n",
              "  <tbody>\n",
              "    <tr>\n",
              "      <th>count</th>\n",
              "      <td>499940.000000</td>\n",
              "      <td>499940.000000</td>\n",
              "      <td>499940.000000</td>\n",
              "      <td>499940.000000</td>\n",
              "      <td>499940.000000</td>\n",
              "      <td>499940.000000</td>\n",
              "    </tr>\n",
              "    <tr>\n",
              "      <th>mean</th>\n",
              "      <td>125.000760</td>\n",
              "      <td>127.066808</td>\n",
              "      <td>118.760691</td>\n",
              "      <td>124.989359</td>\n",
              "      <td>97.200704</td>\n",
              "      <td>593.018322</td>\n",
              "    </tr>\n",
              "    <tr>\n",
              "      <th>std</th>\n",
              "      <td>28.629513</td>\n",
              "      <td>39.846083</td>\n",
              "      <td>36.778882</td>\n",
              "      <td>33.879299</td>\n",
              "      <td>57.787427</td>\n",
              "      <td>170.536724</td>\n",
              "    </tr>\n",
              "    <tr>\n",
              "      <th>min</th>\n",
              "      <td>0.000000</td>\n",
              "      <td>0.000000</td>\n",
              "      <td>0.000000</td>\n",
              "      <td>0.000000</td>\n",
              "      <td>0.000000</td>\n",
              "      <td>0.000000</td>\n",
              "    </tr>\n",
              "    <tr>\n",
              "      <th>25%</th>\n",
              "      <td>120.000000</td>\n",
              "      <td>120.000000</td>\n",
              "      <td>100.000000</td>\n",
              "      <td>120.000000</td>\n",
              "      <td>60.000000</td>\n",
              "      <td>500.000000</td>\n",
              "    </tr>\n",
              "    <tr>\n",
              "      <th>50%</th>\n",
              "      <td>120.000000</td>\n",
              "      <td>120.000000</td>\n",
              "      <td>120.000000</td>\n",
              "      <td>120.000000</td>\n",
              "      <td>100.000000</td>\n",
              "      <td>600.000000</td>\n",
              "    </tr>\n",
              "    <tr>\n",
              "      <th>75%</th>\n",
              "      <td>140.000000</td>\n",
              "      <td>140.000000</td>\n",
              "      <td>140.000000</td>\n",
              "      <td>140.000000</td>\n",
              "      <td>140.000000</td>\n",
              "      <td>680.000000</td>\n",
              "    </tr>\n",
              "    <tr>\n",
              "      <th>max</th>\n",
              "      <td>200.000000</td>\n",
              "      <td>200.000000</td>\n",
              "      <td>200.000000</td>\n",
              "      <td>200.000000</td>\n",
              "      <td>200.000000</td>\n",
              "      <td>1000.000000</td>\n",
              "    </tr>\n",
              "  </tbody>\n",
              "</table>\n",
              "</div>\n",
              "      <button class=\"colab-df-convert\" onclick=\"convertToInteractive('df-81f2d819-c060-44a7-8555-a33985c0ced4')\"\n",
              "              title=\"Convert this dataframe to an interactive table.\"\n",
              "              style=\"display:none;\">\n",
              "        \n",
              "  <svg xmlns=\"http://www.w3.org/2000/svg\" height=\"24px\"viewBox=\"0 0 24 24\"\n",
              "       width=\"24px\">\n",
              "    <path d=\"M0 0h24v24H0V0z\" fill=\"none\"/>\n",
              "    <path d=\"M18.56 5.44l.94 2.06.94-2.06 2.06-.94-2.06-.94-.94-2.06-.94 2.06-2.06.94zm-11 1L8.5 8.5l.94-2.06 2.06-.94-2.06-.94L8.5 2.5l-.94 2.06-2.06.94zm10 10l.94 2.06.94-2.06 2.06-.94-2.06-.94-.94-2.06-.94 2.06-2.06.94z\"/><path d=\"M17.41 7.96l-1.37-1.37c-.4-.4-.92-.59-1.43-.59-.52 0-1.04.2-1.43.59L10.3 9.45l-7.72 7.72c-.78.78-.78 2.05 0 2.83L4 21.41c.39.39.9.59 1.41.59.51 0 1.02-.2 1.41-.59l7.78-7.78 2.81-2.81c.8-.78.8-2.07 0-2.86zM5.41 20L4 18.59l7.72-7.72 1.47 1.35L5.41 20z\"/>\n",
              "  </svg>\n",
              "      </button>\n",
              "      \n",
              "  <style>\n",
              "    .colab-df-container {\n",
              "      display:flex;\n",
              "      flex-wrap:wrap;\n",
              "      gap: 12px;\n",
              "    }\n",
              "\n",
              "    .colab-df-convert {\n",
              "      background-color: #E8F0FE;\n",
              "      border: none;\n",
              "      border-radius: 50%;\n",
              "      cursor: pointer;\n",
              "      display: none;\n",
              "      fill: #1967D2;\n",
              "      height: 32px;\n",
              "      padding: 0 0 0 0;\n",
              "      width: 32px;\n",
              "    }\n",
              "\n",
              "    .colab-df-convert:hover {\n",
              "      background-color: #E2EBFA;\n",
              "      box-shadow: 0px 1px 2px rgba(60, 64, 67, 0.3), 0px 1px 3px 1px rgba(60, 64, 67, 0.15);\n",
              "      fill: #174EA6;\n",
              "    }\n",
              "\n",
              "    [theme=dark] .colab-df-convert {\n",
              "      background-color: #3B4455;\n",
              "      fill: #D2E3FC;\n",
              "    }\n",
              "\n",
              "    [theme=dark] .colab-df-convert:hover {\n",
              "      background-color: #434B5C;\n",
              "      box-shadow: 0px 1px 3px 1px rgba(0, 0, 0, 0.15);\n",
              "      filter: drop-shadow(0px 1px 2px rgba(0, 0, 0, 0.3));\n",
              "      fill: #FFFFFF;\n",
              "    }\n",
              "  </style>\n",
              "\n",
              "      <script>\n",
              "        const buttonEl =\n",
              "          document.querySelector('#df-81f2d819-c060-44a7-8555-a33985c0ced4 button.colab-df-convert');\n",
              "        buttonEl.style.display =\n",
              "          google.colab.kernel.accessAllowed ? 'block' : 'none';\n",
              "\n",
              "        async function convertToInteractive(key) {\n",
              "          const element = document.querySelector('#df-81f2d819-c060-44a7-8555-a33985c0ced4');\n",
              "          const dataTable =\n",
              "            await google.colab.kernel.invokeFunction('convertToInteractive',\n",
              "                                                     [key], {});\n",
              "          if (!dataTable) return;\n",
              "\n",
              "          const docLinkHtml = 'Like what you see? Visit the ' +\n",
              "            '<a target=\"_blank\" href=https://colab.research.google.com/notebooks/data_table.ipynb>data table notebook</a>'\n",
              "            + ' to learn more about interactive tables.';\n",
              "          element.innerHTML = '';\n",
              "          dataTable['output_type'] = 'display_data';\n",
              "          await google.colab.output.renderOutput(dataTable, element);\n",
              "          const docLink = document.createElement('div');\n",
              "          docLink.innerHTML = docLinkHtml;\n",
              "          element.appendChild(docLink);\n",
              "        }\n",
              "      </script>\n",
              "    </div>\n",
              "  </div>\n",
              "  "
            ]
          },
          "metadata": {},
          "execution_count": 14
        }
      ]
    },
    {
      "cell_type": "markdown",
      "source": [
        "Em relação aos quartis das componentes:\n",
        "- O Q1 e Q2 das componentes 1, 2 e 4 ao serem iguais a 120 pontos, isto sugere que aprox. o 25% do total das notas dos alunos é igual a 120 pontos;\n",
        "- Note-se que para todas as componentes, o Q3 é o mesmo e igual a 140 pontos;\n",
        "- Dentre todas as Q1 das componentes, a Q1 da COMP5 possui um intervalo de notas menor [0 - 60] que incorpora o 25% das notas do total de alunos."
      ],
      "metadata": {
        "id": "feT1xKGqW7-6"
      }
    }
  ]
}
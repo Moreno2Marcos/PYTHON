{
 "cells": [
  {
   "cell_type": "markdown",
   "id": "27f4b513",
   "metadata": {},
   "source": [
    "## 7- A frequência de \"Movies\" de todos os dados e comparativamente em relação as duas plataformas"
   ]
  },
  {
   "cell_type": "code",
   "execution_count": 1,
   "id": "771885e3",
   "metadata": {},
   "outputs": [],
   "source": [
    "# importamos a biblioteca pandas\n",
    "import pandas as pd"
   ]
  },
  {
   "cell_type": "markdown",
   "id": "f82821a1",
   "metadata": {},
   "source": [
    "### Considerando TODOS os dados"
   ]
  },
  {
   "cell_type": "code",
   "execution_count": 2,
   "id": "daadb1bd",
   "metadata": {},
   "outputs": [
    {
     "data": {
      "text/plain": [
       "13945"
      ]
     },
     "execution_count": 2,
     "metadata": {},
     "output_type": "execute_result"
    }
   ],
   "source": [
    "# carregamos dados do Netflix e Amazon\n",
    "netflix = pd.read_csv('netflix_titles.csv')\n",
    "amazon_prime = pd.read_csv('amazon_prime_titles.csv')\n",
    "# concatenamos os dados\n",
    "all_data = pd.concat([netflix, amazon_prime], ignore_index=True)\n",
    "# filtramos apenas por filmes\n",
    "all_data = all_data[all_data['type']=='Movie']\n",
    "# resetamos os indices\n",
    "all_data.reset_index(inplace=True, drop=True)\n",
    "# calculamos o numero de registros (frequencia) do tipo TV Show\n",
    "len(all_data)"
   ]
  },
  {
   "cell_type": "markdown",
   "id": "bcbf2f3e",
   "metadata": {},
   "source": [
    "### Dados do Netflix"
   ]
  },
  {
   "cell_type": "code",
   "execution_count": 3,
   "id": "1dbaa6cb",
   "metadata": {},
   "outputs": [
    {
     "data": {
      "text/plain": [
       "6131"
      ]
     },
     "execution_count": 3,
     "metadata": {},
     "output_type": "execute_result"
    }
   ],
   "source": [
    "# carregamos dados do Netflix\n",
    "netflix = pd.read_csv('netflix_titles.csv')\n",
    "# filtramos apenas por TV Show\n",
    "netflix = netflix[netflix['type']=='Movie']\n",
    "# resetamos os indices\n",
    "netflix.reset_index(inplace=True, drop=True)\n",
    "# calculamos o numero de registros (frequencia) do tipo TV Show\n",
    "len(netflix)"
   ]
  },
  {
   "cell_type": "markdown",
   "id": "ce4ddcfa",
   "metadata": {},
   "source": [
    "### Dados da Amazon"
   ]
  },
  {
   "cell_type": "code",
   "execution_count": 4,
   "id": "bdd62825",
   "metadata": {},
   "outputs": [
    {
     "data": {
      "text/plain": [
       "7814"
      ]
     },
     "execution_count": 4,
     "metadata": {},
     "output_type": "execute_result"
    }
   ],
   "source": [
    "# carregamos dados do Netflix\n",
    "amazon = pd.read_csv('amazon_prime_titles.csv')\n",
    "# filtramos apenas por TV Show\n",
    "amazon = amazon[amazon['type']=='Movie']\n",
    "# resetamos os indices\n",
    "amazon.reset_index(inplace=True, drop=True)\n",
    "# calculamos o numero de registros (frequencia) do tipo TV Show\n",
    "len(amazon)"
   ]
  },
  {
   "cell_type": "markdown",
   "id": "ac4f966f",
   "metadata": {},
   "source": [
    "## Análise Comparativa\n",
    "#### Na plataforma Netflix tem-se 6131 registros o que representa  (6131 / 13945) % ou 44% do total de registros do tipo Movie.\n",
    "#### Na plataforma Amazon 7814 registros, equivalente a (7814 / 13945) % ou  56% do total de registros do tipo Movie.\n",
    "#### Existe uma diferença de 12% entre plataformas. On a plataforma Amazon possui a maior porcentagem de Movies."
   ]
  }
 ],
 "metadata": {
  "kernelspec": {
   "display_name": "Python 3 (ipykernel)",
   "language": "python",
   "name": "python3"
  },
  "language_info": {
   "codemirror_mode": {
    "name": "ipython",
    "version": 3
   },
   "file_extension": ".py",
   "mimetype": "text/x-python",
   "name": "python",
   "nbconvert_exporter": "python",
   "pygments_lexer": "ipython3",
   "version": "3.9.7"
  }
 },
 "nbformat": 4,
 "nbformat_minor": 5
}
